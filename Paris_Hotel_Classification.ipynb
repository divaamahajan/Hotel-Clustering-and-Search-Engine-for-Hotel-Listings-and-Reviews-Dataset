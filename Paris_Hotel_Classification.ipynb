{
  "nbformat": 4,
  "nbformat_minor": 0,
  "metadata": {
    "colab": {
      "provenance": [],
      "include_colab_link": true
    },
    "kernelspec": {
      "name": "python3",
      "display_name": "Python 3"
    },
    "language_info": {
      "name": "python"
    },
    "gpuClass": "standard"
  },
  "cells": [
    {
      "cell_type": "markdown",
      "metadata": {
        "id": "view-in-github",
        "colab_type": "text"
      },
      "source": [
        "<a href=\"https://colab.research.google.com/github/divaamahajan/Hotel-Clustering-and-Search-Engine-for-Hotel-Listings-and-Reviews-Dataset/blob/main/Paris_Hotel_Classification.ipynb\" target=\"_parent\"><img src=\"https://colab.research.google.com/assets/colab-badge.svg\" alt=\"Open In Colab\"/></a>"
      ]
    },
    {
      "cell_type": "markdown",
      "source": [
        "# Introduction"
      ],
      "metadata": {
        "id": "dt8MyPTR_8Ug"
      }
    },
    {
      "cell_type": "markdown",
      "source": [
        "This project aims to cluster Paris hotels and build a search engine for the Paris hotel listings and reviews dataset using natural language processing (NLP) techniques. First, the Paris hotel dataset is cleaned and analyzed through exploratory data analysis (EDA) to identify patterns and insights. Hotel descriptions for Paris hotels are then encoded using techniques such as TF-IDF and word embeddings to cluster similar Paris hotels using k-means and hierarchical clustering algorithms. Next, the Paris hotel clusters are interpreted to understand common themes or patterns. Finally, a search engine is built using FAISS to allow users to search for Paris hotels based on their queries. The project provides insights into the Paris hotel industry and demonstrates the use of NLP techniques for clustering and search applications."
      ],
      "metadata": {
        "id": "EEf9_gEzFi9n"
      }
    },
    {
      "cell_type": "code",
      "source": [
        "import warnings\n",
        "warnings.filterwarnings(\"ignore\")"
      ],
      "metadata": {
        "id": "n4MBmq3EjEUQ"
      },
      "execution_count": null,
      "outputs": []
    },
    {
      "cell_type": "code",
      "source": [
        "from sklearn.feature_extraction.text import TfidfVectorizer\n",
        "from sklearn.cluster import KMeans\n",
        "from sklearn.metrics import silhouette_score\n",
        "from sklearn.decomposition import PCA\n",
        "import matplotlib.pyplot as plt\n",
        "import seaborn as sns\n",
        "import pandas as pd\n",
        "import numpy as np\n",
        "from nltk import pos_tag\n",
        "from nltk.tokenize import word_tokenize\n",
        "import gensim\n",
        "import re\n",
        "import string\n",
        "from gensim import corpora\n",
        "from nltk.corpus import stopwords\n",
        "from gensim.utils import simple_preprocess\n",
        "from nltk.stem import WordNetLemmatizer, SnowballStemmer\n",
        "from nltk.stem.porter import *\n",
        "from sklearn.feature_extraction.text import ENGLISH_STOP_WORDS\n",
        "stop_words = list(ENGLISH_STOP_WORDS)\n",
        "\n",
        "import nltk\n",
        "nltk.download('wordnet')\n",
        "nltk.download('stopwords')\n",
        "nltk.download('omw-1.4')\n",
        "nltk.download('punkt')\n",
        "nltk.download('averaged_perceptron_tagger')\n",
        "nltk.download('punkt')\n",
        "\n",
        "!pip install visualise-spacy-tree\n",
        "!pip install spacytextblob\n",
        "\n",
        "import spacy\n",
        "from spacy.matcher import Matcher \n",
        "from spacytextblob.spacytextblob import SpacyTextBlob\n",
        "from spacy import displacy \n",
        "import visualise_spacy_tree\n",
        "from IPython.display import Image, display\n",
        "\n",
        "import numpy as np\n",
        "!pip install faiss-cpu\n",
        "!pip install -U sentence-transformers\n",
        "import faiss"
      ],
      "metadata": {
        "colab": {
          "base_uri": "https://localhost:8080/"
        },
        "id": "8fcYn9FmafSK",
        "outputId": "9f276dcd-8928-4d34-b404-b0432e670b5d"
      },
      "execution_count": null,
      "outputs": [
        {
          "output_type": "stream",
          "name": "stderr",
          "text": [
            "[nltk_data] Downloading package wordnet to /root/nltk_data...\n",
            "[nltk_data]   Package wordnet is already up-to-date!\n",
            "[nltk_data] Downloading package stopwords to /root/nltk_data...\n",
            "[nltk_data]   Package stopwords is already up-to-date!\n",
            "[nltk_data] Downloading package omw-1.4 to /root/nltk_data...\n",
            "[nltk_data]   Package omw-1.4 is already up-to-date!\n",
            "[nltk_data] Downloading package punkt to /root/nltk_data...\n",
            "[nltk_data]   Package punkt is already up-to-date!\n",
            "[nltk_data] Downloading package averaged_perceptron_tagger to\n",
            "[nltk_data]     /root/nltk_data...\n",
            "[nltk_data]   Package averaged_perceptron_tagger is already up-to-\n",
            "[nltk_data]       date!\n",
            "[nltk_data] Downloading package punkt to /root/nltk_data...\n",
            "[nltk_data]   Package punkt is already up-to-date!\n"
          ]
        },
        {
          "output_type": "stream",
          "name": "stdout",
          "text": [
            "\n",
            "^C\n",
            "Looking in indexes: https://pypi.org/simple, https://us-python.pkg.dev/colab-wheels/public/simple/\n",
            "Requirement already satisfied: spacytextblob in /usr/local/lib/python3.9/dist-packages (4.0.0)\n",
            "Requirement already satisfied: textblob<0.16.0,>=0.15.3 in /usr/local/lib/python3.9/dist-packages (from spacytextblob) (0.15.3)\n",
            "Requirement already satisfied: spacy<4.0,>=3.0 in /usr/local/lib/python3.9/dist-packages (from spacytextblob) (3.5.1)\n",
            "Requirement already satisfied: spacy-loggers<2.0.0,>=1.0.0 in /usr/local/lib/python3.9/dist-packages (from spacy<4.0,>=3.0->spacytextblob) (1.0.4)\n",
            "Requirement already satisfied: tqdm<5.0.0,>=4.38.0 in /usr/local/lib/python3.9/dist-packages (from spacy<4.0,>=3.0->spacytextblob) (4.65.0)\n",
            "Requirement already satisfied: setuptools in /usr/local/lib/python3.9/dist-packages (from spacy<4.0,>=3.0->spacytextblob) (67.6.0)\n",
            "Requirement already satisfied: spacy-legacy<3.1.0,>=3.0.11 in /usr/local/lib/python3.9/dist-packages (from spacy<4.0,>=3.0->spacytextblob) (3.0.12)\n",
            "Requirement already satisfied: wasabi<1.2.0,>=0.9.1 in /usr/local/lib/python3.9/dist-packages (from spacy<4.0,>=3.0->spacytextblob) (1.1.1)\n",
            "Requirement already satisfied: murmurhash<1.1.0,>=0.28.0 in /usr/local/lib/python3.9/dist-packages (from spacy<4.0,>=3.0->spacytextblob) (1.0.9)\n",
            "Requirement already satisfied: preshed<3.1.0,>=3.0.2 in /usr/local/lib/python3.9/dist-packages (from spacy<4.0,>=3.0->spacytextblob) (3.0.8)\n",
            "Requirement already satisfied: requests<3.0.0,>=2.13.0 in /usr/local/lib/python3.9/dist-packages (from spacy<4.0,>=3.0->spacytextblob) (2.27.1)\n",
            "Requirement already satisfied: cymem<2.1.0,>=2.0.2 in /usr/local/lib/python3.9/dist-packages (from spacy<4.0,>=3.0->spacytextblob) (2.0.7)\n",
            "Requirement already satisfied: pydantic!=1.8,!=1.8.1,<1.11.0,>=1.7.4 in /usr/local/lib/python3.9/dist-packages (from spacy<4.0,>=3.0->spacytextblob) (1.10.6)\n",
            "Requirement already satisfied: numpy>=1.15.0 in /usr/local/lib/python3.9/dist-packages (from spacy<4.0,>=3.0->spacytextblob) (1.22.4)\n",
            "Requirement already satisfied: catalogue<2.1.0,>=2.0.6 in /usr/local/lib/python3.9/dist-packages (from spacy<4.0,>=3.0->spacytextblob) (2.0.8)\n",
            "Requirement already satisfied: pathy>=0.10.0 in /usr/local/lib/python3.9/dist-packages (from spacy<4.0,>=3.0->spacytextblob) (0.10.1)\n",
            "Requirement already satisfied: packaging>=20.0 in /usr/local/lib/python3.9/dist-packages (from spacy<4.0,>=3.0->spacytextblob) (23.0)\n",
            "Requirement already satisfied: langcodes<4.0.0,>=3.2.0 in /usr/local/lib/python3.9/dist-packages (from spacy<4.0,>=3.0->spacytextblob) (3.3.0)\n",
            "Requirement already satisfied: jinja2 in /usr/local/lib/python3.9/dist-packages (from spacy<4.0,>=3.0->spacytextblob) (3.1.2)\n",
            "Requirement already satisfied: smart-open<7.0.0,>=5.2.1 in /usr/local/lib/python3.9/dist-packages (from spacy<4.0,>=3.0->spacytextblob) (6.3.0)\n",
            "Requirement already satisfied: typer<0.8.0,>=0.3.0 in /usr/local/lib/python3.9/dist-packages (from spacy<4.0,>=3.0->spacytextblob) (0.7.0)\n",
            "Requirement already satisfied: srsly<3.0.0,>=2.4.3 in /usr/local/lib/python3.9/dist-packages (from spacy<4.0,>=3.0->spacytextblob) (2.4.6)\n",
            "Requirement already satisfied: thinc<8.2.0,>=8.1.8 in /usr/local/lib/python3.9/dist-packages (from spacy<4.0,>=3.0->spacytextblob) (8.1.9)\n",
            "Requirement already satisfied: nltk>=3.1 in /usr/local/lib/python3.9/dist-packages (from textblob<0.16.0,>=0.15.3->spacytextblob) (3.8.1)\n",
            "Requirement already satisfied: regex>=2021.8.3 in /usr/local/lib/python3.9/dist-packages (from nltk>=3.1->textblob<0.16.0,>=0.15.3->spacytextblob) (2022.10.31)\n",
            "Requirement already satisfied: joblib in /usr/local/lib/python3.9/dist-packages (from nltk>=3.1->textblob<0.16.0,>=0.15.3->spacytextblob) (1.1.1)\n",
            "Requirement already satisfied: click in /usr/local/lib/python3.9/dist-packages (from nltk>=3.1->textblob<0.16.0,>=0.15.3->spacytextblob) (8.1.3)\n",
            "Requirement already satisfied: typing-extensions>=4.2.0 in /usr/local/lib/python3.9/dist-packages (from pydantic!=1.8,!=1.8.1,<1.11.0,>=1.7.4->spacy<4.0,>=3.0->spacytextblob) (4.5.0)\n",
            "Requirement already satisfied: idna<4,>=2.5 in /usr/local/lib/python3.9/dist-packages (from requests<3.0.0,>=2.13.0->spacy<4.0,>=3.0->spacytextblob) (3.4)\n",
            "Requirement already satisfied: charset-normalizer~=2.0.0 in /usr/local/lib/python3.9/dist-packages (from requests<3.0.0,>=2.13.0->spacy<4.0,>=3.0->spacytextblob) (2.0.12)\n",
            "Requirement already satisfied: certifi>=2017.4.17 in /usr/local/lib/python3.9/dist-packages (from requests<3.0.0,>=2.13.0->spacy<4.0,>=3.0->spacytextblob) (2022.12.7)\n",
            "Requirement already satisfied: urllib3<1.27,>=1.21.1 in /usr/local/lib/python3.9/dist-packages (from requests<3.0.0,>=2.13.0->spacy<4.0,>=3.0->spacytextblob) (1.26.15)\n",
            "Requirement already satisfied: confection<1.0.0,>=0.0.1 in /usr/local/lib/python3.9/dist-packages (from thinc<8.2.0,>=8.1.8->spacy<4.0,>=3.0->spacytextblob) (0.0.4)\n",
            "Requirement already satisfied: blis<0.8.0,>=0.7.8 in /usr/local/lib/python3.9/dist-packages (from thinc<8.2.0,>=8.1.8->spacy<4.0,>=3.0->spacytextblob) (0.7.9)\n",
            "Requirement already satisfied: MarkupSafe>=2.0 in /usr/local/lib/python3.9/dist-packages (from jinja2->spacy<4.0,>=3.0->spacytextblob) (2.1.2)\n",
            "Looking in indexes: https://pypi.org/simple, https://us-python.pkg.dev/colab-wheels/public/simple/\n",
            "Requirement already satisfied: faiss-cpu in /usr/local/lib/python3.9/dist-packages (1.7.3)\n",
            "Looking in indexes: https://pypi.org/simple, https://us-python.pkg.dev/colab-wheels/public/simple/\n",
            "Requirement already satisfied: sentence-transformers in /usr/local/lib/python3.9/dist-packages (2.2.2)\n",
            "Requirement already satisfied: sentencepiece in /usr/local/lib/python3.9/dist-packages (from sentence-transformers) (0.1.97)\n",
            "Requirement already satisfied: tqdm in /usr/local/lib/python3.9/dist-packages (from sentence-transformers) (4.65.0)\n",
            "Requirement already satisfied: scikit-learn in /usr/local/lib/python3.9/dist-packages (from sentence-transformers) (1.2.2)\n",
            "Requirement already satisfied: numpy in /usr/local/lib/python3.9/dist-packages (from sentence-transformers) (1.22.4)\n",
            "Requirement already satisfied: scipy in /usr/local/lib/python3.9/dist-packages (from sentence-transformers) (1.10.1)\n",
            "Requirement already satisfied: nltk in /usr/local/lib/python3.9/dist-packages (from sentence-transformers) (3.8.1)\n",
            "Requirement already satisfied: torchvision in /usr/local/lib/python3.9/dist-packages (from sentence-transformers) (0.14.1+cu116)\n",
            "Requirement already satisfied: huggingface-hub>=0.4.0 in /usr/local/lib/python3.9/dist-packages (from sentence-transformers) (0.13.3)\n",
            "Requirement already satisfied: transformers<5.0.0,>=4.6.0 in /usr/local/lib/python3.9/dist-packages (from sentence-transformers) (4.27.2)\n",
            "Requirement already satisfied: torch>=1.6.0 in /usr/local/lib/python3.9/dist-packages (from sentence-transformers) (1.13.1+cu116)\n",
            "Requirement already satisfied: requests in /usr/local/lib/python3.9/dist-packages (from huggingface-hub>=0.4.0->sentence-transformers) (2.27.1)\n",
            "Requirement already satisfied: packaging>=20.9 in /usr/local/lib/python3.9/dist-packages (from huggingface-hub>=0.4.0->sentence-transformers) (23.0)\n",
            "Requirement already satisfied: pyyaml>=5.1 in /usr/local/lib/python3.9/dist-packages (from huggingface-hub>=0.4.0->sentence-transformers) (6.0)\n",
            "Requirement already satisfied: filelock in /usr/local/lib/python3.9/dist-packages (from huggingface-hub>=0.4.0->sentence-transformers) (3.10.0)\n",
            "Requirement already satisfied: typing-extensions>=3.7.4.3 in /usr/local/lib/python3.9/dist-packages (from huggingface-hub>=0.4.0->sentence-transformers) (4.5.0)\n",
            "Requirement already satisfied: regex!=2019.12.17 in /usr/local/lib/python3.9/dist-packages (from transformers<5.0.0,>=4.6.0->sentence-transformers) (2022.10.31)\n",
            "Requirement already satisfied: tokenizers!=0.11.3,<0.14,>=0.11.1 in /usr/local/lib/python3.9/dist-packages (from transformers<5.0.0,>=4.6.0->sentence-transformers) (0.13.2)\n",
            "Requirement already satisfied: joblib in /usr/local/lib/python3.9/dist-packages (from nltk->sentence-transformers) (1.1.1)\n",
            "Requirement already satisfied: click in /usr/local/lib/python3.9/dist-packages (from nltk->sentence-transformers) (8.1.3)\n",
            "Requirement already satisfied: threadpoolctl>=2.0.0 in /usr/local/lib/python3.9/dist-packages (from scikit-learn->sentence-transformers) (3.1.0)\n",
            "Requirement already satisfied: pillow!=8.3.*,>=5.3.0 in /usr/local/lib/python3.9/dist-packages (from torchvision->sentence-transformers) (8.4.0)\n",
            "Requirement already satisfied: urllib3<1.27,>=1.21.1 in /usr/local/lib/python3.9/dist-packages (from requests->huggingface-hub>=0.4.0->sentence-transformers) (1.26.15)\n",
            "Requirement already satisfied: certifi>=2017.4.17 in /usr/local/lib/python3.9/dist-packages (from requests->huggingface-hub>=0.4.0->sentence-transformers) (2022.12.7)\n",
            "Requirement already satisfied: idna<4,>=2.5 in /usr/local/lib/python3.9/dist-packages (from requests->huggingface-hub>=0.4.0->sentence-transformers) (3.4)\n",
            "Requirement already satisfied: charset-normalizer~=2.0.0 in /usr/local/lib/python3.9/dist-packages (from requests->huggingface-hub>=0.4.0->sentence-transformers) (2.0.12)\n"
          ]
        }
      ]
    },
    {
      "cell_type": "code",
      "source": [
        "!pip install lda\n",
        "from sklearn.feature_extraction.text import CountVectorizer\n",
        "from sklearn.decomposition import LatentDirichletAllocation"
      ],
      "metadata": {
        "colab": {
          "base_uri": "https://localhost:8080/"
        },
        "id": "0jKQXgx8hD6n",
        "outputId": "80d7a2dc-f506-4e28-bdf8-e0d3edc2c99b"
      },
      "execution_count": null,
      "outputs": [
        {
          "output_type": "stream",
          "name": "stdout",
          "text": [
            "Looking in indexes: https://pypi.org/simple, https://us-python.pkg.dev/colab-wheels/public/simple/\n",
            "Requirement already satisfied: lda in /usr/local/lib/python3.9/dist-packages (2.0.0)\n",
            "Requirement already satisfied: pbr<4,>=0.6 in /usr/local/lib/python3.9/dist-packages (from lda) (3.1.1)\n",
            "Requirement already satisfied: numpy<2.0,>=1.13.0 in /usr/local/lib/python3.9/dist-packages (from lda) (1.22.4)\n"
          ]
        }
      ]
    },
    {
      "cell_type": "markdown",
      "source": [
        "# Perform EDA and Data Cleaning:\n"
      ],
      "metadata": {
        "id": "xe_ZOQN3ACib"
      }
    },
    {
      "cell_type": "markdown",
      "source": [
        "* Load the datasets into a Pandas dataframe.\n",
        "* Check for missing values, duplicates, and outliers.\n",
        "* Clean the data by removing irrelevant columns, handling missing values, and converting categorical variables into numeric ones.\n",
        "* Perform exploratory data analysis (EDA) by visualizing the data using plots, histograms, and summary statistics."
      ],
      "metadata": {
        "id": "cd_uXCTHAGcg"
      }
    },
    {
      "cell_type": "markdown",
      "source": [
        "## Load the datasets into a Pandas dataframe."
      ],
      "metadata": {
        "id": "z4Xjeu0aAMji"
      }
    },
    {
      "cell_type": "code",
      "source": [
        "# Load the dataset into a Pandas dataframe\n",
        "df_hotelList = pd.read_csv('https://raw.githubusercontent.com/divaamahajan/Hotel-Clustering-and-Search-Engine-for-Hotel-Listings-and-Reviews-Dataset/main/HotelListInParis__en2019100120191005.csv')\n",
        "df_reviews = pd.read_csv('https://github.com/divaamahajan/Hotel-Clustering-and-Search-Engine-for-Hotel-Listings-and-Reviews-Dataset/raw/main/hotelReviewsInParis__en2019100120191005.csv')"
      ],
      "metadata": {
        "id": "KK5dFO4vFQ7a"
      },
      "execution_count": null,
      "outputs": []
    },
    {
      "cell_type": "code",
      "source": [
        "# Remove the 'Unnamed: 0' column from dataframe\n",
        "df_hotelList.drop('Unnamed: 0', axis=1, inplace=True)\n",
        "df_hotelList.head()"
      ],
      "metadata": {
        "colab": {
          "base_uri": "https://localhost:8080/",
          "height": 337
        },
        "id": "ITGMXuHYPiTR",
        "outputId": "811ac362-b6df-440b-c8bf-515ca1872652"
      },
      "execution_count": null,
      "outputs": [
        {
          "output_type": "execute_result",
          "data": {
            "text/plain": [
              "                               hotel_name  \\\n",
              "0  Novotel Paris Centre Gare Montparnasse   \n",
              "1                            Les3chambres   \n",
              "2                   La Chambre Parisienne   \n",
              "3              Hyatt Regency Paris Etoile   \n",
              "4                            Hotel Darcet   \n",
              "\n",
              "                                                 url locality  reviews  \\\n",
              "0  http://www.tripadvisor.com/Hotel_Review-g18714...    Paris     2313   \n",
              "1  http://www.tripadvisor.com/Hotel_Review-g18714...    Paris      519   \n",
              "2  http://www.tripadvisor.com/Hotel_Review-g18714...    Paris       91   \n",
              "3  http://www.tripadvisor.com/Hotel_Review-g18714...    Paris      663   \n",
              "4  http://www.tripadvisor.com/Hotel_Review-g18714...    Paris      942   \n",
              "\n",
              "   tripadvisor_rating     checkIn    checkOut price_per_night  \\\n",
              "0                 NaN  2019/10/01  2019/10/05            $225   \n",
              "1                 NaN  2019/10/01  2019/10/05             NaN   \n",
              "2                 NaN  2019/10/01  2019/10/05             NaN   \n",
              "3                 NaN  2019/10/01  2019/10/05             NaN   \n",
              "4                 NaN  2019/10/01  2019/10/05             NaN   \n",
              "\n",
              "  booking_provider  no_of_deals  hotel_features  \n",
              "0      Booking.com           11             NaN  \n",
              "1      Booking.com            0             NaN  \n",
              "2      TripAdvisor            5             NaN  \n",
              "3      Booking.com           12             NaN  \n",
              "4      Booking.com           12             NaN  "
            ],
            "text/html": [
              "\n",
              "  <div id=\"df-4f13f4c9-71cd-477b-8d08-12afb60cb1c6\">\n",
              "    <div class=\"colab-df-container\">\n",
              "      <div>\n",
              "<style scoped>\n",
              "    .dataframe tbody tr th:only-of-type {\n",
              "        vertical-align: middle;\n",
              "    }\n",
              "\n",
              "    .dataframe tbody tr th {\n",
              "        vertical-align: top;\n",
              "    }\n",
              "\n",
              "    .dataframe thead th {\n",
              "        text-align: right;\n",
              "    }\n",
              "</style>\n",
              "<table border=\"1\" class=\"dataframe\">\n",
              "  <thead>\n",
              "    <tr style=\"text-align: right;\">\n",
              "      <th></th>\n",
              "      <th>hotel_name</th>\n",
              "      <th>url</th>\n",
              "      <th>locality</th>\n",
              "      <th>reviews</th>\n",
              "      <th>tripadvisor_rating</th>\n",
              "      <th>checkIn</th>\n",
              "      <th>checkOut</th>\n",
              "      <th>price_per_night</th>\n",
              "      <th>booking_provider</th>\n",
              "      <th>no_of_deals</th>\n",
              "      <th>hotel_features</th>\n",
              "    </tr>\n",
              "  </thead>\n",
              "  <tbody>\n",
              "    <tr>\n",
              "      <th>0</th>\n",
              "      <td>Novotel Paris Centre Gare Montparnasse</td>\n",
              "      <td>http://www.tripadvisor.com/Hotel_Review-g18714...</td>\n",
              "      <td>Paris</td>\n",
              "      <td>2313</td>\n",
              "      <td>NaN</td>\n",
              "      <td>2019/10/01</td>\n",
              "      <td>2019/10/05</td>\n",
              "      <td>$225</td>\n",
              "      <td>Booking.com</td>\n",
              "      <td>11</td>\n",
              "      <td>NaN</td>\n",
              "    </tr>\n",
              "    <tr>\n",
              "      <th>1</th>\n",
              "      <td>Les3chambres</td>\n",
              "      <td>http://www.tripadvisor.com/Hotel_Review-g18714...</td>\n",
              "      <td>Paris</td>\n",
              "      <td>519</td>\n",
              "      <td>NaN</td>\n",
              "      <td>2019/10/01</td>\n",
              "      <td>2019/10/05</td>\n",
              "      <td>NaN</td>\n",
              "      <td>Booking.com</td>\n",
              "      <td>0</td>\n",
              "      <td>NaN</td>\n",
              "    </tr>\n",
              "    <tr>\n",
              "      <th>2</th>\n",
              "      <td>La Chambre Parisienne</td>\n",
              "      <td>http://www.tripadvisor.com/Hotel_Review-g18714...</td>\n",
              "      <td>Paris</td>\n",
              "      <td>91</td>\n",
              "      <td>NaN</td>\n",
              "      <td>2019/10/01</td>\n",
              "      <td>2019/10/05</td>\n",
              "      <td>NaN</td>\n",
              "      <td>TripAdvisor</td>\n",
              "      <td>5</td>\n",
              "      <td>NaN</td>\n",
              "    </tr>\n",
              "    <tr>\n",
              "      <th>3</th>\n",
              "      <td>Hyatt Regency Paris Etoile</td>\n",
              "      <td>http://www.tripadvisor.com/Hotel_Review-g18714...</td>\n",
              "      <td>Paris</td>\n",
              "      <td>663</td>\n",
              "      <td>NaN</td>\n",
              "      <td>2019/10/01</td>\n",
              "      <td>2019/10/05</td>\n",
              "      <td>NaN</td>\n",
              "      <td>Booking.com</td>\n",
              "      <td>12</td>\n",
              "      <td>NaN</td>\n",
              "    </tr>\n",
              "    <tr>\n",
              "      <th>4</th>\n",
              "      <td>Hotel Darcet</td>\n",
              "      <td>http://www.tripadvisor.com/Hotel_Review-g18714...</td>\n",
              "      <td>Paris</td>\n",
              "      <td>942</td>\n",
              "      <td>NaN</td>\n",
              "      <td>2019/10/01</td>\n",
              "      <td>2019/10/05</td>\n",
              "      <td>NaN</td>\n",
              "      <td>Booking.com</td>\n",
              "      <td>12</td>\n",
              "      <td>NaN</td>\n",
              "    </tr>\n",
              "  </tbody>\n",
              "</table>\n",
              "</div>\n",
              "      <button class=\"colab-df-convert\" onclick=\"convertToInteractive('df-4f13f4c9-71cd-477b-8d08-12afb60cb1c6')\"\n",
              "              title=\"Convert this dataframe to an interactive table.\"\n",
              "              style=\"display:none;\">\n",
              "        \n",
              "  <svg xmlns=\"http://www.w3.org/2000/svg\" height=\"24px\"viewBox=\"0 0 24 24\"\n",
              "       width=\"24px\">\n",
              "    <path d=\"M0 0h24v24H0V0z\" fill=\"none\"/>\n",
              "    <path d=\"M18.56 5.44l.94 2.06.94-2.06 2.06-.94-2.06-.94-.94-2.06-.94 2.06-2.06.94zm-11 1L8.5 8.5l.94-2.06 2.06-.94-2.06-.94L8.5 2.5l-.94 2.06-2.06.94zm10 10l.94 2.06.94-2.06 2.06-.94-2.06-.94-.94-2.06-.94 2.06-2.06.94z\"/><path d=\"M17.41 7.96l-1.37-1.37c-.4-.4-.92-.59-1.43-.59-.52 0-1.04.2-1.43.59L10.3 9.45l-7.72 7.72c-.78.78-.78 2.05 0 2.83L4 21.41c.39.39.9.59 1.41.59.51 0 1.02-.2 1.41-.59l7.78-7.78 2.81-2.81c.8-.78.8-2.07 0-2.86zM5.41 20L4 18.59l7.72-7.72 1.47 1.35L5.41 20z\"/>\n",
              "  </svg>\n",
              "      </button>\n",
              "      \n",
              "  <style>\n",
              "    .colab-df-container {\n",
              "      display:flex;\n",
              "      flex-wrap:wrap;\n",
              "      gap: 12px;\n",
              "    }\n",
              "\n",
              "    .colab-df-convert {\n",
              "      background-color: #E8F0FE;\n",
              "      border: none;\n",
              "      border-radius: 50%;\n",
              "      cursor: pointer;\n",
              "      display: none;\n",
              "      fill: #1967D2;\n",
              "      height: 32px;\n",
              "      padding: 0 0 0 0;\n",
              "      width: 32px;\n",
              "    }\n",
              "\n",
              "    .colab-df-convert:hover {\n",
              "      background-color: #E2EBFA;\n",
              "      box-shadow: 0px 1px 2px rgba(60, 64, 67, 0.3), 0px 1px 3px 1px rgba(60, 64, 67, 0.15);\n",
              "      fill: #174EA6;\n",
              "    }\n",
              "\n",
              "    [theme=dark] .colab-df-convert {\n",
              "      background-color: #3B4455;\n",
              "      fill: #D2E3FC;\n",
              "    }\n",
              "\n",
              "    [theme=dark] .colab-df-convert:hover {\n",
              "      background-color: #434B5C;\n",
              "      box-shadow: 0px 1px 3px 1px rgba(0, 0, 0, 0.15);\n",
              "      filter: drop-shadow(0px 1px 2px rgba(0, 0, 0, 0.3));\n",
              "      fill: #FFFFFF;\n",
              "    }\n",
              "  </style>\n",
              "\n",
              "      <script>\n",
              "        const buttonEl =\n",
              "          document.querySelector('#df-4f13f4c9-71cd-477b-8d08-12afb60cb1c6 button.colab-df-convert');\n",
              "        buttonEl.style.display =\n",
              "          google.colab.kernel.accessAllowed ? 'block' : 'none';\n",
              "\n",
              "        async function convertToInteractive(key) {\n",
              "          const element = document.querySelector('#df-4f13f4c9-71cd-477b-8d08-12afb60cb1c6');\n",
              "          const dataTable =\n",
              "            await google.colab.kernel.invokeFunction('convertToInteractive',\n",
              "                                                     [key], {});\n",
              "          if (!dataTable) return;\n",
              "\n",
              "          const docLinkHtml = 'Like what you see? Visit the ' +\n",
              "            '<a target=\"_blank\" href=https://colab.research.google.com/notebooks/data_table.ipynb>data table notebook</a>'\n",
              "            + ' to learn more about interactive tables.';\n",
              "          element.innerHTML = '';\n",
              "          dataTable['output_type'] = 'display_data';\n",
              "          await google.colab.output.renderOutput(dataTable, element);\n",
              "          const docLink = document.createElement('div');\n",
              "          docLink.innerHTML = docLinkHtml;\n",
              "          element.appendChild(docLink);\n",
              "        }\n",
              "      </script>\n",
              "    </div>\n",
              "  </div>\n",
              "  "
            ]
          },
          "metadata": {},
          "execution_count": 92
        }
      ]
    },
    {
      "cell_type": "code",
      "source": [
        "df_reviews.drop('Unnamed: 0', axis=1, inplace=True)\n",
        "df_reviews.head()"
      ],
      "metadata": {
        "colab": {
          "base_uri": "https://localhost:8080/",
          "height": 206
        },
        "id": "lyILYfjyPk0P",
        "outputId": "876bcb42-4132-4c02-c39b-b16db83079fb"
      },
      "execution_count": null,
      "outputs": [
        {
          "output_type": "execute_result",
          "data": {
            "text/plain": [
              "                                         review_body    review_date  \\\n",
              "0  Forgot to book a large bed so given a room wit...  July 12, 2019   \n",
              "1  This hotel was really nice overall but they lo...  July 10, 2019   \n",
              "2  Our complimentary breakfast was delicious. Sta...   July 3, 2019   \n",
              "3  If I could give 0 stars, I would. Staff comple...  June 25, 2019   \n",
              "4  This was a comfortable hotel in Montparnasse n...   June 7, 2019   \n",
              "\n",
              "                                           hotelName  \\\n",
              "0  0    Novotel Paris Centre Gare Montparnasse\\nN...   \n",
              "1  0    Novotel Paris Centre Gare Montparnasse\\nN...   \n",
              "2  0    Novotel Paris Centre Gare Montparnasse\\nN...   \n",
              "3  0    Novotel Paris Centre Gare Montparnasse\\nN...   \n",
              "4  0    Novotel Paris Centre Gare Montparnasse\\nN...   \n",
              "\n",
              "                                            hotelUrl  \n",
              "0  http://www.tripadvisor.com/Hotel_Review-g18714...  \n",
              "1  http://www.tripadvisor.com/Hotel_Review-g18714...  \n",
              "2  http://www.tripadvisor.com/Hotel_Review-g18714...  \n",
              "3  http://www.tripadvisor.com/Hotel_Review-g18714...  \n",
              "4  http://www.tripadvisor.com/Hotel_Review-g18714...  "
            ],
            "text/html": [
              "\n",
              "  <div id=\"df-6cce1fd8-e64f-447c-bc57-36e4934a9e84\">\n",
              "    <div class=\"colab-df-container\">\n",
              "      <div>\n",
              "<style scoped>\n",
              "    .dataframe tbody tr th:only-of-type {\n",
              "        vertical-align: middle;\n",
              "    }\n",
              "\n",
              "    .dataframe tbody tr th {\n",
              "        vertical-align: top;\n",
              "    }\n",
              "\n",
              "    .dataframe thead th {\n",
              "        text-align: right;\n",
              "    }\n",
              "</style>\n",
              "<table border=\"1\" class=\"dataframe\">\n",
              "  <thead>\n",
              "    <tr style=\"text-align: right;\">\n",
              "      <th></th>\n",
              "      <th>review_body</th>\n",
              "      <th>review_date</th>\n",
              "      <th>hotelName</th>\n",
              "      <th>hotelUrl</th>\n",
              "    </tr>\n",
              "  </thead>\n",
              "  <tbody>\n",
              "    <tr>\n",
              "      <th>0</th>\n",
              "      <td>Forgot to book a large bed so given a room wit...</td>\n",
              "      <td>July 12, 2019</td>\n",
              "      <td>0    Novotel Paris Centre Gare Montparnasse\\nN...</td>\n",
              "      <td>http://www.tripadvisor.com/Hotel_Review-g18714...</td>\n",
              "    </tr>\n",
              "    <tr>\n",
              "      <th>1</th>\n",
              "      <td>This hotel was really nice overall but they lo...</td>\n",
              "      <td>July 10, 2019</td>\n",
              "      <td>0    Novotel Paris Centre Gare Montparnasse\\nN...</td>\n",
              "      <td>http://www.tripadvisor.com/Hotel_Review-g18714...</td>\n",
              "    </tr>\n",
              "    <tr>\n",
              "      <th>2</th>\n",
              "      <td>Our complimentary breakfast was delicious. Sta...</td>\n",
              "      <td>July 3, 2019</td>\n",
              "      <td>0    Novotel Paris Centre Gare Montparnasse\\nN...</td>\n",
              "      <td>http://www.tripadvisor.com/Hotel_Review-g18714...</td>\n",
              "    </tr>\n",
              "    <tr>\n",
              "      <th>3</th>\n",
              "      <td>If I could give 0 stars, I would. Staff comple...</td>\n",
              "      <td>June 25, 2019</td>\n",
              "      <td>0    Novotel Paris Centre Gare Montparnasse\\nN...</td>\n",
              "      <td>http://www.tripadvisor.com/Hotel_Review-g18714...</td>\n",
              "    </tr>\n",
              "    <tr>\n",
              "      <th>4</th>\n",
              "      <td>This was a comfortable hotel in Montparnasse n...</td>\n",
              "      <td>June 7, 2019</td>\n",
              "      <td>0    Novotel Paris Centre Gare Montparnasse\\nN...</td>\n",
              "      <td>http://www.tripadvisor.com/Hotel_Review-g18714...</td>\n",
              "    </tr>\n",
              "  </tbody>\n",
              "</table>\n",
              "</div>\n",
              "      <button class=\"colab-df-convert\" onclick=\"convertToInteractive('df-6cce1fd8-e64f-447c-bc57-36e4934a9e84')\"\n",
              "              title=\"Convert this dataframe to an interactive table.\"\n",
              "              style=\"display:none;\">\n",
              "        \n",
              "  <svg xmlns=\"http://www.w3.org/2000/svg\" height=\"24px\"viewBox=\"0 0 24 24\"\n",
              "       width=\"24px\">\n",
              "    <path d=\"M0 0h24v24H0V0z\" fill=\"none\"/>\n",
              "    <path d=\"M18.56 5.44l.94 2.06.94-2.06 2.06-.94-2.06-.94-.94-2.06-.94 2.06-2.06.94zm-11 1L8.5 8.5l.94-2.06 2.06-.94-2.06-.94L8.5 2.5l-.94 2.06-2.06.94zm10 10l.94 2.06.94-2.06 2.06-.94-2.06-.94-.94-2.06-.94 2.06-2.06.94z\"/><path d=\"M17.41 7.96l-1.37-1.37c-.4-.4-.92-.59-1.43-.59-.52 0-1.04.2-1.43.59L10.3 9.45l-7.72 7.72c-.78.78-.78 2.05 0 2.83L4 21.41c.39.39.9.59 1.41.59.51 0 1.02-.2 1.41-.59l7.78-7.78 2.81-2.81c.8-.78.8-2.07 0-2.86zM5.41 20L4 18.59l7.72-7.72 1.47 1.35L5.41 20z\"/>\n",
              "  </svg>\n",
              "      </button>\n",
              "      \n",
              "  <style>\n",
              "    .colab-df-container {\n",
              "      display:flex;\n",
              "      flex-wrap:wrap;\n",
              "      gap: 12px;\n",
              "    }\n",
              "\n",
              "    .colab-df-convert {\n",
              "      background-color: #E8F0FE;\n",
              "      border: none;\n",
              "      border-radius: 50%;\n",
              "      cursor: pointer;\n",
              "      display: none;\n",
              "      fill: #1967D2;\n",
              "      height: 32px;\n",
              "      padding: 0 0 0 0;\n",
              "      width: 32px;\n",
              "    }\n",
              "\n",
              "    .colab-df-convert:hover {\n",
              "      background-color: #E2EBFA;\n",
              "      box-shadow: 0px 1px 2px rgba(60, 64, 67, 0.3), 0px 1px 3px 1px rgba(60, 64, 67, 0.15);\n",
              "      fill: #174EA6;\n",
              "    }\n",
              "\n",
              "    [theme=dark] .colab-df-convert {\n",
              "      background-color: #3B4455;\n",
              "      fill: #D2E3FC;\n",
              "    }\n",
              "\n",
              "    [theme=dark] .colab-df-convert:hover {\n",
              "      background-color: #434B5C;\n",
              "      box-shadow: 0px 1px 3px 1px rgba(0, 0, 0, 0.15);\n",
              "      filter: drop-shadow(0px 1px 2px rgba(0, 0, 0, 0.3));\n",
              "      fill: #FFFFFF;\n",
              "    }\n",
              "  </style>\n",
              "\n",
              "      <script>\n",
              "        const buttonEl =\n",
              "          document.querySelector('#df-6cce1fd8-e64f-447c-bc57-36e4934a9e84 button.colab-df-convert');\n",
              "        buttonEl.style.display =\n",
              "          google.colab.kernel.accessAllowed ? 'block' : 'none';\n",
              "\n",
              "        async function convertToInteractive(key) {\n",
              "          const element = document.querySelector('#df-6cce1fd8-e64f-447c-bc57-36e4934a9e84');\n",
              "          const dataTable =\n",
              "            await google.colab.kernel.invokeFunction('convertToInteractive',\n",
              "                                                     [key], {});\n",
              "          if (!dataTable) return;\n",
              "\n",
              "          const docLinkHtml = 'Like what you see? Visit the ' +\n",
              "            '<a target=\"_blank\" href=https://colab.research.google.com/notebooks/data_table.ipynb>data table notebook</a>'\n",
              "            + ' to learn more about interactive tables.';\n",
              "          element.innerHTML = '';\n",
              "          dataTable['output_type'] = 'display_data';\n",
              "          await google.colab.output.renderOutput(dataTable, element);\n",
              "          const docLink = document.createElement('div');\n",
              "          docLink.innerHTML = docLinkHtml;\n",
              "          element.appendChild(docLink);\n",
              "        }\n",
              "      </script>\n",
              "    </div>\n",
              "  </div>\n",
              "  "
            ]
          },
          "metadata": {},
          "execution_count": 93
        }
      ]
    },
    {
      "cell_type": "code",
      "source": [
        "df_hotelList.shape"
      ],
      "metadata": {
        "colab": {
          "base_uri": "https://localhost:8080/"
        },
        "id": "uWDGGkOzpDAg",
        "outputId": "ec583927-e351-409a-b98d-6378272b142e"
      },
      "execution_count": null,
      "outputs": [
        {
          "output_type": "execute_result",
          "data": {
            "text/plain": [
              "(30, 11)"
            ]
          },
          "metadata": {},
          "execution_count": 94
        }
      ]
    },
    {
      "cell_type": "markdown",
      "source": [
        "## Add Hotel names to their Reviews"
      ],
      "metadata": {
        "id": "ldKghLrsSh9k"
      }
    },
    {
      "cell_type": "code",
      "source": [
        "# Merge the two dataframes based on the 'url' and 'hotelUrl' columns\n",
        "df_reviews = pd.merge(df_reviews, df_hotelList, left_on='hotelUrl', right_on='url')\n",
        "df_reviews.head()"
      ],
      "metadata": {
        "colab": {
          "base_uri": "https://localhost:8080/",
          "height": 565
        },
        "id": "3YL2D7-3SHTg",
        "outputId": "cb685460-14bd-44f7-93f0-0206dca6280f"
      },
      "execution_count": null,
      "outputs": [
        {
          "output_type": "execute_result",
          "data": {
            "text/plain": [
              "                                         review_body    review_date  \\\n",
              "0  Forgot to book a large bed so given a room wit...  July 12, 2019   \n",
              "1  This hotel was really nice overall but they lo...  July 10, 2019   \n",
              "2  Our complimentary breakfast was delicious. Sta...   July 3, 2019   \n",
              "3  If I could give 0 stars, I would. Staff comple...  June 25, 2019   \n",
              "4  This was a comfortable hotel in Montparnasse n...   June 7, 2019   \n",
              "\n",
              "                                           hotelName  \\\n",
              "0  0    Novotel Paris Centre Gare Montparnasse\\nN...   \n",
              "1  0    Novotel Paris Centre Gare Montparnasse\\nN...   \n",
              "2  0    Novotel Paris Centre Gare Montparnasse\\nN...   \n",
              "3  0    Novotel Paris Centre Gare Montparnasse\\nN...   \n",
              "4  0    Novotel Paris Centre Gare Montparnasse\\nN...   \n",
              "\n",
              "                                            hotelUrl  \\\n",
              "0  http://www.tripadvisor.com/Hotel_Review-g18714...   \n",
              "1  http://www.tripadvisor.com/Hotel_Review-g18714...   \n",
              "2  http://www.tripadvisor.com/Hotel_Review-g18714...   \n",
              "3  http://www.tripadvisor.com/Hotel_Review-g18714...   \n",
              "4  http://www.tripadvisor.com/Hotel_Review-g18714...   \n",
              "\n",
              "                               hotel_name  \\\n",
              "0  Novotel Paris Centre Gare Montparnasse   \n",
              "1  Novotel Paris Centre Gare Montparnasse   \n",
              "2  Novotel Paris Centre Gare Montparnasse   \n",
              "3  Novotel Paris Centre Gare Montparnasse   \n",
              "4  Novotel Paris Centre Gare Montparnasse   \n",
              "\n",
              "                                                 url locality  reviews  \\\n",
              "0  http://www.tripadvisor.com/Hotel_Review-g18714...    Paris     2313   \n",
              "1  http://www.tripadvisor.com/Hotel_Review-g18714...    Paris     2313   \n",
              "2  http://www.tripadvisor.com/Hotel_Review-g18714...    Paris     2313   \n",
              "3  http://www.tripadvisor.com/Hotel_Review-g18714...    Paris     2313   \n",
              "4  http://www.tripadvisor.com/Hotel_Review-g18714...    Paris     2313   \n",
              "\n",
              "   tripadvisor_rating     checkIn    checkOut price_per_night  \\\n",
              "0                 NaN  2019/10/01  2019/10/05            $225   \n",
              "1                 NaN  2019/10/01  2019/10/05            $225   \n",
              "2                 NaN  2019/10/01  2019/10/05            $225   \n",
              "3                 NaN  2019/10/01  2019/10/05            $225   \n",
              "4                 NaN  2019/10/01  2019/10/05            $225   \n",
              "\n",
              "  booking_provider  no_of_deals  hotel_features  \n",
              "0      Booking.com           11             NaN  \n",
              "1      Booking.com           11             NaN  \n",
              "2      Booking.com           11             NaN  \n",
              "3      Booking.com           11             NaN  \n",
              "4      Booking.com           11             NaN  "
            ],
            "text/html": [
              "\n",
              "  <div id=\"df-b44348ab-e39c-4120-8928-9d445f1f86e1\">\n",
              "    <div class=\"colab-df-container\">\n",
              "      <div>\n",
              "<style scoped>\n",
              "    .dataframe tbody tr th:only-of-type {\n",
              "        vertical-align: middle;\n",
              "    }\n",
              "\n",
              "    .dataframe tbody tr th {\n",
              "        vertical-align: top;\n",
              "    }\n",
              "\n",
              "    .dataframe thead th {\n",
              "        text-align: right;\n",
              "    }\n",
              "</style>\n",
              "<table border=\"1\" class=\"dataframe\">\n",
              "  <thead>\n",
              "    <tr style=\"text-align: right;\">\n",
              "      <th></th>\n",
              "      <th>review_body</th>\n",
              "      <th>review_date</th>\n",
              "      <th>hotelName</th>\n",
              "      <th>hotelUrl</th>\n",
              "      <th>hotel_name</th>\n",
              "      <th>url</th>\n",
              "      <th>locality</th>\n",
              "      <th>reviews</th>\n",
              "      <th>tripadvisor_rating</th>\n",
              "      <th>checkIn</th>\n",
              "      <th>checkOut</th>\n",
              "      <th>price_per_night</th>\n",
              "      <th>booking_provider</th>\n",
              "      <th>no_of_deals</th>\n",
              "      <th>hotel_features</th>\n",
              "    </tr>\n",
              "  </thead>\n",
              "  <tbody>\n",
              "    <tr>\n",
              "      <th>0</th>\n",
              "      <td>Forgot to book a large bed so given a room wit...</td>\n",
              "      <td>July 12, 2019</td>\n",
              "      <td>0    Novotel Paris Centre Gare Montparnasse\\nN...</td>\n",
              "      <td>http://www.tripadvisor.com/Hotel_Review-g18714...</td>\n",
              "      <td>Novotel Paris Centre Gare Montparnasse</td>\n",
              "      <td>http://www.tripadvisor.com/Hotel_Review-g18714...</td>\n",
              "      <td>Paris</td>\n",
              "      <td>2313</td>\n",
              "      <td>NaN</td>\n",
              "      <td>2019/10/01</td>\n",
              "      <td>2019/10/05</td>\n",
              "      <td>$225</td>\n",
              "      <td>Booking.com</td>\n",
              "      <td>11</td>\n",
              "      <td>NaN</td>\n",
              "    </tr>\n",
              "    <tr>\n",
              "      <th>1</th>\n",
              "      <td>This hotel was really nice overall but they lo...</td>\n",
              "      <td>July 10, 2019</td>\n",
              "      <td>0    Novotel Paris Centre Gare Montparnasse\\nN...</td>\n",
              "      <td>http://www.tripadvisor.com/Hotel_Review-g18714...</td>\n",
              "      <td>Novotel Paris Centre Gare Montparnasse</td>\n",
              "      <td>http://www.tripadvisor.com/Hotel_Review-g18714...</td>\n",
              "      <td>Paris</td>\n",
              "      <td>2313</td>\n",
              "      <td>NaN</td>\n",
              "      <td>2019/10/01</td>\n",
              "      <td>2019/10/05</td>\n",
              "      <td>$225</td>\n",
              "      <td>Booking.com</td>\n",
              "      <td>11</td>\n",
              "      <td>NaN</td>\n",
              "    </tr>\n",
              "    <tr>\n",
              "      <th>2</th>\n",
              "      <td>Our complimentary breakfast was delicious. Sta...</td>\n",
              "      <td>July 3, 2019</td>\n",
              "      <td>0    Novotel Paris Centre Gare Montparnasse\\nN...</td>\n",
              "      <td>http://www.tripadvisor.com/Hotel_Review-g18714...</td>\n",
              "      <td>Novotel Paris Centre Gare Montparnasse</td>\n",
              "      <td>http://www.tripadvisor.com/Hotel_Review-g18714...</td>\n",
              "      <td>Paris</td>\n",
              "      <td>2313</td>\n",
              "      <td>NaN</td>\n",
              "      <td>2019/10/01</td>\n",
              "      <td>2019/10/05</td>\n",
              "      <td>$225</td>\n",
              "      <td>Booking.com</td>\n",
              "      <td>11</td>\n",
              "      <td>NaN</td>\n",
              "    </tr>\n",
              "    <tr>\n",
              "      <th>3</th>\n",
              "      <td>If I could give 0 stars, I would. Staff comple...</td>\n",
              "      <td>June 25, 2019</td>\n",
              "      <td>0    Novotel Paris Centre Gare Montparnasse\\nN...</td>\n",
              "      <td>http://www.tripadvisor.com/Hotel_Review-g18714...</td>\n",
              "      <td>Novotel Paris Centre Gare Montparnasse</td>\n",
              "      <td>http://www.tripadvisor.com/Hotel_Review-g18714...</td>\n",
              "      <td>Paris</td>\n",
              "      <td>2313</td>\n",
              "      <td>NaN</td>\n",
              "      <td>2019/10/01</td>\n",
              "      <td>2019/10/05</td>\n",
              "      <td>$225</td>\n",
              "      <td>Booking.com</td>\n",
              "      <td>11</td>\n",
              "      <td>NaN</td>\n",
              "    </tr>\n",
              "    <tr>\n",
              "      <th>4</th>\n",
              "      <td>This was a comfortable hotel in Montparnasse n...</td>\n",
              "      <td>June 7, 2019</td>\n",
              "      <td>0    Novotel Paris Centre Gare Montparnasse\\nN...</td>\n",
              "      <td>http://www.tripadvisor.com/Hotel_Review-g18714...</td>\n",
              "      <td>Novotel Paris Centre Gare Montparnasse</td>\n",
              "      <td>http://www.tripadvisor.com/Hotel_Review-g18714...</td>\n",
              "      <td>Paris</td>\n",
              "      <td>2313</td>\n",
              "      <td>NaN</td>\n",
              "      <td>2019/10/01</td>\n",
              "      <td>2019/10/05</td>\n",
              "      <td>$225</td>\n",
              "      <td>Booking.com</td>\n",
              "      <td>11</td>\n",
              "      <td>NaN</td>\n",
              "    </tr>\n",
              "  </tbody>\n",
              "</table>\n",
              "</div>\n",
              "      <button class=\"colab-df-convert\" onclick=\"convertToInteractive('df-b44348ab-e39c-4120-8928-9d445f1f86e1')\"\n",
              "              title=\"Convert this dataframe to an interactive table.\"\n",
              "              style=\"display:none;\">\n",
              "        \n",
              "  <svg xmlns=\"http://www.w3.org/2000/svg\" height=\"24px\"viewBox=\"0 0 24 24\"\n",
              "       width=\"24px\">\n",
              "    <path d=\"M0 0h24v24H0V0z\" fill=\"none\"/>\n",
              "    <path d=\"M18.56 5.44l.94 2.06.94-2.06 2.06-.94-2.06-.94-.94-2.06-.94 2.06-2.06.94zm-11 1L8.5 8.5l.94-2.06 2.06-.94-2.06-.94L8.5 2.5l-.94 2.06-2.06.94zm10 10l.94 2.06.94-2.06 2.06-.94-2.06-.94-.94-2.06-.94 2.06-2.06.94z\"/><path d=\"M17.41 7.96l-1.37-1.37c-.4-.4-.92-.59-1.43-.59-.52 0-1.04.2-1.43.59L10.3 9.45l-7.72 7.72c-.78.78-.78 2.05 0 2.83L4 21.41c.39.39.9.59 1.41.59.51 0 1.02-.2 1.41-.59l7.78-7.78 2.81-2.81c.8-.78.8-2.07 0-2.86zM5.41 20L4 18.59l7.72-7.72 1.47 1.35L5.41 20z\"/>\n",
              "  </svg>\n",
              "      </button>\n",
              "      \n",
              "  <style>\n",
              "    .colab-df-container {\n",
              "      display:flex;\n",
              "      flex-wrap:wrap;\n",
              "      gap: 12px;\n",
              "    }\n",
              "\n",
              "    .colab-df-convert {\n",
              "      background-color: #E8F0FE;\n",
              "      border: none;\n",
              "      border-radius: 50%;\n",
              "      cursor: pointer;\n",
              "      display: none;\n",
              "      fill: #1967D2;\n",
              "      height: 32px;\n",
              "      padding: 0 0 0 0;\n",
              "      width: 32px;\n",
              "    }\n",
              "\n",
              "    .colab-df-convert:hover {\n",
              "      background-color: #E2EBFA;\n",
              "      box-shadow: 0px 1px 2px rgba(60, 64, 67, 0.3), 0px 1px 3px 1px rgba(60, 64, 67, 0.15);\n",
              "      fill: #174EA6;\n",
              "    }\n",
              "\n",
              "    [theme=dark] .colab-df-convert {\n",
              "      background-color: #3B4455;\n",
              "      fill: #D2E3FC;\n",
              "    }\n",
              "\n",
              "    [theme=dark] .colab-df-convert:hover {\n",
              "      background-color: #434B5C;\n",
              "      box-shadow: 0px 1px 3px 1px rgba(0, 0, 0, 0.15);\n",
              "      filter: drop-shadow(0px 1px 2px rgba(0, 0, 0, 0.3));\n",
              "      fill: #FFFFFF;\n",
              "    }\n",
              "  </style>\n",
              "\n",
              "      <script>\n",
              "        const buttonEl =\n",
              "          document.querySelector('#df-b44348ab-e39c-4120-8928-9d445f1f86e1 button.colab-df-convert');\n",
              "        buttonEl.style.display =\n",
              "          google.colab.kernel.accessAllowed ? 'block' : 'none';\n",
              "\n",
              "        async function convertToInteractive(key) {\n",
              "          const element = document.querySelector('#df-b44348ab-e39c-4120-8928-9d445f1f86e1');\n",
              "          const dataTable =\n",
              "            await google.colab.kernel.invokeFunction('convertToInteractive',\n",
              "                                                     [key], {});\n",
              "          if (!dataTable) return;\n",
              "\n",
              "          const docLinkHtml = 'Like what you see? Visit the ' +\n",
              "            '<a target=\"_blank\" href=https://colab.research.google.com/notebooks/data_table.ipynb>data table notebook</a>'\n",
              "            + ' to learn more about interactive tables.';\n",
              "          element.innerHTML = '';\n",
              "          dataTable['output_type'] = 'display_data';\n",
              "          await google.colab.output.renderOutput(dataTable, element);\n",
              "          const docLink = document.createElement('div');\n",
              "          docLink.innerHTML = docLinkHtml;\n",
              "          element.appendChild(docLink);\n",
              "        }\n",
              "      </script>\n",
              "    </div>\n",
              "  </div>\n",
              "  "
            ]
          },
          "metadata": {},
          "execution_count": 95
        }
      ]
    },
    {
      "cell_type": "code",
      "source": [
        "df_reviews.shape"
      ],
      "metadata": {
        "colab": {
          "base_uri": "https://localhost:8080/"
        },
        "id": "VdM6ngPvo-8H",
        "outputId": "ba642f7c-6199-4eaf-c204-f5409318cc61"
      },
      "execution_count": null,
      "outputs": [
        {
          "output_type": "execute_result",
          "data": {
            "text/plain": [
              "(1492, 15)"
            ]
          },
          "metadata": {},
          "execution_count": 96
        }
      ]
    },
    {
      "cell_type": "markdown",
      "source": [
        "## Data cleaning"
      ],
      "metadata": {
        "id": "LS90f29EARnU"
      }
    },
    {
      "cell_type": "markdown",
      "source": [
        "### Feature selection"
      ],
      "metadata": {
        "id": "VT2rKJVNow2Y"
      }
    },
    {
      "cell_type": "markdown",
      "source": [
        "Now, we need only hotel names and their reviews, as well as dates from above reviews dataframe df_reviews.\n",
        "\n",
        "This is because we already have hotel data in Hotel List dataframe and urls are not needed since we have corresponding reviews.\n"
      ],
      "metadata": {
        "id": "J0eaNusroqSn"
      }
    },
    {
      "cell_type": "code",
      "source": [],
      "metadata": {
        "id": "GbS2CfkAOGeS"
      },
      "execution_count": null,
      "outputs": []
    },
    {
      "cell_type": "code",
      "source": [
        "df_reviews = df_reviews[['review_body', 'hotel_name', 'review_date']]\n",
        "df_reviews.head()\n"
      ],
      "metadata": {
        "colab": {
          "base_uri": "https://localhost:8080/",
          "height": 206
        },
        "id": "oCdsO_vvMrye",
        "outputId": "1ef7f1f9-9427-41ae-eee8-31551f0eac99"
      },
      "execution_count": null,
      "outputs": [
        {
          "output_type": "execute_result",
          "data": {
            "text/plain": [
              "                                         review_body  \\\n",
              "0  Forgot to book a large bed so given a room wit...   \n",
              "1  This hotel was really nice overall but they lo...   \n",
              "2  Our complimentary breakfast was delicious. Sta...   \n",
              "3  If I could give 0 stars, I would. Staff comple...   \n",
              "4  This was a comfortable hotel in Montparnasse n...   \n",
              "\n",
              "                               hotel_name    review_date  \n",
              "0  Novotel Paris Centre Gare Montparnasse  July 12, 2019  \n",
              "1  Novotel Paris Centre Gare Montparnasse  July 10, 2019  \n",
              "2  Novotel Paris Centre Gare Montparnasse   July 3, 2019  \n",
              "3  Novotel Paris Centre Gare Montparnasse  June 25, 2019  \n",
              "4  Novotel Paris Centre Gare Montparnasse   June 7, 2019  "
            ],
            "text/html": [
              "\n",
              "  <div id=\"df-f35d62b1-76c3-4c0b-9c61-137f75fead1d\">\n",
              "    <div class=\"colab-df-container\">\n",
              "      <div>\n",
              "<style scoped>\n",
              "    .dataframe tbody tr th:only-of-type {\n",
              "        vertical-align: middle;\n",
              "    }\n",
              "\n",
              "    .dataframe tbody tr th {\n",
              "        vertical-align: top;\n",
              "    }\n",
              "\n",
              "    .dataframe thead th {\n",
              "        text-align: right;\n",
              "    }\n",
              "</style>\n",
              "<table border=\"1\" class=\"dataframe\">\n",
              "  <thead>\n",
              "    <tr style=\"text-align: right;\">\n",
              "      <th></th>\n",
              "      <th>review_body</th>\n",
              "      <th>hotel_name</th>\n",
              "      <th>review_date</th>\n",
              "    </tr>\n",
              "  </thead>\n",
              "  <tbody>\n",
              "    <tr>\n",
              "      <th>0</th>\n",
              "      <td>Forgot to book a large bed so given a room wit...</td>\n",
              "      <td>Novotel Paris Centre Gare Montparnasse</td>\n",
              "      <td>July 12, 2019</td>\n",
              "    </tr>\n",
              "    <tr>\n",
              "      <th>1</th>\n",
              "      <td>This hotel was really nice overall but they lo...</td>\n",
              "      <td>Novotel Paris Centre Gare Montparnasse</td>\n",
              "      <td>July 10, 2019</td>\n",
              "    </tr>\n",
              "    <tr>\n",
              "      <th>2</th>\n",
              "      <td>Our complimentary breakfast was delicious. Sta...</td>\n",
              "      <td>Novotel Paris Centre Gare Montparnasse</td>\n",
              "      <td>July 3, 2019</td>\n",
              "    </tr>\n",
              "    <tr>\n",
              "      <th>3</th>\n",
              "      <td>If I could give 0 stars, I would. Staff comple...</td>\n",
              "      <td>Novotel Paris Centre Gare Montparnasse</td>\n",
              "      <td>June 25, 2019</td>\n",
              "    </tr>\n",
              "    <tr>\n",
              "      <th>4</th>\n",
              "      <td>This was a comfortable hotel in Montparnasse n...</td>\n",
              "      <td>Novotel Paris Centre Gare Montparnasse</td>\n",
              "      <td>June 7, 2019</td>\n",
              "    </tr>\n",
              "  </tbody>\n",
              "</table>\n",
              "</div>\n",
              "      <button class=\"colab-df-convert\" onclick=\"convertToInteractive('df-f35d62b1-76c3-4c0b-9c61-137f75fead1d')\"\n",
              "              title=\"Convert this dataframe to an interactive table.\"\n",
              "              style=\"display:none;\">\n",
              "        \n",
              "  <svg xmlns=\"http://www.w3.org/2000/svg\" height=\"24px\"viewBox=\"0 0 24 24\"\n",
              "       width=\"24px\">\n",
              "    <path d=\"M0 0h24v24H0V0z\" fill=\"none\"/>\n",
              "    <path d=\"M18.56 5.44l.94 2.06.94-2.06 2.06-.94-2.06-.94-.94-2.06-.94 2.06-2.06.94zm-11 1L8.5 8.5l.94-2.06 2.06-.94-2.06-.94L8.5 2.5l-.94 2.06-2.06.94zm10 10l.94 2.06.94-2.06 2.06-.94-2.06-.94-.94-2.06-.94 2.06-2.06.94z\"/><path d=\"M17.41 7.96l-1.37-1.37c-.4-.4-.92-.59-1.43-.59-.52 0-1.04.2-1.43.59L10.3 9.45l-7.72 7.72c-.78.78-.78 2.05 0 2.83L4 21.41c.39.39.9.59 1.41.59.51 0 1.02-.2 1.41-.59l7.78-7.78 2.81-2.81c.8-.78.8-2.07 0-2.86zM5.41 20L4 18.59l7.72-7.72 1.47 1.35L5.41 20z\"/>\n",
              "  </svg>\n",
              "      </button>\n",
              "      \n",
              "  <style>\n",
              "    .colab-df-container {\n",
              "      display:flex;\n",
              "      flex-wrap:wrap;\n",
              "      gap: 12px;\n",
              "    }\n",
              "\n",
              "    .colab-df-convert {\n",
              "      background-color: #E8F0FE;\n",
              "      border: none;\n",
              "      border-radius: 50%;\n",
              "      cursor: pointer;\n",
              "      display: none;\n",
              "      fill: #1967D2;\n",
              "      height: 32px;\n",
              "      padding: 0 0 0 0;\n",
              "      width: 32px;\n",
              "    }\n",
              "\n",
              "    .colab-df-convert:hover {\n",
              "      background-color: #E2EBFA;\n",
              "      box-shadow: 0px 1px 2px rgba(60, 64, 67, 0.3), 0px 1px 3px 1px rgba(60, 64, 67, 0.15);\n",
              "      fill: #174EA6;\n",
              "    }\n",
              "\n",
              "    [theme=dark] .colab-df-convert {\n",
              "      background-color: #3B4455;\n",
              "      fill: #D2E3FC;\n",
              "    }\n",
              "\n",
              "    [theme=dark] .colab-df-convert:hover {\n",
              "      background-color: #434B5C;\n",
              "      box-shadow: 0px 1px 3px 1px rgba(0, 0, 0, 0.15);\n",
              "      filter: drop-shadow(0px 1px 2px rgba(0, 0, 0, 0.3));\n",
              "      fill: #FFFFFF;\n",
              "    }\n",
              "  </style>\n",
              "\n",
              "      <script>\n",
              "        const buttonEl =\n",
              "          document.querySelector('#df-f35d62b1-76c3-4c0b-9c61-137f75fead1d button.colab-df-convert');\n",
              "        buttonEl.style.display =\n",
              "          google.colab.kernel.accessAllowed ? 'block' : 'none';\n",
              "\n",
              "        async function convertToInteractive(key) {\n",
              "          const element = document.querySelector('#df-f35d62b1-76c3-4c0b-9c61-137f75fead1d');\n",
              "          const dataTable =\n",
              "            await google.colab.kernel.invokeFunction('convertToInteractive',\n",
              "                                                     [key], {});\n",
              "          if (!dataTable) return;\n",
              "\n",
              "          const docLinkHtml = 'Like what you see? Visit the ' +\n",
              "            '<a target=\"_blank\" href=https://colab.research.google.com/notebooks/data_table.ipynb>data table notebook</a>'\n",
              "            + ' to learn more about interactive tables.';\n",
              "          element.innerHTML = '';\n",
              "          dataTable['output_type'] = 'display_data';\n",
              "          await google.colab.output.renderOutput(dataTable, element);\n",
              "          const docLink = document.createElement('div');\n",
              "          docLink.innerHTML = docLinkHtml;\n",
              "          element.appendChild(docLink);\n",
              "        }\n",
              "      </script>\n",
              "    </div>\n",
              "  </div>\n",
              "  "
            ]
          },
          "metadata": {},
          "execution_count": 97
        }
      ]
    },
    {
      "cell_type": "markdown",
      "source": [
        "### Delete duplicates"
      ],
      "metadata": {
        "id": "QhYzAqBvidWe"
      }
    },
    {
      "cell_type": "code",
      "source": [
        "# Suppose you have a DataFrame called df\n",
        "df_hotelList.drop_duplicates(inplace=True)\n",
        "df_reviews.drop_duplicates(inplace=True)"
      ],
      "metadata": {
        "id": "8outVOgiifcS"
      },
      "execution_count": null,
      "outputs": []
    },
    {
      "cell_type": "markdown",
      "source": [
        "### Split currency and price Value"
      ],
      "metadata": {
        "id": "UEHBFPZzd8f9"
      }
    },
    {
      "cell_type": "code",
      "source": [
        "# Split the 'price_per_night' column into two separate columns\n",
        "df_hotelList[['price_currency', 'price_value']] = df_hotelList['price_per_night'].str.extract(r'^(\\$)?(\\d+)')\n",
        "# Fill in missing values with null\n",
        "# df[['price_currency', 'price_value']] = df[['price_currency', 'price_value']].fillna(value=np.nan)\n",
        "df_hotelList = df_hotelList.drop(['price_per_night'], axis=1)\n",
        "\n",
        "# Print the first few rows of the updated dataframe\n",
        "df_hotelList.head()"
      ],
      "metadata": {
        "id": "Bj8d5XCweDIg",
        "colab": {
          "base_uri": "https://localhost:8080/",
          "height": 337
        },
        "outputId": "8ef4d4aa-b255-47d7-a317-18f3ed967b52"
      },
      "execution_count": null,
      "outputs": [
        {
          "output_type": "execute_result",
          "data": {
            "text/plain": [
              "                               hotel_name  \\\n",
              "0  Novotel Paris Centre Gare Montparnasse   \n",
              "1                            Les3chambres   \n",
              "2                   La Chambre Parisienne   \n",
              "3              Hyatt Regency Paris Etoile   \n",
              "4                            Hotel Darcet   \n",
              "\n",
              "                                                 url locality  reviews  \\\n",
              "0  http://www.tripadvisor.com/Hotel_Review-g18714...    Paris     2313   \n",
              "1  http://www.tripadvisor.com/Hotel_Review-g18714...    Paris      519   \n",
              "2  http://www.tripadvisor.com/Hotel_Review-g18714...    Paris       91   \n",
              "3  http://www.tripadvisor.com/Hotel_Review-g18714...    Paris      663   \n",
              "4  http://www.tripadvisor.com/Hotel_Review-g18714...    Paris      942   \n",
              "\n",
              "   tripadvisor_rating     checkIn    checkOut booking_provider  no_of_deals  \\\n",
              "0                 NaN  2019/10/01  2019/10/05      Booking.com           11   \n",
              "1                 NaN  2019/10/01  2019/10/05      Booking.com            0   \n",
              "2                 NaN  2019/10/01  2019/10/05      TripAdvisor            5   \n",
              "3                 NaN  2019/10/01  2019/10/05      Booking.com           12   \n",
              "4                 NaN  2019/10/01  2019/10/05      Booking.com           12   \n",
              "\n",
              "   hotel_features price_currency price_value  \n",
              "0             NaN              $         225  \n",
              "1             NaN            NaN         NaN  \n",
              "2             NaN            NaN         NaN  \n",
              "3             NaN            NaN         NaN  \n",
              "4             NaN            NaN         NaN  "
            ],
            "text/html": [
              "\n",
              "  <div id=\"df-8a0cfb76-5902-4cd8-a051-967f35432231\">\n",
              "    <div class=\"colab-df-container\">\n",
              "      <div>\n",
              "<style scoped>\n",
              "    .dataframe tbody tr th:only-of-type {\n",
              "        vertical-align: middle;\n",
              "    }\n",
              "\n",
              "    .dataframe tbody tr th {\n",
              "        vertical-align: top;\n",
              "    }\n",
              "\n",
              "    .dataframe thead th {\n",
              "        text-align: right;\n",
              "    }\n",
              "</style>\n",
              "<table border=\"1\" class=\"dataframe\">\n",
              "  <thead>\n",
              "    <tr style=\"text-align: right;\">\n",
              "      <th></th>\n",
              "      <th>hotel_name</th>\n",
              "      <th>url</th>\n",
              "      <th>locality</th>\n",
              "      <th>reviews</th>\n",
              "      <th>tripadvisor_rating</th>\n",
              "      <th>checkIn</th>\n",
              "      <th>checkOut</th>\n",
              "      <th>booking_provider</th>\n",
              "      <th>no_of_deals</th>\n",
              "      <th>hotel_features</th>\n",
              "      <th>price_currency</th>\n",
              "      <th>price_value</th>\n",
              "    </tr>\n",
              "  </thead>\n",
              "  <tbody>\n",
              "    <tr>\n",
              "      <th>0</th>\n",
              "      <td>Novotel Paris Centre Gare Montparnasse</td>\n",
              "      <td>http://www.tripadvisor.com/Hotel_Review-g18714...</td>\n",
              "      <td>Paris</td>\n",
              "      <td>2313</td>\n",
              "      <td>NaN</td>\n",
              "      <td>2019/10/01</td>\n",
              "      <td>2019/10/05</td>\n",
              "      <td>Booking.com</td>\n",
              "      <td>11</td>\n",
              "      <td>NaN</td>\n",
              "      <td>$</td>\n",
              "      <td>225</td>\n",
              "    </tr>\n",
              "    <tr>\n",
              "      <th>1</th>\n",
              "      <td>Les3chambres</td>\n",
              "      <td>http://www.tripadvisor.com/Hotel_Review-g18714...</td>\n",
              "      <td>Paris</td>\n",
              "      <td>519</td>\n",
              "      <td>NaN</td>\n",
              "      <td>2019/10/01</td>\n",
              "      <td>2019/10/05</td>\n",
              "      <td>Booking.com</td>\n",
              "      <td>0</td>\n",
              "      <td>NaN</td>\n",
              "      <td>NaN</td>\n",
              "      <td>NaN</td>\n",
              "    </tr>\n",
              "    <tr>\n",
              "      <th>2</th>\n",
              "      <td>La Chambre Parisienne</td>\n",
              "      <td>http://www.tripadvisor.com/Hotel_Review-g18714...</td>\n",
              "      <td>Paris</td>\n",
              "      <td>91</td>\n",
              "      <td>NaN</td>\n",
              "      <td>2019/10/01</td>\n",
              "      <td>2019/10/05</td>\n",
              "      <td>TripAdvisor</td>\n",
              "      <td>5</td>\n",
              "      <td>NaN</td>\n",
              "      <td>NaN</td>\n",
              "      <td>NaN</td>\n",
              "    </tr>\n",
              "    <tr>\n",
              "      <th>3</th>\n",
              "      <td>Hyatt Regency Paris Etoile</td>\n",
              "      <td>http://www.tripadvisor.com/Hotel_Review-g18714...</td>\n",
              "      <td>Paris</td>\n",
              "      <td>663</td>\n",
              "      <td>NaN</td>\n",
              "      <td>2019/10/01</td>\n",
              "      <td>2019/10/05</td>\n",
              "      <td>Booking.com</td>\n",
              "      <td>12</td>\n",
              "      <td>NaN</td>\n",
              "      <td>NaN</td>\n",
              "      <td>NaN</td>\n",
              "    </tr>\n",
              "    <tr>\n",
              "      <th>4</th>\n",
              "      <td>Hotel Darcet</td>\n",
              "      <td>http://www.tripadvisor.com/Hotel_Review-g18714...</td>\n",
              "      <td>Paris</td>\n",
              "      <td>942</td>\n",
              "      <td>NaN</td>\n",
              "      <td>2019/10/01</td>\n",
              "      <td>2019/10/05</td>\n",
              "      <td>Booking.com</td>\n",
              "      <td>12</td>\n",
              "      <td>NaN</td>\n",
              "      <td>NaN</td>\n",
              "      <td>NaN</td>\n",
              "    </tr>\n",
              "  </tbody>\n",
              "</table>\n",
              "</div>\n",
              "      <button class=\"colab-df-convert\" onclick=\"convertToInteractive('df-8a0cfb76-5902-4cd8-a051-967f35432231')\"\n",
              "              title=\"Convert this dataframe to an interactive table.\"\n",
              "              style=\"display:none;\">\n",
              "        \n",
              "  <svg xmlns=\"http://www.w3.org/2000/svg\" height=\"24px\"viewBox=\"0 0 24 24\"\n",
              "       width=\"24px\">\n",
              "    <path d=\"M0 0h24v24H0V0z\" fill=\"none\"/>\n",
              "    <path d=\"M18.56 5.44l.94 2.06.94-2.06 2.06-.94-2.06-.94-.94-2.06-.94 2.06-2.06.94zm-11 1L8.5 8.5l.94-2.06 2.06-.94-2.06-.94L8.5 2.5l-.94 2.06-2.06.94zm10 10l.94 2.06.94-2.06 2.06-.94-2.06-.94-.94-2.06-.94 2.06-2.06.94z\"/><path d=\"M17.41 7.96l-1.37-1.37c-.4-.4-.92-.59-1.43-.59-.52 0-1.04.2-1.43.59L10.3 9.45l-7.72 7.72c-.78.78-.78 2.05 0 2.83L4 21.41c.39.39.9.59 1.41.59.51 0 1.02-.2 1.41-.59l7.78-7.78 2.81-2.81c.8-.78.8-2.07 0-2.86zM5.41 20L4 18.59l7.72-7.72 1.47 1.35L5.41 20z\"/>\n",
              "  </svg>\n",
              "      </button>\n",
              "      \n",
              "  <style>\n",
              "    .colab-df-container {\n",
              "      display:flex;\n",
              "      flex-wrap:wrap;\n",
              "      gap: 12px;\n",
              "    }\n",
              "\n",
              "    .colab-df-convert {\n",
              "      background-color: #E8F0FE;\n",
              "      border: none;\n",
              "      border-radius: 50%;\n",
              "      cursor: pointer;\n",
              "      display: none;\n",
              "      fill: #1967D2;\n",
              "      height: 32px;\n",
              "      padding: 0 0 0 0;\n",
              "      width: 32px;\n",
              "    }\n",
              "\n",
              "    .colab-df-convert:hover {\n",
              "      background-color: #E2EBFA;\n",
              "      box-shadow: 0px 1px 2px rgba(60, 64, 67, 0.3), 0px 1px 3px 1px rgba(60, 64, 67, 0.15);\n",
              "      fill: #174EA6;\n",
              "    }\n",
              "\n",
              "    [theme=dark] .colab-df-convert {\n",
              "      background-color: #3B4455;\n",
              "      fill: #D2E3FC;\n",
              "    }\n",
              "\n",
              "    [theme=dark] .colab-df-convert:hover {\n",
              "      background-color: #434B5C;\n",
              "      box-shadow: 0px 1px 3px 1px rgba(0, 0, 0, 0.15);\n",
              "      filter: drop-shadow(0px 1px 2px rgba(0, 0, 0, 0.3));\n",
              "      fill: #FFFFFF;\n",
              "    }\n",
              "  </style>\n",
              "\n",
              "      <script>\n",
              "        const buttonEl =\n",
              "          document.querySelector('#df-8a0cfb76-5902-4cd8-a051-967f35432231 button.colab-df-convert');\n",
              "        buttonEl.style.display =\n",
              "          google.colab.kernel.accessAllowed ? 'block' : 'none';\n",
              "\n",
              "        async function convertToInteractive(key) {\n",
              "          const element = document.querySelector('#df-8a0cfb76-5902-4cd8-a051-967f35432231');\n",
              "          const dataTable =\n",
              "            await google.colab.kernel.invokeFunction('convertToInteractive',\n",
              "                                                     [key], {});\n",
              "          if (!dataTable) return;\n",
              "\n",
              "          const docLinkHtml = 'Like what you see? Visit the ' +\n",
              "            '<a target=\"_blank\" href=https://colab.research.google.com/notebooks/data_table.ipynb>data table notebook</a>'\n",
              "            + ' to learn more about interactive tables.';\n",
              "          element.innerHTML = '';\n",
              "          dataTable['output_type'] = 'display_data';\n",
              "          await google.colab.output.renderOutput(dataTable, element);\n",
              "          const docLink = document.createElement('div');\n",
              "          docLink.innerHTML = docLinkHtml;\n",
              "          element.appendChild(docLink);\n",
              "        }\n",
              "      </script>\n",
              "    </div>\n",
              "  </div>\n",
              "  "
            ]
          },
          "metadata": {},
          "execution_count": 99
        }
      ]
    },
    {
      "cell_type": "markdown",
      "source": [
        "### Removing irrelevant columns"
      ],
      "metadata": {
        "id": "ll5oxIQYAXfU"
      }
    },
    {
      "cell_type": "markdown",
      "source": [
        "**Next**, Check for null values in each column"
      ],
      "metadata": {
        "id": "z2zE8k0cx6ee"
      }
    },
    {
      "cell_type": "code",
      "source": [
        "# loop through each column in the dataframe\n",
        "for col in df_hotelList.columns:\n",
        "    # calculate percentage of null values\n",
        "    null_percent = df_hotelList[col].isnull().sum() / len(df_hotelList) * 100\n",
        "    \n",
        "    # print the column name and the percentages\n",
        "    print(f\"{col} : {null_percent:.2f}% null \")"
      ],
      "metadata": {
        "id": "Dmi81bOZx9Ww",
        "colab": {
          "base_uri": "https://localhost:8080/"
        },
        "outputId": "c06e63ca-8216-4995-ba3b-6704a6aa7bd9"
      },
      "execution_count": null,
      "outputs": [
        {
          "output_type": "stream",
          "name": "stdout",
          "text": [
            "hotel_name : 0.00% null \n",
            "url : 0.00% null \n",
            "locality : 0.00% null \n",
            "reviews : 0.00% null \n",
            "tripadvisor_rating : 100.00% null \n",
            "checkIn : 0.00% null \n",
            "checkOut : 0.00% null \n",
            "booking_provider : 0.00% null \n",
            "no_of_deals : 0.00% null \n",
            "hotel_features : 100.00% null \n",
            "price_currency : 66.67% null \n",
            "price_value : 66.67% null \n"
          ]
        }
      ]
    },
    {
      "cell_type": "markdown",
      "source": [
        "**Observation:** tripadvisor_rating and hotel_features are 100% null, making them irrelavant. Let us remove them"
      ],
      "metadata": {
        "id": "MC7EipsSyK11"
      }
    },
    {
      "cell_type": "code",
      "source": [
        "df_hotelList = df_hotelList.drop(['tripadvisor_rating', 'hotel_features'], axis=1)\n",
        "df_hotelList.head()"
      ],
      "metadata": {
        "id": "taHkL8Xy0oOb",
        "colab": {
          "base_uri": "https://localhost:8080/",
          "height": 206
        },
        "outputId": "4ea2b58a-9bcd-4468-8b7d-f135cd17cae8"
      },
      "execution_count": null,
      "outputs": [
        {
          "output_type": "execute_result",
          "data": {
            "text/plain": [
              "                               hotel_name  \\\n",
              "0  Novotel Paris Centre Gare Montparnasse   \n",
              "1                            Les3chambres   \n",
              "2                   La Chambre Parisienne   \n",
              "3              Hyatt Regency Paris Etoile   \n",
              "4                            Hotel Darcet   \n",
              "\n",
              "                                                 url locality  reviews  \\\n",
              "0  http://www.tripadvisor.com/Hotel_Review-g18714...    Paris     2313   \n",
              "1  http://www.tripadvisor.com/Hotel_Review-g18714...    Paris      519   \n",
              "2  http://www.tripadvisor.com/Hotel_Review-g18714...    Paris       91   \n",
              "3  http://www.tripadvisor.com/Hotel_Review-g18714...    Paris      663   \n",
              "4  http://www.tripadvisor.com/Hotel_Review-g18714...    Paris      942   \n",
              "\n",
              "      checkIn    checkOut booking_provider  no_of_deals price_currency  \\\n",
              "0  2019/10/01  2019/10/05      Booking.com           11              $   \n",
              "1  2019/10/01  2019/10/05      Booking.com            0            NaN   \n",
              "2  2019/10/01  2019/10/05      TripAdvisor            5            NaN   \n",
              "3  2019/10/01  2019/10/05      Booking.com           12            NaN   \n",
              "4  2019/10/01  2019/10/05      Booking.com           12            NaN   \n",
              "\n",
              "  price_value  \n",
              "0         225  \n",
              "1         NaN  \n",
              "2         NaN  \n",
              "3         NaN  \n",
              "4         NaN  "
            ],
            "text/html": [
              "\n",
              "  <div id=\"df-0d3d02b8-a9b8-4fba-8955-38d820358b11\">\n",
              "    <div class=\"colab-df-container\">\n",
              "      <div>\n",
              "<style scoped>\n",
              "    .dataframe tbody tr th:only-of-type {\n",
              "        vertical-align: middle;\n",
              "    }\n",
              "\n",
              "    .dataframe tbody tr th {\n",
              "        vertical-align: top;\n",
              "    }\n",
              "\n",
              "    .dataframe thead th {\n",
              "        text-align: right;\n",
              "    }\n",
              "</style>\n",
              "<table border=\"1\" class=\"dataframe\">\n",
              "  <thead>\n",
              "    <tr style=\"text-align: right;\">\n",
              "      <th></th>\n",
              "      <th>hotel_name</th>\n",
              "      <th>url</th>\n",
              "      <th>locality</th>\n",
              "      <th>reviews</th>\n",
              "      <th>checkIn</th>\n",
              "      <th>checkOut</th>\n",
              "      <th>booking_provider</th>\n",
              "      <th>no_of_deals</th>\n",
              "      <th>price_currency</th>\n",
              "      <th>price_value</th>\n",
              "    </tr>\n",
              "  </thead>\n",
              "  <tbody>\n",
              "    <tr>\n",
              "      <th>0</th>\n",
              "      <td>Novotel Paris Centre Gare Montparnasse</td>\n",
              "      <td>http://www.tripadvisor.com/Hotel_Review-g18714...</td>\n",
              "      <td>Paris</td>\n",
              "      <td>2313</td>\n",
              "      <td>2019/10/01</td>\n",
              "      <td>2019/10/05</td>\n",
              "      <td>Booking.com</td>\n",
              "      <td>11</td>\n",
              "      <td>$</td>\n",
              "      <td>225</td>\n",
              "    </tr>\n",
              "    <tr>\n",
              "      <th>1</th>\n",
              "      <td>Les3chambres</td>\n",
              "      <td>http://www.tripadvisor.com/Hotel_Review-g18714...</td>\n",
              "      <td>Paris</td>\n",
              "      <td>519</td>\n",
              "      <td>2019/10/01</td>\n",
              "      <td>2019/10/05</td>\n",
              "      <td>Booking.com</td>\n",
              "      <td>0</td>\n",
              "      <td>NaN</td>\n",
              "      <td>NaN</td>\n",
              "    </tr>\n",
              "    <tr>\n",
              "      <th>2</th>\n",
              "      <td>La Chambre Parisienne</td>\n",
              "      <td>http://www.tripadvisor.com/Hotel_Review-g18714...</td>\n",
              "      <td>Paris</td>\n",
              "      <td>91</td>\n",
              "      <td>2019/10/01</td>\n",
              "      <td>2019/10/05</td>\n",
              "      <td>TripAdvisor</td>\n",
              "      <td>5</td>\n",
              "      <td>NaN</td>\n",
              "      <td>NaN</td>\n",
              "    </tr>\n",
              "    <tr>\n",
              "      <th>3</th>\n",
              "      <td>Hyatt Regency Paris Etoile</td>\n",
              "      <td>http://www.tripadvisor.com/Hotel_Review-g18714...</td>\n",
              "      <td>Paris</td>\n",
              "      <td>663</td>\n",
              "      <td>2019/10/01</td>\n",
              "      <td>2019/10/05</td>\n",
              "      <td>Booking.com</td>\n",
              "      <td>12</td>\n",
              "      <td>NaN</td>\n",
              "      <td>NaN</td>\n",
              "    </tr>\n",
              "    <tr>\n",
              "      <th>4</th>\n",
              "      <td>Hotel Darcet</td>\n",
              "      <td>http://www.tripadvisor.com/Hotel_Review-g18714...</td>\n",
              "      <td>Paris</td>\n",
              "      <td>942</td>\n",
              "      <td>2019/10/01</td>\n",
              "      <td>2019/10/05</td>\n",
              "      <td>Booking.com</td>\n",
              "      <td>12</td>\n",
              "      <td>NaN</td>\n",
              "      <td>NaN</td>\n",
              "    </tr>\n",
              "  </tbody>\n",
              "</table>\n",
              "</div>\n",
              "      <button class=\"colab-df-convert\" onclick=\"convertToInteractive('df-0d3d02b8-a9b8-4fba-8955-38d820358b11')\"\n",
              "              title=\"Convert this dataframe to an interactive table.\"\n",
              "              style=\"display:none;\">\n",
              "        \n",
              "  <svg xmlns=\"http://www.w3.org/2000/svg\" height=\"24px\"viewBox=\"0 0 24 24\"\n",
              "       width=\"24px\">\n",
              "    <path d=\"M0 0h24v24H0V0z\" fill=\"none\"/>\n",
              "    <path d=\"M18.56 5.44l.94 2.06.94-2.06 2.06-.94-2.06-.94-.94-2.06-.94 2.06-2.06.94zm-11 1L8.5 8.5l.94-2.06 2.06-.94-2.06-.94L8.5 2.5l-.94 2.06-2.06.94zm10 10l.94 2.06.94-2.06 2.06-.94-2.06-.94-.94-2.06-.94 2.06-2.06.94z\"/><path d=\"M17.41 7.96l-1.37-1.37c-.4-.4-.92-.59-1.43-.59-.52 0-1.04.2-1.43.59L10.3 9.45l-7.72 7.72c-.78.78-.78 2.05 0 2.83L4 21.41c.39.39.9.59 1.41.59.51 0 1.02-.2 1.41-.59l7.78-7.78 2.81-2.81c.8-.78.8-2.07 0-2.86zM5.41 20L4 18.59l7.72-7.72 1.47 1.35L5.41 20z\"/>\n",
              "  </svg>\n",
              "      </button>\n",
              "      \n",
              "  <style>\n",
              "    .colab-df-container {\n",
              "      display:flex;\n",
              "      flex-wrap:wrap;\n",
              "      gap: 12px;\n",
              "    }\n",
              "\n",
              "    .colab-df-convert {\n",
              "      background-color: #E8F0FE;\n",
              "      border: none;\n",
              "      border-radius: 50%;\n",
              "      cursor: pointer;\n",
              "      display: none;\n",
              "      fill: #1967D2;\n",
              "      height: 32px;\n",
              "      padding: 0 0 0 0;\n",
              "      width: 32px;\n",
              "    }\n",
              "\n",
              "    .colab-df-convert:hover {\n",
              "      background-color: #E2EBFA;\n",
              "      box-shadow: 0px 1px 2px rgba(60, 64, 67, 0.3), 0px 1px 3px 1px rgba(60, 64, 67, 0.15);\n",
              "      fill: #174EA6;\n",
              "    }\n",
              "\n",
              "    [theme=dark] .colab-df-convert {\n",
              "      background-color: #3B4455;\n",
              "      fill: #D2E3FC;\n",
              "    }\n",
              "\n",
              "    [theme=dark] .colab-df-convert:hover {\n",
              "      background-color: #434B5C;\n",
              "      box-shadow: 0px 1px 3px 1px rgba(0, 0, 0, 0.15);\n",
              "      filter: drop-shadow(0px 1px 2px rgba(0, 0, 0, 0.3));\n",
              "      fill: #FFFFFF;\n",
              "    }\n",
              "  </style>\n",
              "\n",
              "      <script>\n",
              "        const buttonEl =\n",
              "          document.querySelector('#df-0d3d02b8-a9b8-4fba-8955-38d820358b11 button.colab-df-convert');\n",
              "        buttonEl.style.display =\n",
              "          google.colab.kernel.accessAllowed ? 'block' : 'none';\n",
              "\n",
              "        async function convertToInteractive(key) {\n",
              "          const element = document.querySelector('#df-0d3d02b8-a9b8-4fba-8955-38d820358b11');\n",
              "          const dataTable =\n",
              "            await google.colab.kernel.invokeFunction('convertToInteractive',\n",
              "                                                     [key], {});\n",
              "          if (!dataTable) return;\n",
              "\n",
              "          const docLinkHtml = 'Like what you see? Visit the ' +\n",
              "            '<a target=\"_blank\" href=https://colab.research.google.com/notebooks/data_table.ipynb>data table notebook</a>'\n",
              "            + ' to learn more about interactive tables.';\n",
              "          element.innerHTML = '';\n",
              "          dataTable['output_type'] = 'display_data';\n",
              "          await google.colab.output.renderOutput(dataTable, element);\n",
              "          const docLink = document.createElement('div');\n",
              "          docLink.innerHTML = docLinkHtml;\n",
              "          element.appendChild(docLink);\n",
              "        }\n",
              "      </script>\n",
              "    </div>\n",
              "  </div>\n",
              "  "
            ]
          },
          "metadata": {},
          "execution_count": 101
        }
      ]
    },
    {
      "cell_type": "markdown",
      "source": [
        "\n",
        "**Next**, Let us check the percent of uniqueness of each column."
      ],
      "metadata": {
        "id": "oufETa9QxkU-"
      }
    },
    {
      "cell_type": "code",
      "source": [
        "col_list = [col for col in df_reviews.columns if not isinstance(df_reviews[col][0], list)]\n",
        "num_cols = len(col_list)\n",
        "for i, col in enumerate(col_list):\n",
        "    unique = len(df_reviews[col].dropna().unique())\n",
        "    if unique == 1: \n",
        "        unique = 0\n",
        "    col_list[i] = (col, (unique)*100/df_reviews.shape[0])\n",
        "\n",
        "# sort the list based on the values in descending order\n",
        "sorted_col = sorted(col_list, key=lambda x: x[1], reverse=True)\n",
        "\n",
        "for col in sorted_col:\n",
        "    print(f\"{col[0]} : {col[1]:.2f}% unique\")\n"
      ],
      "metadata": {
        "colab": {
          "base_uri": "https://localhost:8080/"
        },
        "id": "RwvfZXwmzr1d",
        "outputId": "1adf9965-fd3c-4c2a-9878-c26d4cae77af"
      },
      "execution_count": null,
      "outputs": [
        {
          "output_type": "stream",
          "name": "stdout",
          "text": [
            "review_body : 100.00% unique\n",
            "review_date : 57.57% unique\n",
            "hotel_name : 2.01% unique\n"
          ]
        }
      ]
    },
    {
      "cell_type": "markdown",
      "source": [
        "**Observation:** we can remove review_date."
      ],
      "metadata": {
        "id": "z4HOCFsL0KWa"
      }
    },
    {
      "cell_type": "code",
      "source": [
        "df_reviews = df_reviews.drop(['review_date'], axis=1)"
      ],
      "metadata": {
        "id": "VquJsdYf0WST"
      },
      "execution_count": null,
      "outputs": []
    },
    {
      "cell_type": "code",
      "source": [
        "col_list = list(df_hotelList)\n",
        "num_cols = len(col_list)\n",
        "for i, col in enumerate(col_list):\n",
        "  unique = len(df_hotelList[col].dropna().unique().tolist())\n",
        "  if unique == 1: \n",
        "    unique = 0\n",
        "  col_list[i] = (col, (unique)*100/df_hotelList.shape[0])\n",
        "\n",
        "# sort the list based on the values in descending order\n",
        "sorted_col = sorted(col_list, key=lambda x: x[1], reverse=True)\n",
        "\n",
        "for col in sorted_col:\n",
        "  print(f\"{col[0]} : {col[1]:.2f}% unique\")\n"
      ],
      "metadata": {
        "id": "-9ChCHHdxlK7",
        "colab": {
          "base_uri": "https://localhost:8080/"
        },
        "outputId": "7c149174-fa1b-4cba-a4e2-53dd97c8e454"
      },
      "execution_count": null,
      "outputs": [
        {
          "output_type": "stream",
          "name": "stdout",
          "text": [
            "hotel_name : 100.00% unique\n",
            "url : 100.00% unique\n",
            "reviews : 100.00% unique\n",
            "price_value : 33.33% unique\n",
            "no_of_deals : 30.00% unique\n",
            "booking_provider : 23.33% unique\n",
            "locality : 0.00% unique\n",
            "checkIn : 0.00% unique\n",
            "checkOut : 0.00% unique\n",
            "price_currency : 0.00% unique\n"
          ]
        }
      ]
    },
    {
      "cell_type": "markdown",
      "source": [
        "**Observation:** \n",
        "* We can drop locality, checkIn, checkOut and price_currency for its 100% similarity or say 0% uniqueness as it is not going to add any value to our model."
      ],
      "metadata": {
        "id": "lEcueRhf0xmP"
      }
    },
    {
      "cell_type": "code",
      "source": [
        "df_hotelList = df_hotelList.drop(['locality', 'checkIn', 'checkOut', 'price_currency'], axis=1)\n",
        "df_hotelList.head()"
      ],
      "metadata": {
        "id": "sTfJP8vm1CS8",
        "colab": {
          "base_uri": "https://localhost:8080/",
          "height": 206
        },
        "outputId": "54e4519f-7954-4d28-ebfc-65867c566e75"
      },
      "execution_count": null,
      "outputs": [
        {
          "output_type": "execute_result",
          "data": {
            "text/plain": [
              "                               hotel_name  \\\n",
              "0  Novotel Paris Centre Gare Montparnasse   \n",
              "1                            Les3chambres   \n",
              "2                   La Chambre Parisienne   \n",
              "3              Hyatt Regency Paris Etoile   \n",
              "4                            Hotel Darcet   \n",
              "\n",
              "                                                 url  reviews  \\\n",
              "0  http://www.tripadvisor.com/Hotel_Review-g18714...     2313   \n",
              "1  http://www.tripadvisor.com/Hotel_Review-g18714...      519   \n",
              "2  http://www.tripadvisor.com/Hotel_Review-g18714...       91   \n",
              "3  http://www.tripadvisor.com/Hotel_Review-g18714...      663   \n",
              "4  http://www.tripadvisor.com/Hotel_Review-g18714...      942   \n",
              "\n",
              "  booking_provider  no_of_deals price_value  \n",
              "0      Booking.com           11         225  \n",
              "1      Booking.com            0         NaN  \n",
              "2      TripAdvisor            5         NaN  \n",
              "3      Booking.com           12         NaN  \n",
              "4      Booking.com           12         NaN  "
            ],
            "text/html": [
              "\n",
              "  <div id=\"df-78053472-bbb2-485b-adbf-d23e5bef82ab\">\n",
              "    <div class=\"colab-df-container\">\n",
              "      <div>\n",
              "<style scoped>\n",
              "    .dataframe tbody tr th:only-of-type {\n",
              "        vertical-align: middle;\n",
              "    }\n",
              "\n",
              "    .dataframe tbody tr th {\n",
              "        vertical-align: top;\n",
              "    }\n",
              "\n",
              "    .dataframe thead th {\n",
              "        text-align: right;\n",
              "    }\n",
              "</style>\n",
              "<table border=\"1\" class=\"dataframe\">\n",
              "  <thead>\n",
              "    <tr style=\"text-align: right;\">\n",
              "      <th></th>\n",
              "      <th>hotel_name</th>\n",
              "      <th>url</th>\n",
              "      <th>reviews</th>\n",
              "      <th>booking_provider</th>\n",
              "      <th>no_of_deals</th>\n",
              "      <th>price_value</th>\n",
              "    </tr>\n",
              "  </thead>\n",
              "  <tbody>\n",
              "    <tr>\n",
              "      <th>0</th>\n",
              "      <td>Novotel Paris Centre Gare Montparnasse</td>\n",
              "      <td>http://www.tripadvisor.com/Hotel_Review-g18714...</td>\n",
              "      <td>2313</td>\n",
              "      <td>Booking.com</td>\n",
              "      <td>11</td>\n",
              "      <td>225</td>\n",
              "    </tr>\n",
              "    <tr>\n",
              "      <th>1</th>\n",
              "      <td>Les3chambres</td>\n",
              "      <td>http://www.tripadvisor.com/Hotel_Review-g18714...</td>\n",
              "      <td>519</td>\n",
              "      <td>Booking.com</td>\n",
              "      <td>0</td>\n",
              "      <td>NaN</td>\n",
              "    </tr>\n",
              "    <tr>\n",
              "      <th>2</th>\n",
              "      <td>La Chambre Parisienne</td>\n",
              "      <td>http://www.tripadvisor.com/Hotel_Review-g18714...</td>\n",
              "      <td>91</td>\n",
              "      <td>TripAdvisor</td>\n",
              "      <td>5</td>\n",
              "      <td>NaN</td>\n",
              "    </tr>\n",
              "    <tr>\n",
              "      <th>3</th>\n",
              "      <td>Hyatt Regency Paris Etoile</td>\n",
              "      <td>http://www.tripadvisor.com/Hotel_Review-g18714...</td>\n",
              "      <td>663</td>\n",
              "      <td>Booking.com</td>\n",
              "      <td>12</td>\n",
              "      <td>NaN</td>\n",
              "    </tr>\n",
              "    <tr>\n",
              "      <th>4</th>\n",
              "      <td>Hotel Darcet</td>\n",
              "      <td>http://www.tripadvisor.com/Hotel_Review-g18714...</td>\n",
              "      <td>942</td>\n",
              "      <td>Booking.com</td>\n",
              "      <td>12</td>\n",
              "      <td>NaN</td>\n",
              "    </tr>\n",
              "  </tbody>\n",
              "</table>\n",
              "</div>\n",
              "      <button class=\"colab-df-convert\" onclick=\"convertToInteractive('df-78053472-bbb2-485b-adbf-d23e5bef82ab')\"\n",
              "              title=\"Convert this dataframe to an interactive table.\"\n",
              "              style=\"display:none;\">\n",
              "        \n",
              "  <svg xmlns=\"http://www.w3.org/2000/svg\" height=\"24px\"viewBox=\"0 0 24 24\"\n",
              "       width=\"24px\">\n",
              "    <path d=\"M0 0h24v24H0V0z\" fill=\"none\"/>\n",
              "    <path d=\"M18.56 5.44l.94 2.06.94-2.06 2.06-.94-2.06-.94-.94-2.06-.94 2.06-2.06.94zm-11 1L8.5 8.5l.94-2.06 2.06-.94-2.06-.94L8.5 2.5l-.94 2.06-2.06.94zm10 10l.94 2.06.94-2.06 2.06-.94-2.06-.94-.94-2.06-.94 2.06-2.06.94z\"/><path d=\"M17.41 7.96l-1.37-1.37c-.4-.4-.92-.59-1.43-.59-.52 0-1.04.2-1.43.59L10.3 9.45l-7.72 7.72c-.78.78-.78 2.05 0 2.83L4 21.41c.39.39.9.59 1.41.59.51 0 1.02-.2 1.41-.59l7.78-7.78 2.81-2.81c.8-.78.8-2.07 0-2.86zM5.41 20L4 18.59l7.72-7.72 1.47 1.35L5.41 20z\"/>\n",
              "  </svg>\n",
              "      </button>\n",
              "      \n",
              "  <style>\n",
              "    .colab-df-container {\n",
              "      display:flex;\n",
              "      flex-wrap:wrap;\n",
              "      gap: 12px;\n",
              "    }\n",
              "\n",
              "    .colab-df-convert {\n",
              "      background-color: #E8F0FE;\n",
              "      border: none;\n",
              "      border-radius: 50%;\n",
              "      cursor: pointer;\n",
              "      display: none;\n",
              "      fill: #1967D2;\n",
              "      height: 32px;\n",
              "      padding: 0 0 0 0;\n",
              "      width: 32px;\n",
              "    }\n",
              "\n",
              "    .colab-df-convert:hover {\n",
              "      background-color: #E2EBFA;\n",
              "      box-shadow: 0px 1px 2px rgba(60, 64, 67, 0.3), 0px 1px 3px 1px rgba(60, 64, 67, 0.15);\n",
              "      fill: #174EA6;\n",
              "    }\n",
              "\n",
              "    [theme=dark] .colab-df-convert {\n",
              "      background-color: #3B4455;\n",
              "      fill: #D2E3FC;\n",
              "    }\n",
              "\n",
              "    [theme=dark] .colab-df-convert:hover {\n",
              "      background-color: #434B5C;\n",
              "      box-shadow: 0px 1px 3px 1px rgba(0, 0, 0, 0.15);\n",
              "      filter: drop-shadow(0px 1px 2px rgba(0, 0, 0, 0.3));\n",
              "      fill: #FFFFFF;\n",
              "    }\n",
              "  </style>\n",
              "\n",
              "      <script>\n",
              "        const buttonEl =\n",
              "          document.querySelector('#df-78053472-bbb2-485b-adbf-d23e5bef82ab button.colab-df-convert');\n",
              "        buttonEl.style.display =\n",
              "          google.colab.kernel.accessAllowed ? 'block' : 'none';\n",
              "\n",
              "        async function convertToInteractive(key) {\n",
              "          const element = document.querySelector('#df-78053472-bbb2-485b-adbf-d23e5bef82ab');\n",
              "          const dataTable =\n",
              "            await google.colab.kernel.invokeFunction('convertToInteractive',\n",
              "                                                     [key], {});\n",
              "          if (!dataTable) return;\n",
              "\n",
              "          const docLinkHtml = 'Like what you see? Visit the ' +\n",
              "            '<a target=\"_blank\" href=https://colab.research.google.com/notebooks/data_table.ipynb>data table notebook</a>'\n",
              "            + ' to learn more about interactive tables.';\n",
              "          element.innerHTML = '';\n",
              "          dataTable['output_type'] = 'display_data';\n",
              "          await google.colab.output.renderOutput(dataTable, element);\n",
              "          const docLink = document.createElement('div');\n",
              "          docLink.innerHTML = docLinkHtml;\n",
              "          element.appendChild(docLink);\n",
              "        }\n",
              "      </script>\n",
              "    </div>\n",
              "  </div>\n",
              "  "
            ]
          },
          "metadata": {},
          "execution_count": 105
        }
      ]
    },
    {
      "cell_type": "markdown",
      "source": [
        "**Observation:** \n",
        "* We can merge the data based on hotel name now, since we already merged our data based on url. We can thus drop hotelUrl."
      ],
      "metadata": {
        "id": "AzkM7pBPW5GK"
      }
    },
    {
      "cell_type": "code",
      "source": [
        "df_hotelList = df_hotelList.drop(['url'], axis=1)\n",
        "df_hotelList.head()"
      ],
      "metadata": {
        "id": "5iZ2wSeOXDMA",
        "colab": {
          "base_uri": "https://localhost:8080/",
          "height": 206
        },
        "outputId": "f93ed9e7-6dcf-48bc-f9d0-a3816625417c"
      },
      "execution_count": null,
      "outputs": [
        {
          "output_type": "execute_result",
          "data": {
            "text/plain": [
              "                               hotel_name  reviews booking_provider  \\\n",
              "0  Novotel Paris Centre Gare Montparnasse     2313      Booking.com   \n",
              "1                            Les3chambres      519      Booking.com   \n",
              "2                   La Chambre Parisienne       91      TripAdvisor   \n",
              "3              Hyatt Regency Paris Etoile      663      Booking.com   \n",
              "4                            Hotel Darcet      942      Booking.com   \n",
              "\n",
              "   no_of_deals price_value  \n",
              "0           11         225  \n",
              "1            0         NaN  \n",
              "2            5         NaN  \n",
              "3           12         NaN  \n",
              "4           12         NaN  "
            ],
            "text/html": [
              "\n",
              "  <div id=\"df-e3975722-d627-4c5a-8e7c-c7cb9b38c8a7\">\n",
              "    <div class=\"colab-df-container\">\n",
              "      <div>\n",
              "<style scoped>\n",
              "    .dataframe tbody tr th:only-of-type {\n",
              "        vertical-align: middle;\n",
              "    }\n",
              "\n",
              "    .dataframe tbody tr th {\n",
              "        vertical-align: top;\n",
              "    }\n",
              "\n",
              "    .dataframe thead th {\n",
              "        text-align: right;\n",
              "    }\n",
              "</style>\n",
              "<table border=\"1\" class=\"dataframe\">\n",
              "  <thead>\n",
              "    <tr style=\"text-align: right;\">\n",
              "      <th></th>\n",
              "      <th>hotel_name</th>\n",
              "      <th>reviews</th>\n",
              "      <th>booking_provider</th>\n",
              "      <th>no_of_deals</th>\n",
              "      <th>price_value</th>\n",
              "    </tr>\n",
              "  </thead>\n",
              "  <tbody>\n",
              "    <tr>\n",
              "      <th>0</th>\n",
              "      <td>Novotel Paris Centre Gare Montparnasse</td>\n",
              "      <td>2313</td>\n",
              "      <td>Booking.com</td>\n",
              "      <td>11</td>\n",
              "      <td>225</td>\n",
              "    </tr>\n",
              "    <tr>\n",
              "      <th>1</th>\n",
              "      <td>Les3chambres</td>\n",
              "      <td>519</td>\n",
              "      <td>Booking.com</td>\n",
              "      <td>0</td>\n",
              "      <td>NaN</td>\n",
              "    </tr>\n",
              "    <tr>\n",
              "      <th>2</th>\n",
              "      <td>La Chambre Parisienne</td>\n",
              "      <td>91</td>\n",
              "      <td>TripAdvisor</td>\n",
              "      <td>5</td>\n",
              "      <td>NaN</td>\n",
              "    </tr>\n",
              "    <tr>\n",
              "      <th>3</th>\n",
              "      <td>Hyatt Regency Paris Etoile</td>\n",
              "      <td>663</td>\n",
              "      <td>Booking.com</td>\n",
              "      <td>12</td>\n",
              "      <td>NaN</td>\n",
              "    </tr>\n",
              "    <tr>\n",
              "      <th>4</th>\n",
              "      <td>Hotel Darcet</td>\n",
              "      <td>942</td>\n",
              "      <td>Booking.com</td>\n",
              "      <td>12</td>\n",
              "      <td>NaN</td>\n",
              "    </tr>\n",
              "  </tbody>\n",
              "</table>\n",
              "</div>\n",
              "      <button class=\"colab-df-convert\" onclick=\"convertToInteractive('df-e3975722-d627-4c5a-8e7c-c7cb9b38c8a7')\"\n",
              "              title=\"Convert this dataframe to an interactive table.\"\n",
              "              style=\"display:none;\">\n",
              "        \n",
              "  <svg xmlns=\"http://www.w3.org/2000/svg\" height=\"24px\"viewBox=\"0 0 24 24\"\n",
              "       width=\"24px\">\n",
              "    <path d=\"M0 0h24v24H0V0z\" fill=\"none\"/>\n",
              "    <path d=\"M18.56 5.44l.94 2.06.94-2.06 2.06-.94-2.06-.94-.94-2.06-.94 2.06-2.06.94zm-11 1L8.5 8.5l.94-2.06 2.06-.94-2.06-.94L8.5 2.5l-.94 2.06-2.06.94zm10 10l.94 2.06.94-2.06 2.06-.94-2.06-.94-.94-2.06-.94 2.06-2.06.94z\"/><path d=\"M17.41 7.96l-1.37-1.37c-.4-.4-.92-.59-1.43-.59-.52 0-1.04.2-1.43.59L10.3 9.45l-7.72 7.72c-.78.78-.78 2.05 0 2.83L4 21.41c.39.39.9.59 1.41.59.51 0 1.02-.2 1.41-.59l7.78-7.78 2.81-2.81c.8-.78.8-2.07 0-2.86zM5.41 20L4 18.59l7.72-7.72 1.47 1.35L5.41 20z\"/>\n",
              "  </svg>\n",
              "      </button>\n",
              "      \n",
              "  <style>\n",
              "    .colab-df-container {\n",
              "      display:flex;\n",
              "      flex-wrap:wrap;\n",
              "      gap: 12px;\n",
              "    }\n",
              "\n",
              "    .colab-df-convert {\n",
              "      background-color: #E8F0FE;\n",
              "      border: none;\n",
              "      border-radius: 50%;\n",
              "      cursor: pointer;\n",
              "      display: none;\n",
              "      fill: #1967D2;\n",
              "      height: 32px;\n",
              "      padding: 0 0 0 0;\n",
              "      width: 32px;\n",
              "    }\n",
              "\n",
              "    .colab-df-convert:hover {\n",
              "      background-color: #E2EBFA;\n",
              "      box-shadow: 0px 1px 2px rgba(60, 64, 67, 0.3), 0px 1px 3px 1px rgba(60, 64, 67, 0.15);\n",
              "      fill: #174EA6;\n",
              "    }\n",
              "\n",
              "    [theme=dark] .colab-df-convert {\n",
              "      background-color: #3B4455;\n",
              "      fill: #D2E3FC;\n",
              "    }\n",
              "\n",
              "    [theme=dark] .colab-df-convert:hover {\n",
              "      background-color: #434B5C;\n",
              "      box-shadow: 0px 1px 3px 1px rgba(0, 0, 0, 0.15);\n",
              "      filter: drop-shadow(0px 1px 2px rgba(0, 0, 0, 0.3));\n",
              "      fill: #FFFFFF;\n",
              "    }\n",
              "  </style>\n",
              "\n",
              "      <script>\n",
              "        const buttonEl =\n",
              "          document.querySelector('#df-e3975722-d627-4c5a-8e7c-c7cb9b38c8a7 button.colab-df-convert');\n",
              "        buttonEl.style.display =\n",
              "          google.colab.kernel.accessAllowed ? 'block' : 'none';\n",
              "\n",
              "        async function convertToInteractive(key) {\n",
              "          const element = document.querySelector('#df-e3975722-d627-4c5a-8e7c-c7cb9b38c8a7');\n",
              "          const dataTable =\n",
              "            await google.colab.kernel.invokeFunction('convertToInteractive',\n",
              "                                                     [key], {});\n",
              "          if (!dataTable) return;\n",
              "\n",
              "          const docLinkHtml = 'Like what you see? Visit the ' +\n",
              "            '<a target=\"_blank\" href=https://colab.research.google.com/notebooks/data_table.ipynb>data table notebook</a>'\n",
              "            + ' to learn more about interactive tables.';\n",
              "          element.innerHTML = '';\n",
              "          dataTable['output_type'] = 'display_data';\n",
              "          await google.colab.output.renderOutput(dataTable, element);\n",
              "          const docLink = document.createElement('div');\n",
              "          docLink.innerHTML = docLinkHtml;\n",
              "          element.appendChild(docLink);\n",
              "        }\n",
              "      </script>\n",
              "    </div>\n",
              "  </div>\n",
              "  "
            ]
          },
          "metadata": {},
          "execution_count": 106
        }
      ]
    },
    {
      "cell_type": "markdown",
      "source": [
        "### Handling missing values"
      ],
      "metadata": {
        "id": "AvAD-5ObAcNM"
      }
    },
    {
      "cell_type": "code",
      "source": [
        "# loop through each column in the dataframe\n",
        "for col in df_reviews.columns:\n",
        "    # calculate percentage of null values\n",
        "    null_percent = df_reviews[col].isnull().sum() / len(df_reviews) * 100\n",
        "    \n",
        "    # print the column name and the percentages\n",
        "    print(f\"{col} : {null_percent:.2f}% null \")"
      ],
      "metadata": {
        "colab": {
          "base_uri": "https://localhost:8080/"
        },
        "id": "F3tzKz99zRH9",
        "outputId": "73b07b96-90d8-4fbc-f6a9-5d39d3d4b46a"
      },
      "execution_count": null,
      "outputs": [
        {
          "output_type": "stream",
          "name": "stdout",
          "text": [
            "review_body : 0.00% null \n",
            "hotel_name : 0.00% null \n"
          ]
        }
      ]
    },
    {
      "cell_type": "markdown",
      "source": [
        "**Observation:** No missing values in reviews."
      ],
      "metadata": {
        "id": "xNAaClIdzc7W"
      }
    },
    {
      "cell_type": "code",
      "source": [
        "# loop through each column in the dataframe\n",
        "for col in df_hotelList.columns:\n",
        "    # calculate percentage of null values\n",
        "    null_percent = df_hotelList[col].isnull().sum() / len(df_hotelList) * 100\n",
        "    \n",
        "    # print the column name and the percentages\n",
        "    print(f\"{col} : {null_percent:.2f}% null \")"
      ],
      "metadata": {
        "id": "y9-dCoh7YZux",
        "colab": {
          "base_uri": "https://localhost:8080/"
        },
        "outputId": "38ea9403-7cbd-46d0-c0b8-ab05430146f5"
      },
      "execution_count": null,
      "outputs": [
        {
          "output_type": "stream",
          "name": "stdout",
          "text": [
            "hotel_name : 0.00% null \n",
            "reviews : 0.00% null \n",
            "booking_provider : 0.00% null \n",
            "no_of_deals : 0.00% null \n",
            "price_value : 66.67% null \n"
          ]
        }
      ]
    },
    {
      "cell_type": "markdown",
      "source": [
        "**Observation:** The price_value is 66.22% null . Let us manage them by filling in the missing values with some measure of central tendency such as the mean or median of the available data. This would let us to retain the rows with missing values and preserve more of the data."
      ],
      "metadata": {
        "id": "qFJHyzSDYqtR"
      }
    },
    {
      "cell_type": "code",
      "source": [
        "# Convert the 'price_per_night' column to a numeric data type\n",
        "df_hotelList['price_value'] = pd.to_numeric(df_hotelList['price_value'], errors='coerce')\n",
        "\n",
        "# Calculate the mean or median of the available values in the 'price_per_night' column\n",
        "price_mean = df_hotelList['price_value'].mean()\n",
        "price_median = df_hotelList['price_value'].median()\n",
        "\n",
        "# Fill in the missing values with the mean or median\n",
        "df_hotelList['price_value'] = df_hotelList['price_value'].fillna(price_mean)  # or price_median\n",
        "\n",
        "# Verify that there are no more missing values in the 'price_per_night' column\n",
        "print(df_hotelList['price_value'].isnull().sum())\n"
      ],
      "metadata": {
        "id": "JsC2T8r0ZnYr",
        "colab": {
          "base_uri": "https://localhost:8080/"
        },
        "outputId": "d3f7c54c-ffa6-4716-b902-6c31a25caca8"
      },
      "execution_count": null,
      "outputs": [
        {
          "output_type": "stream",
          "name": "stdout",
          "text": [
            "0\n"
          ]
        }
      ]
    },
    {
      "cell_type": "code",
      "source": [
        "df_hotelList.head()"
      ],
      "metadata": {
        "id": "HbcNrKF0a-DS",
        "colab": {
          "base_uri": "https://localhost:8080/",
          "height": 206
        },
        "outputId": "51cf223f-daeb-4e8b-ad6f-a3986c6ebc6d"
      },
      "execution_count": null,
      "outputs": [
        {
          "output_type": "execute_result",
          "data": {
            "text/plain": [
              "                               hotel_name  reviews booking_provider  \\\n",
              "0  Novotel Paris Centre Gare Montparnasse     2313      Booking.com   \n",
              "1                            Les3chambres      519      Booking.com   \n",
              "2                   La Chambre Parisienne       91      TripAdvisor   \n",
              "3              Hyatt Regency Paris Etoile      663      Booking.com   \n",
              "4                            Hotel Darcet      942      Booking.com   \n",
              "\n",
              "   no_of_deals  price_value  \n",
              "0           11        225.0  \n",
              "1            0        205.2  \n",
              "2            5        205.2  \n",
              "3           12        205.2  \n",
              "4           12        205.2  "
            ],
            "text/html": [
              "\n",
              "  <div id=\"df-3964bef7-4e66-42e9-8c6b-5d2cb74dd9cc\">\n",
              "    <div class=\"colab-df-container\">\n",
              "      <div>\n",
              "<style scoped>\n",
              "    .dataframe tbody tr th:only-of-type {\n",
              "        vertical-align: middle;\n",
              "    }\n",
              "\n",
              "    .dataframe tbody tr th {\n",
              "        vertical-align: top;\n",
              "    }\n",
              "\n",
              "    .dataframe thead th {\n",
              "        text-align: right;\n",
              "    }\n",
              "</style>\n",
              "<table border=\"1\" class=\"dataframe\">\n",
              "  <thead>\n",
              "    <tr style=\"text-align: right;\">\n",
              "      <th></th>\n",
              "      <th>hotel_name</th>\n",
              "      <th>reviews</th>\n",
              "      <th>booking_provider</th>\n",
              "      <th>no_of_deals</th>\n",
              "      <th>price_value</th>\n",
              "    </tr>\n",
              "  </thead>\n",
              "  <tbody>\n",
              "    <tr>\n",
              "      <th>0</th>\n",
              "      <td>Novotel Paris Centre Gare Montparnasse</td>\n",
              "      <td>2313</td>\n",
              "      <td>Booking.com</td>\n",
              "      <td>11</td>\n",
              "      <td>225.0</td>\n",
              "    </tr>\n",
              "    <tr>\n",
              "      <th>1</th>\n",
              "      <td>Les3chambres</td>\n",
              "      <td>519</td>\n",
              "      <td>Booking.com</td>\n",
              "      <td>0</td>\n",
              "      <td>205.2</td>\n",
              "    </tr>\n",
              "    <tr>\n",
              "      <th>2</th>\n",
              "      <td>La Chambre Parisienne</td>\n",
              "      <td>91</td>\n",
              "      <td>TripAdvisor</td>\n",
              "      <td>5</td>\n",
              "      <td>205.2</td>\n",
              "    </tr>\n",
              "    <tr>\n",
              "      <th>3</th>\n",
              "      <td>Hyatt Regency Paris Etoile</td>\n",
              "      <td>663</td>\n",
              "      <td>Booking.com</td>\n",
              "      <td>12</td>\n",
              "      <td>205.2</td>\n",
              "    </tr>\n",
              "    <tr>\n",
              "      <th>4</th>\n",
              "      <td>Hotel Darcet</td>\n",
              "      <td>942</td>\n",
              "      <td>Booking.com</td>\n",
              "      <td>12</td>\n",
              "      <td>205.2</td>\n",
              "    </tr>\n",
              "  </tbody>\n",
              "</table>\n",
              "</div>\n",
              "      <button class=\"colab-df-convert\" onclick=\"convertToInteractive('df-3964bef7-4e66-42e9-8c6b-5d2cb74dd9cc')\"\n",
              "              title=\"Convert this dataframe to an interactive table.\"\n",
              "              style=\"display:none;\">\n",
              "        \n",
              "  <svg xmlns=\"http://www.w3.org/2000/svg\" height=\"24px\"viewBox=\"0 0 24 24\"\n",
              "       width=\"24px\">\n",
              "    <path d=\"M0 0h24v24H0V0z\" fill=\"none\"/>\n",
              "    <path d=\"M18.56 5.44l.94 2.06.94-2.06 2.06-.94-2.06-.94-.94-2.06-.94 2.06-2.06.94zm-11 1L8.5 8.5l.94-2.06 2.06-.94-2.06-.94L8.5 2.5l-.94 2.06-2.06.94zm10 10l.94 2.06.94-2.06 2.06-.94-2.06-.94-.94-2.06-.94 2.06-2.06.94z\"/><path d=\"M17.41 7.96l-1.37-1.37c-.4-.4-.92-.59-1.43-.59-.52 0-1.04.2-1.43.59L10.3 9.45l-7.72 7.72c-.78.78-.78 2.05 0 2.83L4 21.41c.39.39.9.59 1.41.59.51 0 1.02-.2 1.41-.59l7.78-7.78 2.81-2.81c.8-.78.8-2.07 0-2.86zM5.41 20L4 18.59l7.72-7.72 1.47 1.35L5.41 20z\"/>\n",
              "  </svg>\n",
              "      </button>\n",
              "      \n",
              "  <style>\n",
              "    .colab-df-container {\n",
              "      display:flex;\n",
              "      flex-wrap:wrap;\n",
              "      gap: 12px;\n",
              "    }\n",
              "\n",
              "    .colab-df-convert {\n",
              "      background-color: #E8F0FE;\n",
              "      border: none;\n",
              "      border-radius: 50%;\n",
              "      cursor: pointer;\n",
              "      display: none;\n",
              "      fill: #1967D2;\n",
              "      height: 32px;\n",
              "      padding: 0 0 0 0;\n",
              "      width: 32px;\n",
              "    }\n",
              "\n",
              "    .colab-df-convert:hover {\n",
              "      background-color: #E2EBFA;\n",
              "      box-shadow: 0px 1px 2px rgba(60, 64, 67, 0.3), 0px 1px 3px 1px rgba(60, 64, 67, 0.15);\n",
              "      fill: #174EA6;\n",
              "    }\n",
              "\n",
              "    [theme=dark] .colab-df-convert {\n",
              "      background-color: #3B4455;\n",
              "      fill: #D2E3FC;\n",
              "    }\n",
              "\n",
              "    [theme=dark] .colab-df-convert:hover {\n",
              "      background-color: #434B5C;\n",
              "      box-shadow: 0px 1px 3px 1px rgba(0, 0, 0, 0.15);\n",
              "      filter: drop-shadow(0px 1px 2px rgba(0, 0, 0, 0.3));\n",
              "      fill: #FFFFFF;\n",
              "    }\n",
              "  </style>\n",
              "\n",
              "      <script>\n",
              "        const buttonEl =\n",
              "          document.querySelector('#df-3964bef7-4e66-42e9-8c6b-5d2cb74dd9cc button.colab-df-convert');\n",
              "        buttonEl.style.display =\n",
              "          google.colab.kernel.accessAllowed ? 'block' : 'none';\n",
              "\n",
              "        async function convertToInteractive(key) {\n",
              "          const element = document.querySelector('#df-3964bef7-4e66-42e9-8c6b-5d2cb74dd9cc');\n",
              "          const dataTable =\n",
              "            await google.colab.kernel.invokeFunction('convertToInteractive',\n",
              "                                                     [key], {});\n",
              "          if (!dataTable) return;\n",
              "\n",
              "          const docLinkHtml = 'Like what you see? Visit the ' +\n",
              "            '<a target=\"_blank\" href=https://colab.research.google.com/notebooks/data_table.ipynb>data table notebook</a>'\n",
              "            + ' to learn more about interactive tables.';\n",
              "          element.innerHTML = '';\n",
              "          dataTable['output_type'] = 'display_data';\n",
              "          await google.colab.output.renderOutput(dataTable, element);\n",
              "          const docLink = document.createElement('div');\n",
              "          docLink.innerHTML = docLinkHtml;\n",
              "          element.appendChild(docLink);\n",
              "        }\n",
              "      </script>\n",
              "    </div>\n",
              "  </div>\n",
              "  "
            ]
          },
          "metadata": {},
          "execution_count": 110
        }
      ]
    },
    {
      "cell_type": "code",
      "source": [
        "df_hotelList['price_value'].isnull().sum() / len(df_hotelList) * 100\n"
      ],
      "metadata": {
        "id": "TT0CMtsaaKRb",
        "colab": {
          "base_uri": "https://localhost:8080/"
        },
        "outputId": "2474dbbd-1ffb-47c2-f96d-38c5c3d2d928"
      },
      "execution_count": null,
      "outputs": [
        {
          "output_type": "execute_result",
          "data": {
            "text/plain": [
              "0.0"
            ]
          },
          "metadata": {},
          "execution_count": 111
        }
      ]
    },
    {
      "cell_type": "markdown",
      "source": [
        "## Feature transformation"
      ],
      "metadata": {
        "id": "0WCwPvCJunig"
      }
    },
    {
      "cell_type": "markdown",
      "source": [
        "### List all distinct values for each columns\n"
      ],
      "metadata": {
        "id": "R95R6b-X9BBy"
      }
    },
    {
      "cell_type": "code",
      "source": [
        "df_hotelList['no_of_deals'].unique()"
      ],
      "metadata": {
        "id": "013HxAoc9BB6",
        "colab": {
          "base_uri": "https://localhost:8080/"
        },
        "outputId": "e1a50170-1cbd-4907-89a5-fe13028ad174"
      },
      "execution_count": null,
      "outputs": [
        {
          "output_type": "execute_result",
          "data": {
            "text/plain": [
              "array([11,  0,  5, 12, 10, 13, 14, 16,  8])"
            ]
          },
          "metadata": {},
          "execution_count": 114
        }
      ]
    },
    {
      "cell_type": "code",
      "source": [
        "df_hotelList['price_value'].unique()"
      ],
      "metadata": {
        "id": "394aTEJ49BB6",
        "colab": {
          "base_uri": "https://localhost:8080/"
        },
        "outputId": "6278a901-009c-4777-9a6d-79f044ccf465"
      },
      "execution_count": null,
      "outputs": [
        {
          "output_type": "execute_result",
          "data": {
            "text/plain": [
              "array([225. , 205.2, 181. , 229. , 269. , 204. , 287. , 102. , 184. ,\n",
              "       164. , 207. ])"
            ]
          },
          "metadata": {},
          "execution_count": 115
        }
      ]
    },
    {
      "cell_type": "markdown",
      "source": [
        "### Categorical data transformation"
      ],
      "metadata": {
        "id": "0RtYyumnAg3L"
      }
    },
    {
      "cell_type": "code",
      "source": [
        "#Find categorical column in dataframe\n",
        "cat_cols = df_hotelList.select_dtypes(include=['object', 'category']).columns.tolist()\n",
        "cat_cols"
      ],
      "metadata": {
        "id": "15bpeeduiRwC",
        "colab": {
          "base_uri": "https://localhost:8080/"
        },
        "outputId": "8bdb983b-dc3a-42a4-b75a-3f3f9f4ea0a5"
      },
      "execution_count": null,
      "outputs": [
        {
          "output_type": "execute_result",
          "data": {
            "text/plain": [
              "['hotel_name', 'booking_provider']"
            ]
          },
          "metadata": {},
          "execution_count": 116
        }
      ]
    },
    {
      "cell_type": "markdown",
      "source": [
        "**Observation:** We are going to need 'review_body' for search engine, but we must transform 'hotel_name' and 'booking_provider'."
      ],
      "metadata": {
        "id": "j6ICmQNxi29a"
      }
    },
    {
      "cell_type": "code",
      "source": [
        "df_hotelList.head()"
      ],
      "metadata": {
        "id": "ZN4xPS74ewBl",
        "colab": {
          "base_uri": "https://localhost:8080/",
          "height": 206
        },
        "outputId": "74d10f86-cb6f-4094-f3a6-f0e2147b541c"
      },
      "execution_count": null,
      "outputs": [
        {
          "output_type": "execute_result",
          "data": {
            "text/plain": [
              "                               hotel_name  reviews booking_provider  \\\n",
              "0  Novotel Paris Centre Gare Montparnasse     2313      Booking.com   \n",
              "1                            Les3chambres      519      Booking.com   \n",
              "2                   La Chambre Parisienne       91      TripAdvisor   \n",
              "3              Hyatt Regency Paris Etoile      663      Booking.com   \n",
              "4                            Hotel Darcet      942      Booking.com   \n",
              "\n",
              "   no_of_deals  price_value  \n",
              "0           11        225.0  \n",
              "1            0        205.2  \n",
              "2            5        205.2  \n",
              "3           12        205.2  \n",
              "4           12        205.2  "
            ],
            "text/html": [
              "\n",
              "  <div id=\"df-b168f2aa-0395-4666-a0b6-5686d1ec2c9d\">\n",
              "    <div class=\"colab-df-container\">\n",
              "      <div>\n",
              "<style scoped>\n",
              "    .dataframe tbody tr th:only-of-type {\n",
              "        vertical-align: middle;\n",
              "    }\n",
              "\n",
              "    .dataframe tbody tr th {\n",
              "        vertical-align: top;\n",
              "    }\n",
              "\n",
              "    .dataframe thead th {\n",
              "        text-align: right;\n",
              "    }\n",
              "</style>\n",
              "<table border=\"1\" class=\"dataframe\">\n",
              "  <thead>\n",
              "    <tr style=\"text-align: right;\">\n",
              "      <th></th>\n",
              "      <th>hotel_name</th>\n",
              "      <th>reviews</th>\n",
              "      <th>booking_provider</th>\n",
              "      <th>no_of_deals</th>\n",
              "      <th>price_value</th>\n",
              "    </tr>\n",
              "  </thead>\n",
              "  <tbody>\n",
              "    <tr>\n",
              "      <th>0</th>\n",
              "      <td>Novotel Paris Centre Gare Montparnasse</td>\n",
              "      <td>2313</td>\n",
              "      <td>Booking.com</td>\n",
              "      <td>11</td>\n",
              "      <td>225.0</td>\n",
              "    </tr>\n",
              "    <tr>\n",
              "      <th>1</th>\n",
              "      <td>Les3chambres</td>\n",
              "      <td>519</td>\n",
              "      <td>Booking.com</td>\n",
              "      <td>0</td>\n",
              "      <td>205.2</td>\n",
              "    </tr>\n",
              "    <tr>\n",
              "      <th>2</th>\n",
              "      <td>La Chambre Parisienne</td>\n",
              "      <td>91</td>\n",
              "      <td>TripAdvisor</td>\n",
              "      <td>5</td>\n",
              "      <td>205.2</td>\n",
              "    </tr>\n",
              "    <tr>\n",
              "      <th>3</th>\n",
              "      <td>Hyatt Regency Paris Etoile</td>\n",
              "      <td>663</td>\n",
              "      <td>Booking.com</td>\n",
              "      <td>12</td>\n",
              "      <td>205.2</td>\n",
              "    </tr>\n",
              "    <tr>\n",
              "      <th>4</th>\n",
              "      <td>Hotel Darcet</td>\n",
              "      <td>942</td>\n",
              "      <td>Booking.com</td>\n",
              "      <td>12</td>\n",
              "      <td>205.2</td>\n",
              "    </tr>\n",
              "  </tbody>\n",
              "</table>\n",
              "</div>\n",
              "      <button class=\"colab-df-convert\" onclick=\"convertToInteractive('df-b168f2aa-0395-4666-a0b6-5686d1ec2c9d')\"\n",
              "              title=\"Convert this dataframe to an interactive table.\"\n",
              "              style=\"display:none;\">\n",
              "        \n",
              "  <svg xmlns=\"http://www.w3.org/2000/svg\" height=\"24px\"viewBox=\"0 0 24 24\"\n",
              "       width=\"24px\">\n",
              "    <path d=\"M0 0h24v24H0V0z\" fill=\"none\"/>\n",
              "    <path d=\"M18.56 5.44l.94 2.06.94-2.06 2.06-.94-2.06-.94-.94-2.06-.94 2.06-2.06.94zm-11 1L8.5 8.5l.94-2.06 2.06-.94-2.06-.94L8.5 2.5l-.94 2.06-2.06.94zm10 10l.94 2.06.94-2.06 2.06-.94-2.06-.94-.94-2.06-.94 2.06-2.06.94z\"/><path d=\"M17.41 7.96l-1.37-1.37c-.4-.4-.92-.59-1.43-.59-.52 0-1.04.2-1.43.59L10.3 9.45l-7.72 7.72c-.78.78-.78 2.05 0 2.83L4 21.41c.39.39.9.59 1.41.59.51 0 1.02-.2 1.41-.59l7.78-7.78 2.81-2.81c.8-.78.8-2.07 0-2.86zM5.41 20L4 18.59l7.72-7.72 1.47 1.35L5.41 20z\"/>\n",
              "  </svg>\n",
              "      </button>\n",
              "      \n",
              "  <style>\n",
              "    .colab-df-container {\n",
              "      display:flex;\n",
              "      flex-wrap:wrap;\n",
              "      gap: 12px;\n",
              "    }\n",
              "\n",
              "    .colab-df-convert {\n",
              "      background-color: #E8F0FE;\n",
              "      border: none;\n",
              "      border-radius: 50%;\n",
              "      cursor: pointer;\n",
              "      display: none;\n",
              "      fill: #1967D2;\n",
              "      height: 32px;\n",
              "      padding: 0 0 0 0;\n",
              "      width: 32px;\n",
              "    }\n",
              "\n",
              "    .colab-df-convert:hover {\n",
              "      background-color: #E2EBFA;\n",
              "      box-shadow: 0px 1px 2px rgba(60, 64, 67, 0.3), 0px 1px 3px 1px rgba(60, 64, 67, 0.15);\n",
              "      fill: #174EA6;\n",
              "    }\n",
              "\n",
              "    [theme=dark] .colab-df-convert {\n",
              "      background-color: #3B4455;\n",
              "      fill: #D2E3FC;\n",
              "    }\n",
              "\n",
              "    [theme=dark] .colab-df-convert:hover {\n",
              "      background-color: #434B5C;\n",
              "      box-shadow: 0px 1px 3px 1px rgba(0, 0, 0, 0.15);\n",
              "      filter: drop-shadow(0px 1px 2px rgba(0, 0, 0, 0.3));\n",
              "      fill: #FFFFFF;\n",
              "    }\n",
              "  </style>\n",
              "\n",
              "      <script>\n",
              "        const buttonEl =\n",
              "          document.querySelector('#df-b168f2aa-0395-4666-a0b6-5686d1ec2c9d button.colab-df-convert');\n",
              "        buttonEl.style.display =\n",
              "          google.colab.kernel.accessAllowed ? 'block' : 'none';\n",
              "\n",
              "        async function convertToInteractive(key) {\n",
              "          const element = document.querySelector('#df-b168f2aa-0395-4666-a0b6-5686d1ec2c9d');\n",
              "          const dataTable =\n",
              "            await google.colab.kernel.invokeFunction('convertToInteractive',\n",
              "                                                     [key], {});\n",
              "          if (!dataTable) return;\n",
              "\n",
              "          const docLinkHtml = 'Like what you see? Visit the ' +\n",
              "            '<a target=\"_blank\" href=https://colab.research.google.com/notebooks/data_table.ipynb>data table notebook</a>'\n",
              "            + ' to learn more about interactive tables.';\n",
              "          element.innerHTML = '';\n",
              "          dataTable['output_type'] = 'display_data';\n",
              "          await google.colab.output.renderOutput(dataTable, element);\n",
              "          const docLink = document.createElement('div');\n",
              "          docLink.innerHTML = docLinkHtml;\n",
              "          element.appendChild(docLink);\n",
              "        }\n",
              "      </script>\n",
              "    </div>\n",
              "  </div>\n",
              "  "
            ]
          },
          "metadata": {},
          "execution_count": 117
        }
      ]
    },
    {
      "cell_type": "markdown",
      "source": [
        "**Transform categorical columns to numerical data using Label Encoding**"
      ],
      "metadata": {
        "id": "Xl5k7rs-R_Zi"
      }
    },
    {
      "cell_type": "code",
      "source": [
        "cat_cols = cat_cols[1:]\n",
        "cat_cols"
      ],
      "metadata": {
        "id": "11PSPKiIFRz_",
        "colab": {
          "base_uri": "https://localhost:8080/"
        },
        "outputId": "62b9e243-2912-4dae-c76c-bd81df6c065b"
      },
      "execution_count": null,
      "outputs": [
        {
          "output_type": "execute_result",
          "data": {
            "text/plain": [
              "['booking_provider']"
            ]
          },
          "metadata": {},
          "execution_count": 118
        }
      ]
    },
    {
      "cell_type": "code",
      "source": [
        "from sklearn.preprocessing import LabelEncoder\n",
        "df_categorical = df_hotelList.copy()\n",
        "\n",
        "for col in cat_cols:\n",
        "    le = LabelEncoder()\n",
        "    df_categorical[col] = le.fit_transform(df_categorical[col])\n",
        "df_categorical.head()"
      ],
      "metadata": {
        "id": "supvLqjRSCFW",
        "colab": {
          "base_uri": "https://localhost:8080/",
          "height": 206
        },
        "outputId": "5b27b85d-85c9-42ee-aa0a-b6faa1e2e31a"
      },
      "execution_count": null,
      "outputs": [
        {
          "output_type": "execute_result",
          "data": {
            "text/plain": [
              "                               hotel_name  reviews  booking_provider  \\\n",
              "0  Novotel Paris Centre Gare Montparnasse     2313                 1   \n",
              "1                            Les3chambres      519                 1   \n",
              "2                   La Chambre Parisienne       91                 6   \n",
              "3              Hyatt Regency Paris Etoile      663                 1   \n",
              "4                            Hotel Darcet      942                 1   \n",
              "\n",
              "   no_of_deals  price_value  \n",
              "0           11        225.0  \n",
              "1            0        205.2  \n",
              "2            5        205.2  \n",
              "3           12        205.2  \n",
              "4           12        205.2  "
            ],
            "text/html": [
              "\n",
              "  <div id=\"df-b5d7cf9a-9f4d-43d0-b492-83c9fdc65fe0\">\n",
              "    <div class=\"colab-df-container\">\n",
              "      <div>\n",
              "<style scoped>\n",
              "    .dataframe tbody tr th:only-of-type {\n",
              "        vertical-align: middle;\n",
              "    }\n",
              "\n",
              "    .dataframe tbody tr th {\n",
              "        vertical-align: top;\n",
              "    }\n",
              "\n",
              "    .dataframe thead th {\n",
              "        text-align: right;\n",
              "    }\n",
              "</style>\n",
              "<table border=\"1\" class=\"dataframe\">\n",
              "  <thead>\n",
              "    <tr style=\"text-align: right;\">\n",
              "      <th></th>\n",
              "      <th>hotel_name</th>\n",
              "      <th>reviews</th>\n",
              "      <th>booking_provider</th>\n",
              "      <th>no_of_deals</th>\n",
              "      <th>price_value</th>\n",
              "    </tr>\n",
              "  </thead>\n",
              "  <tbody>\n",
              "    <tr>\n",
              "      <th>0</th>\n",
              "      <td>Novotel Paris Centre Gare Montparnasse</td>\n",
              "      <td>2313</td>\n",
              "      <td>1</td>\n",
              "      <td>11</td>\n",
              "      <td>225.0</td>\n",
              "    </tr>\n",
              "    <tr>\n",
              "      <th>1</th>\n",
              "      <td>Les3chambres</td>\n",
              "      <td>519</td>\n",
              "      <td>1</td>\n",
              "      <td>0</td>\n",
              "      <td>205.2</td>\n",
              "    </tr>\n",
              "    <tr>\n",
              "      <th>2</th>\n",
              "      <td>La Chambre Parisienne</td>\n",
              "      <td>91</td>\n",
              "      <td>6</td>\n",
              "      <td>5</td>\n",
              "      <td>205.2</td>\n",
              "    </tr>\n",
              "    <tr>\n",
              "      <th>3</th>\n",
              "      <td>Hyatt Regency Paris Etoile</td>\n",
              "      <td>663</td>\n",
              "      <td>1</td>\n",
              "      <td>12</td>\n",
              "      <td>205.2</td>\n",
              "    </tr>\n",
              "    <tr>\n",
              "      <th>4</th>\n",
              "      <td>Hotel Darcet</td>\n",
              "      <td>942</td>\n",
              "      <td>1</td>\n",
              "      <td>12</td>\n",
              "      <td>205.2</td>\n",
              "    </tr>\n",
              "  </tbody>\n",
              "</table>\n",
              "</div>\n",
              "      <button class=\"colab-df-convert\" onclick=\"convertToInteractive('df-b5d7cf9a-9f4d-43d0-b492-83c9fdc65fe0')\"\n",
              "              title=\"Convert this dataframe to an interactive table.\"\n",
              "              style=\"display:none;\">\n",
              "        \n",
              "  <svg xmlns=\"http://www.w3.org/2000/svg\" height=\"24px\"viewBox=\"0 0 24 24\"\n",
              "       width=\"24px\">\n",
              "    <path d=\"M0 0h24v24H0V0z\" fill=\"none\"/>\n",
              "    <path d=\"M18.56 5.44l.94 2.06.94-2.06 2.06-.94-2.06-.94-.94-2.06-.94 2.06-2.06.94zm-11 1L8.5 8.5l.94-2.06 2.06-.94-2.06-.94L8.5 2.5l-.94 2.06-2.06.94zm10 10l.94 2.06.94-2.06 2.06-.94-2.06-.94-.94-2.06-.94 2.06-2.06.94z\"/><path d=\"M17.41 7.96l-1.37-1.37c-.4-.4-.92-.59-1.43-.59-.52 0-1.04.2-1.43.59L10.3 9.45l-7.72 7.72c-.78.78-.78 2.05 0 2.83L4 21.41c.39.39.9.59 1.41.59.51 0 1.02-.2 1.41-.59l7.78-7.78 2.81-2.81c.8-.78.8-2.07 0-2.86zM5.41 20L4 18.59l7.72-7.72 1.47 1.35L5.41 20z\"/>\n",
              "  </svg>\n",
              "      </button>\n",
              "      \n",
              "  <style>\n",
              "    .colab-df-container {\n",
              "      display:flex;\n",
              "      flex-wrap:wrap;\n",
              "      gap: 12px;\n",
              "    }\n",
              "\n",
              "    .colab-df-convert {\n",
              "      background-color: #E8F0FE;\n",
              "      border: none;\n",
              "      border-radius: 50%;\n",
              "      cursor: pointer;\n",
              "      display: none;\n",
              "      fill: #1967D2;\n",
              "      height: 32px;\n",
              "      padding: 0 0 0 0;\n",
              "      width: 32px;\n",
              "    }\n",
              "\n",
              "    .colab-df-convert:hover {\n",
              "      background-color: #E2EBFA;\n",
              "      box-shadow: 0px 1px 2px rgba(60, 64, 67, 0.3), 0px 1px 3px 1px rgba(60, 64, 67, 0.15);\n",
              "      fill: #174EA6;\n",
              "    }\n",
              "\n",
              "    [theme=dark] .colab-df-convert {\n",
              "      background-color: #3B4455;\n",
              "      fill: #D2E3FC;\n",
              "    }\n",
              "\n",
              "    [theme=dark] .colab-df-convert:hover {\n",
              "      background-color: #434B5C;\n",
              "      box-shadow: 0px 1px 3px 1px rgba(0, 0, 0, 0.15);\n",
              "      filter: drop-shadow(0px 1px 2px rgba(0, 0, 0, 0.3));\n",
              "      fill: #FFFFFF;\n",
              "    }\n",
              "  </style>\n",
              "\n",
              "      <script>\n",
              "        const buttonEl =\n",
              "          document.querySelector('#df-b5d7cf9a-9f4d-43d0-b492-83c9fdc65fe0 button.colab-df-convert');\n",
              "        buttonEl.style.display =\n",
              "          google.colab.kernel.accessAllowed ? 'block' : 'none';\n",
              "\n",
              "        async function convertToInteractive(key) {\n",
              "          const element = document.querySelector('#df-b5d7cf9a-9f4d-43d0-b492-83c9fdc65fe0');\n",
              "          const dataTable =\n",
              "            await google.colab.kernel.invokeFunction('convertToInteractive',\n",
              "                                                     [key], {});\n",
              "          if (!dataTable) return;\n",
              "\n",
              "          const docLinkHtml = 'Like what you see? Visit the ' +\n",
              "            '<a target=\"_blank\" href=https://colab.research.google.com/notebooks/data_table.ipynb>data table notebook</a>'\n",
              "            + ' to learn more about interactive tables.';\n",
              "          element.innerHTML = '';\n",
              "          dataTable['output_type'] = 'display_data';\n",
              "          await google.colab.output.renderOutput(dataTable, element);\n",
              "          const docLink = document.createElement('div');\n",
              "          docLink.innerHTML = docLinkHtml;\n",
              "          element.appendChild(docLink);\n",
              "        }\n",
              "      </script>\n",
              "    </div>\n",
              "  </div>\n",
              "  "
            ]
          },
          "metadata": {},
          "execution_count": 119
        }
      ]
    },
    {
      "cell_type": "markdown",
      "source": [
        "## Visualising the records"
      ],
      "metadata": {
        "id": "O5NDy0o5lvnx"
      }
    },
    {
      "cell_type": "markdown",
      "source": [
        "### Hotels vs number of Reviews"
      ],
      "metadata": {
        "id": "LZUDmfUnmNlL"
      }
    },
    {
      "cell_type": "code",
      "source": [
        "import seaborn as sns\n",
        "import matplotlib.pyplot as plt\n",
        "\n",
        "df_new_sorted = df_hotelList.sort_values('reviews', ascending=False)\n",
        "\n",
        "sns.set_style(\"whitegrid\")\n",
        "plt.figure(figsize=(12, 6))\n",
        "sns.barplot(x=\"hotel_name\", y=\"reviews\", data=df_new_sorted, order=df_new_sorted['hotel_name'])\n",
        "plt.xticks(rotation=90)\n",
        "plt.show()\n"
      ],
      "metadata": {
        "id": "yXyxJ2hKlzQZ",
        "colab": {
          "base_uri": "https://localhost:8080/",
          "height": 603
        },
        "outputId": "f9f9adf2-d9ac-4897-97bb-1e69c65a54fa"
      },
      "execution_count": null,
      "outputs": [
        {
          "output_type": "display_data",
          "data": {
            "text/plain": [
              "<Figure size 864x432 with 1 Axes>"
            ],
            "image/png": "[encoded data removed]"
          },
          "metadata": {}
        }
      ]
    },
    {
      "cell_type": "markdown",
      "source": [
        "**Top 5 hotels in terms of most reviews**"
      ],
      "metadata": {
        "id": "fcHerjTGy5Bd"
      }
    },
    {
      "cell_type": "code",
      "source": [
        "df_new_sorted['hotel_name'].head()"
      ],
      "metadata": {
        "id": "T374NhYuyrn5",
        "colab": {
          "base_uri": "https://localhost:8080/"
        },
        "outputId": "180c12d5-31cb-4afb-b909-87da8329ca00"
      },
      "execution_count": null,
      "outputs": [
        {
          "output_type": "execute_result",
          "data": {
            "text/plain": [
              "0             Novotel Paris Centre Gare Montparnasse\n",
              "13                              Hotel La Manufacture\n",
              "21           Renaissance Paris Arc de Triomphe Hotel\n",
              "24    Holiday Inn Express Paris-Canal de la Villette\n",
              "5                                Hotel Cecilia Paris\n",
              "Name: hotel_name, dtype: object"
            ]
          },
          "metadata": {},
          "execution_count": 113
        }
      ]
    },
    {
      "cell_type": "markdown",
      "source": [
        "**Observation** It might imply that the hotels listed above are more popular with tourists or have been around for a longer period of time. It is crucial to remember that the quantity of reviews alone is not always a reliable indicator of the hotel's quality. Even if they had a positive experience, some visitors may decide not to leave a review, while others may do the opposite if their expectations were not met. To gain a deeper understanding of the hotel's performance, it is crucial to also consider the reviews' content."
      ],
      "metadata": {
        "id": "SUi27L3hyNI8"
      }
    },
    {
      "cell_type": "markdown",
      "source": [
        "### Hotels vs Price"
      ],
      "metadata": {
        "id": "lW7ufDfWpCKt"
      }
    },
    {
      "cell_type": "code",
      "source": [
        "import seaborn as sns\n",
        "import matplotlib.pyplot as plt\n",
        "\n",
        "df_new_sorted = df_hotelList.sort_values('price_value', ascending=False)\n",
        "\n",
        "sns.set_style(\"whitegrid\")\n",
        "plt.figure(figsize=(12, 6))\n",
        "sns.barplot(x=\"hotel_name\", y=\"price_value\", data=df_new_sorted, order=df_new_sorted['hotel_name'])\n",
        "plt.xticks(rotation=90)\n",
        "plt.show()\n"
      ],
      "metadata": {
        "colab": {
          "base_uri": "https://localhost:8080/",
          "height": 606
        },
        "outputId": "6fafc237-cce7-4b2f-9039-df8b44f35fff",
        "id": "j9rFI6l0pCKt"
      },
      "execution_count": null,
      "outputs": [
        {
          "output_type": "display_data",
          "data": {
            "text/plain": [
              "<Figure size 864x432 with 1 Axes>"
            ],
            "image/png": "[encoded data removed]"
          },
          "metadata": {}
        }
      ]
    },
    {
      "cell_type": "markdown",
      "source": [
        "**Top 5 hotels most expensive Hotels**"
      ],
      "metadata": {
        "id": "tAGj-z0lpCKu"
      }
    },
    {
      "cell_type": "code",
      "source": [
        "df_new_sorted['hotel_name'].head(4)"
      ],
      "metadata": {
        "colab": {
          "base_uri": "https://localhost:8080/"
        },
        "outputId": "c71d0d06-0b50-4457-847c-85e162697a26",
        "id": "4g16x2RLpCKu"
      },
      "execution_count": null,
      "outputs": [
        {
          "output_type": "execute_result",
          "data": {
            "text/plain": [
              "15             Hotel du Danube Saint Germain\n",
              "13                      Hotel La Manufacture\n",
              "10                               Hotel Edgar\n",
              "0     Novotel Paris Centre Gare Montparnasse\n",
              "Name: hotel_name, dtype: object"
            ]
          },
          "metadata": {},
          "execution_count": 310
        }
      ]
    },
    {
      "cell_type": "markdown",
      "source": [
        "**Observation:** This could indicate that the hotels listed above are more expensive or have more amenities. A high price, however, is not always a trustworthy predictor of the hotel's facilities. This is mostly because of the fact that 66% of this price is computed using mean values rather than provided values."
      ],
      "metadata": {
        "id": "k0jwHBOMpCKu"
      }
    },
    {
      "cell_type": "markdown",
      "source": [
        "### Count of unique booking Providers"
      ],
      "metadata": {
        "id": "DrA1vHO8rxRP"
      }
    },
    {
      "cell_type": "code",
      "source": [
        "import seaborn as sns\n",
        "import matplotlib.pyplot as plt\n",
        "\n",
        "provider_counts = df_hotelList['booking_provider'].value_counts()\n",
        "\n",
        "sns.set_style(\"whitegrid\")\n",
        "plt.figure(figsize=(8, 6))\n",
        "sns.barplot(x=provider_counts.index, y=provider_counts.values)\n",
        "plt.xticks(rotation=90)\n",
        "plt.xlabel('Booking Provider')\n",
        "plt.ylabel('Count')\n",
        "plt.title('Count of Unique Booking Providers')\n",
        "plt.show()\n"
      ],
      "metadata": {
        "colab": {
          "base_uri": "https://localhost:8080/",
          "height": 491
        },
        "outputId": "81caa48e-1f09-423f-8b2a-e072dc19c17b",
        "id": "KxRTAjuWrxRQ"
      },
      "execution_count": null,
      "outputs": [
        {
          "output_type": "display_data",
          "data": {
            "text/plain": [
              "<Figure size 576x432 with 1 Axes>"
            ],
            "image/png": "[encoded data removed]"
          },
          "metadata": {}
        }
      ]
    },
    {
      "cell_type": "markdown",
      "source": [
        "**Top 2 Booking providers**"
      ],
      "metadata": {
        "id": "f8Ya2AmRrxRQ"
      }
    },
    {
      "cell_type": "code",
      "source": [
        "provider_counts.head(2)"
      ],
      "metadata": {
        "colab": {
          "base_uri": "https://localhost:8080/"
        },
        "outputId": "4a7fc5e7-c0f4-4b68-bebb-88348f91a64e",
        "id": "QvrN9stsrxRQ"
      },
      "execution_count": null,
      "outputs": [
        {
          "output_type": "execute_result",
          "data": {
            "text/plain": [
              "Booking.com    12\n",
              "TripAdvisor     9\n",
              "Name: booking_provider, dtype: int64"
            ]
          },
          "metadata": {},
          "execution_count": 316
        }
      ]
    },
    {
      "cell_type": "markdown",
      "source": [
        "**Observation:** It might imply that the Booking providers listed above are more popular amongst customer and travelers or might provide more deals. However, a high count of bookings via these 2 providers is not always a reliable indicator of the booking provider's deals. This is because we have a dataset of only small set of hotels."
      ],
      "metadata": {
        "id": "j2w5aykUrxRQ"
      }
    },
    {
      "cell_type": "markdown",
      "source": [
        "### Booking Provider vs no. of deals"
      ],
      "metadata": {
        "id": "DHvTVP7RqUMx"
      }
    },
    {
      "cell_type": "code",
      "source": [
        "import seaborn as sns\n",
        "import matplotlib.pyplot as plt\n",
        "\n",
        "# group data by booking provider and sum up no. of deals\n",
        "deals_by_provider = df_hotelList.groupby('booking_provider')['no_of_deals'].sum().sort_values(ascending=False)\n",
        "\n",
        "sns.set_style(\"whitegrid\")\n",
        "plt.figure(figsize=(12, 6))\n",
        "sns.barplot(x=deals_by_provider.index, y=deals_by_provider.values, order=deals_by_provider.index)\n",
        "plt.xticks(rotation=90)\n",
        "plt.xlabel('Booking Provider')\n",
        "plt.ylabel('No. of Deals')\n",
        "plt.title('No. of Deals by Booking Provider')\n",
        "plt.show()\n"
      ],
      "metadata": {
        "colab": {
          "base_uri": "https://localhost:8080/",
          "height": 491
        },
        "outputId": "4f945946-0345-4b52-8906-b755415ca634",
        "id": "gFZQ74NGqUMy"
      },
      "execution_count": null,
      "outputs": [
        {
          "output_type": "display_data",
          "data": {
            "text/plain": [
              "<Figure size 864x432 with 1 Axes>"
            ],
            "image/png": "[encoded data removed]"
          },
          "metadata": {}
        }
      ]
    },
    {
      "cell_type": "markdown",
      "source": [
        "**Most deal providing top 2 Booking Providers**"
      ],
      "metadata": {
        "id": "AZb3YjlbqUMz"
      }
    },
    {
      "cell_type": "code",
      "source": [
        "deals_by_provider.nlargest(2)"
      ],
      "metadata": {
        "colab": {
          "base_uri": "https://localhost:8080/"
        },
        "outputId": "009467ed-a167-4eda-bcb1-266543385dc8",
        "id": "YinA-B4BqUMz"
      },
      "execution_count": null,
      "outputs": [
        {
          "output_type": "execute_result",
          "data": {
            "text/plain": [
              "booking_provider\n",
              "Booking.com    114\n",
              "TripAdvisor     97\n",
              "Name: no_of_deals, dtype: int64"
            ]
          },
          "metadata": {},
          "execution_count": 313
        }
      ]
    },
    {
      "cell_type": "markdown",
      "source": [
        "**Observation** It might imply that the Booking Providers listed above provide more deals and that is why, they are more popular amongst the travellers as per previous visualisation."
      ],
      "metadata": {
        "id": "TpbhLuiqqUMz"
      }
    },
    {
      "cell_type": "markdown",
      "source": [
        "# Data Preparation for Clustering and Search Engine"
      ],
      "metadata": {
        "id": "pTBPW535tTud"
      }
    },
    {
      "cell_type": "markdown",
      "source": [
        "Pre-processing step of data preparation, which is an essential part of any text analysis project. We are cleaning and transforming the raw text data into a format that is more suitable for analysis and extracting meaningful information from the text data by identifying important parts of speech like verbs, nouns, and adjectives."
      ],
      "metadata": {
        "id": "RFXACfthtb-M"
      }
    },
    {
      "cell_type": "markdown",
      "source": [
        "## Data cleaning"
      ],
      "metadata": {
        "id": "fdh-6vc9wT9Q"
      }
    },
    {
      "cell_type": "code",
      "source": [
        "df_reviews['review_body'][0]"
      ],
      "metadata": {
        "id": "MI3xcsnB_ck7",
        "colab": {
          "base_uri": "https://localhost:8080/",
          "height": 70
        },
        "outputId": "b9c69bd9-f90d-496c-c498-295f480a143a"
      },
      "execution_count": null,
      "outputs": [
        {
          "output_type": "execute_result",
          "data": {
            "text/plain": [
              "'Forgot to book a large bed so given a room with 2 singles and they are small (I am a normal BMI adult and almost fell out several times in night).So very tired.Food very good albeit limited choiceService very goodBathroom weird - toilet quite removed from sink and shower I would t stay again but cause sleep is important for me. Am sure if you have a proper double or larger bed your sleep will be fine'"
            ],
            "application/vnd.google.colaboratory.intrinsic+json": {
              "type": "string"
            }
          },
          "metadata": {},
          "execution_count": 120
        }
      ]
    },
    {
      "cell_type": "markdown",
      "source": [
        "It's important to clean the text in the \"review_body\" column by removing any punctuation, stop words, and converting all text to lowercase."
      ],
      "metadata": {
        "id": "I8QQ6KhDsjDZ"
      }
    },
    {
      "cell_type": "code",
      "source": [
        "import string\n",
        "import re\n",
        "from nltk.corpus import stopwords\n",
        "\n",
        "stop_words = set(stopwords.words('english'))\n",
        "\n",
        "def clean(text):\n",
        "    # convert text to lowercase\n",
        "    text = text.lower()\n",
        "    \n",
        "    # remove punctuation\n",
        "    text = text.translate(str.maketrans('', '', string.punctuation))\n",
        "    \n",
        "    # remove stopwords\n",
        "    text = ' '.join([word for word in text.split() if word not in stop_words])\n",
        "    \n",
        "    # removing paragraph numbers\n",
        "    text = re.sub('[0-9]+.\\t', '', text)\n",
        "    \n",
        "    # removing new line characters\n",
        "    text = re.sub('\\n ', '', text)\n",
        "    text = re.sub('\\n', ' ', text)\n",
        "    \n",
        "    # removing hyphens\n",
        "    text = re.sub(\"-\", ' ', text)\n",
        "    text = re.sub(\"— \", '', text)\n",
        "    \n",
        "    # removing quotation marks\n",
        "    text = re.sub('\\\"', '', text)\n",
        "    \n",
        "    # removing salutations\n",
        "    text = re.sub(\"Mr\\.\", 'Mr', text)\n",
        "    text = re.sub(\"Mrs\\.\", 'Mrs', text)\n",
        "    \n",
        "    return text\n"
      ],
      "metadata": {
        "id": "DIUFKyXYlVkD"
      },
      "execution_count": null,
      "outputs": []
    },
    {
      "cell_type": "code",
      "source": [
        "import spacy\n",
        "\n",
        "nlp = spacy.load('en_core_web_sm')\n",
        "\n",
        "# function for extracting verbs and nouns with adjectives based on dependency parsing\n",
        "def extract_verbs_nouns_with_adjectives(text):\n",
        "    \n",
        "    # create a spaCy doc object for the input text\n",
        "    doc = nlp(text)\n",
        "\n",
        "    # initialize an empty string to store the extracted tokens\n",
        "    extracted_tokens = ''\n",
        "\n",
        "    # loop through each token in the doc object\n",
        "    for token in doc:\n",
        "        \n",
        "        # if the token is a verb, add it to the extracted tokens string\n",
        "        if (token.pos_ == 'VERB'):           \n",
        "            extracted_tokens = extracted_tokens + ' ' + str(token)\n",
        "        \n",
        "        # if the token is a noun, check if it has any adjective children\n",
        "        if (token.pos_ == 'NOUN'):\n",
        "            has_adjective = False\n",
        "\n",
        "            # loop through each child of the noun token\n",
        "            for subtoken in token.children:\n",
        "                \n",
        "                # if the child is an adjective, add it to the extracted tokens string along with the noun token\n",
        "                if (subtoken.pos_ == 'ADJ'):  \n",
        "                    extracted_tokens = extracted_tokens + ' ' + str(subtoken) + ' ' + str(token)\n",
        "                    has_adjective = True\n",
        "\n",
        "            # if the noun token has no adjective children, add it to the extracted tokens string alone\n",
        "            if not has_adjective:\n",
        "                extracted_tokens = extracted_tokens + ' ' + str(token)\n",
        "\n",
        "    # return the final extracted tokens string\n",
        "    return extracted_tokens"
      ],
      "metadata": {
        "id": "ECaVQQiHlPGQ"
      },
      "execution_count": null,
      "outputs": []
    },
    {
      "cell_type": "code",
      "source": [
        "df_reviews['review_body_clean'] = df_reviews['review_body'].apply(clean)\n",
        "\n",
        "df_reviews.head()"
      ],
      "metadata": {
        "id": "N7alciPHNQlu",
        "colab": {
          "base_uri": "https://localhost:8080/",
          "height": 206
        },
        "outputId": "6c681ebc-9222-4bcd-84c6-222b03396850"
      },
      "execution_count": null,
      "outputs": [
        {
          "output_type": "execute_result",
          "data": {
            "text/plain": [
              "                                         review_body  \\\n",
              "0  Forgot to book a large bed so given a room wit...   \n",
              "1  This hotel was really nice overall but they lo...   \n",
              "2  Our complimentary breakfast was delicious. Sta...   \n",
              "3  If I could give 0 stars, I would. Staff comple...   \n",
              "4  This was a comfortable hotel in Montparnasse n...   \n",
              "\n",
              "                               hotel_name  \\\n",
              "0  Novotel Paris Centre Gare Montparnasse   \n",
              "1  Novotel Paris Centre Gare Montparnasse   \n",
              "2  Novotel Paris Centre Gare Montparnasse   \n",
              "3  Novotel Paris Centre Gare Montparnasse   \n",
              "4  Novotel Paris Centre Gare Montparnasse   \n",
              "\n",
              "                                   review_body_clean  \n",
              "0  forgot book large bed given room 2 singles sma...  \n",
              "1  hotel really nice overall location really bad ...  \n",
              "2  complimentary breakfast delicious staff kind h...  \n",
              "3  could give 0 stars would staff completely unhe...  \n",
              "4  comfortable hotel montparnasse far montparnass...  "
            ],
            "text/html": [
              "\n",
              "  <div id=\"df-4842506c-cf29-4ea8-9e50-c560b02fe6d5\">\n",
              "    <div class=\"colab-df-container\">\n",
              "      <div>\n",
              "<style scoped>\n",
              "    .dataframe tbody tr th:only-of-type {\n",
              "        vertical-align: middle;\n",
              "    }\n",
              "\n",
              "    .dataframe tbody tr th {\n",
              "        vertical-align: top;\n",
              "    }\n",
              "\n",
              "    .dataframe thead th {\n",
              "        text-align: right;\n",
              "    }\n",
              "</style>\n",
              "<table border=\"1\" class=\"dataframe\">\n",
              "  <thead>\n",
              "    <tr style=\"text-align: right;\">\n",
              "      <th></th>\n",
              "      <th>review_body</th>\n",
              "      <th>hotel_name</th>\n",
              "      <th>review_body_clean</th>\n",
              "    </tr>\n",
              "  </thead>\n",
              "  <tbody>\n",
              "    <tr>\n",
              "      <th>0</th>\n",
              "      <td>Forgot to book a large bed so given a room wit...</td>\n",
              "      <td>Novotel Paris Centre Gare Montparnasse</td>\n",
              "      <td>forgot book large bed given room 2 singles sma...</td>\n",
              "    </tr>\n",
              "    <tr>\n",
              "      <th>1</th>\n",
              "      <td>This hotel was really nice overall but they lo...</td>\n",
              "      <td>Novotel Paris Centre Gare Montparnasse</td>\n",
              "      <td>hotel really nice overall location really bad ...</td>\n",
              "    </tr>\n",
              "    <tr>\n",
              "      <th>2</th>\n",
              "      <td>Our complimentary breakfast was delicious. Sta...</td>\n",
              "      <td>Novotel Paris Centre Gare Montparnasse</td>\n",
              "      <td>complimentary breakfast delicious staff kind h...</td>\n",
              "    </tr>\n",
              "    <tr>\n",
              "      <th>3</th>\n",
              "      <td>If I could give 0 stars, I would. Staff comple...</td>\n",
              "      <td>Novotel Paris Centre Gare Montparnasse</td>\n",
              "      <td>could give 0 stars would staff completely unhe...</td>\n",
              "    </tr>\n",
              "    <tr>\n",
              "      <th>4</th>\n",
              "      <td>This was a comfortable hotel in Montparnasse n...</td>\n",
              "      <td>Novotel Paris Centre Gare Montparnasse</td>\n",
              "      <td>comfortable hotel montparnasse far montparnass...</td>\n",
              "    </tr>\n",
              "  </tbody>\n",
              "</table>\n",
              "</div>\n",
              "      <button class=\"colab-df-convert\" onclick=\"convertToInteractive('df-4842506c-cf29-4ea8-9e50-c560b02fe6d5')\"\n",
              "              title=\"Convert this dataframe to an interactive table.\"\n",
              "              style=\"display:none;\">\n",
              "        \n",
              "  <svg xmlns=\"http://www.w3.org/2000/svg\" height=\"24px\"viewBox=\"0 0 24 24\"\n",
              "       width=\"24px\">\n",
              "    <path d=\"M0 0h24v24H0V0z\" fill=\"none\"/>\n",
              "    <path d=\"M18.56 5.44l.94 2.06.94-2.06 2.06-.94-2.06-.94-.94-2.06-.94 2.06-2.06.94zm-11 1L8.5 8.5l.94-2.06 2.06-.94-2.06-.94L8.5 2.5l-.94 2.06-2.06.94zm10 10l.94 2.06.94-2.06 2.06-.94-2.06-.94-.94-2.06-.94 2.06-2.06.94z\"/><path d=\"M17.41 7.96l-1.37-1.37c-.4-.4-.92-.59-1.43-.59-.52 0-1.04.2-1.43.59L10.3 9.45l-7.72 7.72c-.78.78-.78 2.05 0 2.83L4 21.41c.39.39.9.59 1.41.59.51 0 1.02-.2 1.41-.59l7.78-7.78 2.81-2.81c.8-.78.8-2.07 0-2.86zM5.41 20L4 18.59l7.72-7.72 1.47 1.35L5.41 20z\"/>\n",
              "  </svg>\n",
              "      </button>\n",
              "      \n",
              "  <style>\n",
              "    .colab-df-container {\n",
              "      display:flex;\n",
              "      flex-wrap:wrap;\n",
              "      gap: 12px;\n",
              "    }\n",
              "\n",
              "    .colab-df-convert {\n",
              "      background-color: #E8F0FE;\n",
              "      border: none;\n",
              "      border-radius: 50%;\n",
              "      cursor: pointer;\n",
              "      display: none;\n",
              "      fill: #1967D2;\n",
              "      height: 32px;\n",
              "      padding: 0 0 0 0;\n",
              "      width: 32px;\n",
              "    }\n",
              "\n",
              "    .colab-df-convert:hover {\n",
              "      background-color: #E2EBFA;\n",
              "      box-shadow: 0px 1px 2px rgba(60, 64, 67, 0.3), 0px 1px 3px 1px rgba(60, 64, 67, 0.15);\n",
              "      fill: #174EA6;\n",
              "    }\n",
              "\n",
              "    [theme=dark] .colab-df-convert {\n",
              "      background-color: #3B4455;\n",
              "      fill: #D2E3FC;\n",
              "    }\n",
              "\n",
              "    [theme=dark] .colab-df-convert:hover {\n",
              "      background-color: #434B5C;\n",
              "      box-shadow: 0px 1px 3px 1px rgba(0, 0, 0, 0.15);\n",
              "      filter: drop-shadow(0px 1px 2px rgba(0, 0, 0, 0.3));\n",
              "      fill: #FFFFFF;\n",
              "    }\n",
              "  </style>\n",
              "\n",
              "      <script>\n",
              "        const buttonEl =\n",
              "          document.querySelector('#df-4842506c-cf29-4ea8-9e50-c560b02fe6d5 button.colab-df-convert');\n",
              "        buttonEl.style.display =\n",
              "          google.colab.kernel.accessAllowed ? 'block' : 'none';\n",
              "\n",
              "        async function convertToInteractive(key) {\n",
              "          const element = document.querySelector('#df-4842506c-cf29-4ea8-9e50-c560b02fe6d5');\n",
              "          const dataTable =\n",
              "            await google.colab.kernel.invokeFunction('convertToInteractive',\n",
              "                                                     [key], {});\n",
              "          if (!dataTable) return;\n",
              "\n",
              "          const docLinkHtml = 'Like what you see? Visit the ' +\n",
              "            '<a target=\"_blank\" href=https://colab.research.google.com/notebooks/data_table.ipynb>data table notebook</a>'\n",
              "            + ' to learn more about interactive tables.';\n",
              "          element.innerHTML = '';\n",
              "          dataTable['output_type'] = 'display_data';\n",
              "          await google.colab.output.renderOutput(dataTable, element);\n",
              "          const docLink = document.createElement('div');\n",
              "          docLink.innerHTML = docLinkHtml;\n",
              "          element.appendChild(docLink);\n",
              "        }\n",
              "      </script>\n",
              "    </div>\n",
              "  </div>\n",
              "  "
            ]
          },
          "metadata": {},
          "execution_count": 123
        }
      ]
    },
    {
      "cell_type": "code",
      "source": [
        "df_reviews['review_body_clean'][0]"
      ],
      "metadata": {
        "id": "gtm_mSx0ulrN",
        "colab": {
          "base_uri": "https://localhost:8080/",
          "height": 53
        },
        "outputId": "9f315af1-829f-42ef-a07d-613ed555c018"
      },
      "execution_count": null,
      "outputs": [
        {
          "output_type": "execute_result",
          "data": {
            "text/plain": [
              "'forgot book large bed given room 2 singles small normal bmi adult almost fell several times nightso tiredfood good albeit limited choiceservice goodbathroom weird toilet quite removed sink shower would stay cause sleep important sure proper double larger bed sleep fine'"
            ],
            "application/vnd.google.colaboratory.intrinsic+json": {
              "type": "string"
            }
          },
          "metadata": {},
          "execution_count": 124
        }
      ]
    },
    {
      "cell_type": "markdown",
      "source": [
        "## Extracting nouns and verbs from the text along with adjectives\n"
      ],
      "metadata": {
        "id": "Z4Ru4wQam_nS"
      }
    },
    {
      "cell_type": "markdown",
      "source": [
        "### POS Tagging example"
      ],
      "metadata": {
        "id": "FZt88nBeutlC"
      }
    },
    {
      "cell_type": "markdown",
      "source": [
        "Part-of-Speech tagging is referred to as POS tagging. It is a method of NLP (natural language processing) that entails associating each word in a sentence with the appropriate part of speech, such as an adjective, adverb, noun, or verb. This procedure aids in the analysis of the sentence's construction and the extraction of pertinent data regarding the relationships between its constituent words."
      ],
      "metadata": {
        "id": "MTv5eMZQviKI"
      }
    },
    {
      "cell_type": "code",
      "source": [
        "text = df_reviews['review_body_clean'][0]\n",
        "text"
      ],
      "metadata": {
        "id": "cUQkTogX_jnM",
        "colab": {
          "base_uri": "https://localhost:8080/",
          "height": 53
        },
        "outputId": "7981d220-9162-45ae-d6ab-65c3dbbc5c7d"
      },
      "execution_count": null,
      "outputs": [
        {
          "output_type": "execute_result",
          "data": {
            "text/plain": [
              "'forgot book large bed given room 2 singles small normal bmi adult almost fell several times nightso tiredfood good albeit limited choiceservice goodbathroom weird toilet quite removed sink shower would stay cause sleep important sure proper double larger bed sleep fine'"
            ],
            "application/vnd.google.colaboratory.intrinsic+json": {
              "type": "string"
            }
          },
          "metadata": {},
          "execution_count": 125
        }
      ]
    },
    {
      "cell_type": "code",
      "source": [
        "doc = nlp(text) \n",
        "png = visualise_spacy_tree.create_png(doc)\n",
        "display(Image(png))"
      ],
      "metadata": {
        "id": "d2W8wGsSuygD",
        "colab": {
          "base_uri": "https://localhost:8080/",
          "height": 924
        },
        "outputId": "62f710fd-f677-4257-b01c-545b4605fe5b"
      },
      "execution_count": null,
      "outputs": [
        {
          "output_type": "display_data",
          "data": {
            "image/png": "[encoded data removed]",
            "text/plain": [
              "<IPython.core.display.Image object>"
            ]
          },
          "metadata": {}
        }
      ]
    },
    {
      "cell_type": "markdown",
      "source": [
        "### Extraction via POS"
      ],
      "metadata": {
        "id": "vA5PNWzguzFG"
      }
    },
    {
      "cell_type": "code",
      "source": [
        "# Extracting nouns and verbs from the text along with adjectives\n",
        "df_reviews['review_body_clean'] = df_reviews['review_body_clean'].apply(extract_verbs_nouns_with_adjectives)\n",
        "df_reviews.head()"
      ],
      "metadata": {
        "id": "ctw7tOTAm-f2",
        "colab": {
          "base_uri": "https://localhost:8080/",
          "height": 206
        },
        "outputId": "3bc6b88c-e683-462e-c1bd-961763be67c0"
      },
      "execution_count": null,
      "outputs": [
        {
          "output_type": "execute_result",
          "data": {
            "text/plain": [
              "                                         review_body  \\\n",
              "0  Forgot to book a large bed so given a room wit...   \n",
              "1  This hotel was really nice overall but they lo...   \n",
              "2  Our complimentary breakfast was delicious. Sta...   \n",
              "3  If I could give 0 stars, I would. Staff comple...   \n",
              "4  This was a comfortable hotel in Montparnasse n...   \n",
              "\n",
              "                               hotel_name  \\\n",
              "0  Novotel Paris Centre Gare Montparnasse   \n",
              "1  Novotel Paris Centre Gare Montparnasse   \n",
              "2  Novotel Paris Centre Gare Montparnasse   \n",
              "3  Novotel Paris Centre Gare Montparnasse   \n",
              "4  Novotel Paris Centre Gare Montparnasse   \n",
              "\n",
              "                                   review_body_clean  \n",
              "0   large bed given room singles small adult norm...  \n",
              "1   bad hotel nice location overall location hour...  \n",
              "2   breakfast complimentary staff delicious staff...  \n",
              "3   give stars staff booked room unhelpful hotel ...  \n",
              "4   hotel comfortable montparnasse montparnasse t...  "
            ],
            "text/html": [
              "\n",
              "  <div id=\"df-f6d5e591-ff63-48e3-8bb9-ad270e6eb7f6\">\n",
              "    <div class=\"colab-df-container\">\n",
              "      <div>\n",
              "<style scoped>\n",
              "    .dataframe tbody tr th:only-of-type {\n",
              "        vertical-align: middle;\n",
              "    }\n",
              "\n",
              "    .dataframe tbody tr th {\n",
              "        vertical-align: top;\n",
              "    }\n",
              "\n",
              "    .dataframe thead th {\n",
              "        text-align: right;\n",
              "    }\n",
              "</style>\n",
              "<table border=\"1\" class=\"dataframe\">\n",
              "  <thead>\n",
              "    <tr style=\"text-align: right;\">\n",
              "      <th></th>\n",
              "      <th>review_body</th>\n",
              "      <th>hotel_name</th>\n",
              "      <th>review_body_clean</th>\n",
              "    </tr>\n",
              "  </thead>\n",
              "  <tbody>\n",
              "    <tr>\n",
              "      <th>0</th>\n",
              "      <td>Forgot to book a large bed so given a room wit...</td>\n",
              "      <td>Novotel Paris Centre Gare Montparnasse</td>\n",
              "      <td>large bed given room singles small adult norm...</td>\n",
              "    </tr>\n",
              "    <tr>\n",
              "      <th>1</th>\n",
              "      <td>This hotel was really nice overall but they lo...</td>\n",
              "      <td>Novotel Paris Centre Gare Montparnasse</td>\n",
              "      <td>bad hotel nice location overall location hour...</td>\n",
              "    </tr>\n",
              "    <tr>\n",
              "      <th>2</th>\n",
              "      <td>Our complimentary breakfast was delicious. Sta...</td>\n",
              "      <td>Novotel Paris Centre Gare Montparnasse</td>\n",
              "      <td>breakfast complimentary staff delicious staff...</td>\n",
              "    </tr>\n",
              "    <tr>\n",
              "      <th>3</th>\n",
              "      <td>If I could give 0 stars, I would. Staff comple...</td>\n",
              "      <td>Novotel Paris Centre Gare Montparnasse</td>\n",
              "      <td>give stars staff booked room unhelpful hotel ...</td>\n",
              "    </tr>\n",
              "    <tr>\n",
              "      <th>4</th>\n",
              "      <td>This was a comfortable hotel in Montparnasse n...</td>\n",
              "      <td>Novotel Paris Centre Gare Montparnasse</td>\n",
              "      <td>hotel comfortable montparnasse montparnasse t...</td>\n",
              "    </tr>\n",
              "  </tbody>\n",
              "</table>\n",
              "</div>\n",
              "      <button class=\"colab-df-convert\" onclick=\"convertToInteractive('df-f6d5e591-ff63-48e3-8bb9-ad270e6eb7f6')\"\n",
              "              title=\"Convert this dataframe to an interactive table.\"\n",
              "              style=\"display:none;\">\n",
              "        \n",
              "  <svg xmlns=\"http://www.w3.org/2000/svg\" height=\"24px\"viewBox=\"0 0 24 24\"\n",
              "       width=\"24px\">\n",
              "    <path d=\"M0 0h24v24H0V0z\" fill=\"none\"/>\n",
              "    <path d=\"M18.56 5.44l.94 2.06.94-2.06 2.06-.94-2.06-.94-.94-2.06-.94 2.06-2.06.94zm-11 1L8.5 8.5l.94-2.06 2.06-.94-2.06-.94L8.5 2.5l-.94 2.06-2.06.94zm10 10l.94 2.06.94-2.06 2.06-.94-2.06-.94-.94-2.06-.94 2.06-2.06.94z\"/><path d=\"M17.41 7.96l-1.37-1.37c-.4-.4-.92-.59-1.43-.59-.52 0-1.04.2-1.43.59L10.3 9.45l-7.72 7.72c-.78.78-.78 2.05 0 2.83L4 21.41c.39.39.9.59 1.41.59.51 0 1.02-.2 1.41-.59l7.78-7.78 2.81-2.81c.8-.78.8-2.07 0-2.86zM5.41 20L4 18.59l7.72-7.72 1.47 1.35L5.41 20z\"/>\n",
              "  </svg>\n",
              "      </button>\n",
              "      \n",
              "  <style>\n",
              "    .colab-df-container {\n",
              "      display:flex;\n",
              "      flex-wrap:wrap;\n",
              "      gap: 12px;\n",
              "    }\n",
              "\n",
              "    .colab-df-convert {\n",
              "      background-color: #E8F0FE;\n",
              "      border: none;\n",
              "      border-radius: 50%;\n",
              "      cursor: pointer;\n",
              "      display: none;\n",
              "      fill: #1967D2;\n",
              "      height: 32px;\n",
              "      padding: 0 0 0 0;\n",
              "      width: 32px;\n",
              "    }\n",
              "\n",
              "    .colab-df-convert:hover {\n",
              "      background-color: #E2EBFA;\n",
              "      box-shadow: 0px 1px 2px rgba(60, 64, 67, 0.3), 0px 1px 3px 1px rgba(60, 64, 67, 0.15);\n",
              "      fill: #174EA6;\n",
              "    }\n",
              "\n",
              "    [theme=dark] .colab-df-convert {\n",
              "      background-color: #3B4455;\n",
              "      fill: #D2E3FC;\n",
              "    }\n",
              "\n",
              "    [theme=dark] .colab-df-convert:hover {\n",
              "      background-color: #434B5C;\n",
              "      box-shadow: 0px 1px 3px 1px rgba(0, 0, 0, 0.15);\n",
              "      filter: drop-shadow(0px 1px 2px rgba(0, 0, 0, 0.3));\n",
              "      fill: #FFFFFF;\n",
              "    }\n",
              "  </style>\n",
              "\n",
              "      <script>\n",
              "        const buttonEl =\n",
              "          document.querySelector('#df-f6d5e591-ff63-48e3-8bb9-ad270e6eb7f6 button.colab-df-convert');\n",
              "        buttonEl.style.display =\n",
              "          google.colab.kernel.accessAllowed ? 'block' : 'none';\n",
              "\n",
              "        async function convertToInteractive(key) {\n",
              "          const element = document.querySelector('#df-f6d5e591-ff63-48e3-8bb9-ad270e6eb7f6');\n",
              "          const dataTable =\n",
              "            await google.colab.kernel.invokeFunction('convertToInteractive',\n",
              "                                                     [key], {});\n",
              "          if (!dataTable) return;\n",
              "\n",
              "          const docLinkHtml = 'Like what you see? Visit the ' +\n",
              "            '<a target=\"_blank\" href=https://colab.research.google.com/notebooks/data_table.ipynb>data table notebook</a>'\n",
              "            + ' to learn more about interactive tables.';\n",
              "          element.innerHTML = '';\n",
              "          dataTable['output_type'] = 'display_data';\n",
              "          await google.colab.output.renderOutput(dataTable, element);\n",
              "          const docLink = document.createElement('div');\n",
              "          docLink.innerHTML = docLinkHtml;\n",
              "          element.appendChild(docLink);\n",
              "        }\n",
              "      </script>\n",
              "    </div>\n",
              "  </div>\n",
              "  "
            ]
          },
          "metadata": {},
          "execution_count": 127
        }
      ]
    },
    {
      "cell_type": "code",
      "source": [
        "df_reviews['review_body_clean'][0]"
      ],
      "metadata": {
        "id": "edPW94TO-KgC",
        "colab": {
          "base_uri": "https://localhost:8080/",
          "height": 35
        },
        "outputId": "d043787f-8246-492e-87cc-1fcbad35f710"
      },
      "execution_count": null,
      "outputs": [
        {
          "output_type": "execute_result",
          "data": {
            "text/plain": [
              "' large bed given room singles small adult normal adult fell several times limited choiceservice goodbathroom weird toilet sink removed shower stay cause sleep proper bed larger bed sleep'"
            ],
            "application/vnd.google.colaboratory.intrinsic+json": {
              "type": "string"
            }
          },
          "metadata": {},
          "execution_count": 128
        }
      ]
    },
    {
      "cell_type": "markdown",
      "source": [
        "## Topic Modeling"
      ],
      "metadata": {
        "id": "IqOduVV5wMtq"
      }
    },
    {
      "cell_type": "markdown",
      "source": [
        "Topic modeling has been done to summarise data and find out what the hotel review is about. It uses parts of speech tagging to extract nouns and adjectives pair from the review text.\n"
      ],
      "metadata": {
        "id": "R119-y3TOtAG"
      }
    },
    {
      "cell_type": "code",
      "source": [
        "\n",
        "# function for topic modelling using extracted verbs and nouns with adjectives\n",
        "# text =  extract verbs and nouns with adjectives from the input text using the extract_verbs_nouns_with_adjectives function\n",
        "def topic_modelling(text):    \n",
        "\n",
        "    # create a spaCy parsed_text object for the extracted tokens\n",
        "    parsed_text = nlp(text)\n",
        "\n",
        "    # initialize an empty list to store the topics\n",
        "    topics = []\n",
        "\n",
        "    # loop through each token in the parsed_text object\n",
        "    for token in parsed_text:\n",
        "\n",
        "        # if the token is a noun, check if it has any adjective children\n",
        "        if (token.pos_ == 'NOUN'):\n",
        "            has_adjective = False\n",
        "\n",
        "            # loop through each child of the noun token\n",
        "            for subtoken in token.children:\n",
        "                \n",
        "                # if the child is an adjective, append the adjective-noun pair to the topics list\n",
        "                if (subtoken.pos_ == 'ADJ'):  \n",
        "                    topics.append((subtoken, token))\n",
        "                    has_adjective = True\n",
        "\n",
        "            # if the noun token has no adjective children, append it to the topics list\n",
        "            if not has_adjective:\n",
        "                topics.append(token)\n",
        "\n",
        "    # return the final list of topics\n",
        "    return topics"
      ],
      "metadata": {
        "id": "ycuR_h8KvwmF"
      },
      "execution_count": null,
      "outputs": []
    },
    {
      "cell_type": "code",
      "source": [
        "#extracting topics from the reviews - nouns / nouns+adjectives\n",
        "df_reviews['topics'] = df_reviews['review_body_clean'].apply(topic_modelling)\n",
        "df_reviews.head()"
      ],
      "metadata": {
        "id": "bmxxEvrVtzmX",
        "colab": {
          "base_uri": "https://localhost:8080/",
          "height": 206
        },
        "outputId": "b3280aea-2161-427e-da5b-968eaec71127"
      },
      "execution_count": null,
      "outputs": [
        {
          "output_type": "execute_result",
          "data": {
            "text/plain": [
              "                                         review_body  \\\n",
              "0  Forgot to book a large bed so given a room wit...   \n",
              "1  This hotel was really nice overall but they lo...   \n",
              "2  Our complimentary breakfast was delicious. Sta...   \n",
              "3  If I could give 0 stars, I would. Staff comple...   \n",
              "4  This was a comfortable hotel in Montparnasse n...   \n",
              "\n",
              "                               hotel_name  \\\n",
              "0  Novotel Paris Centre Gare Montparnasse   \n",
              "1  Novotel Paris Centre Gare Montparnasse   \n",
              "2  Novotel Paris Centre Gare Montparnasse   \n",
              "3  Novotel Paris Centre Gare Montparnasse   \n",
              "4  Novotel Paris Centre Gare Montparnasse   \n",
              "\n",
              "                                   review_body_clean  \\\n",
              "0   large bed given room singles small adult norm...   \n",
              "1   bad hotel nice location overall location hour...   \n",
              "2   breakfast complimentary staff delicious staff...   \n",
              "3   give stars staff booked room unhelpful hotel ...   \n",
              "4   hotel comfortable montparnasse montparnasse t...   \n",
              "\n",
              "                                              topics  \n",
              "0  [(large, bed), room, (small, adult), (normal, ...  \n",
              "1  [hotel, (bad, location), (nice, location), loc...  \n",
              "2  [breakfast, (complimentary, staff), delicious,...  \n",
              "3  [stars, staff, room, (unhelpful, hotel), air, ...  \n",
              "4  [hotel, montparnasse, montparnasse, tower, (co...  "
            ],
            "text/html": [
              "\n",
              "  <div id=\"df-652002e1-e59f-43a4-9372-093f5e062f8b\">\n",
              "    <div class=\"colab-df-container\">\n",
              "      <div>\n",
              "<style scoped>\n",
              "    .dataframe tbody tr th:only-of-type {\n",
              "        vertical-align: middle;\n",
              "    }\n",
              "\n",
              "    .dataframe tbody tr th {\n",
              "        vertical-align: top;\n",
              "    }\n",
              "\n",
              "    .dataframe thead th {\n",
              "        text-align: right;\n",
              "    }\n",
              "</style>\n",
              "<table border=\"1\" class=\"dataframe\">\n",
              "  <thead>\n",
              "    <tr style=\"text-align: right;\">\n",
              "      <th></th>\n",
              "      <th>review_body</th>\n",
              "      <th>hotel_name</th>\n",
              "      <th>review_body_clean</th>\n",
              "      <th>topics</th>\n",
              "    </tr>\n",
              "  </thead>\n",
              "  <tbody>\n",
              "    <tr>\n",
              "      <th>0</th>\n",
              "      <td>Forgot to book a large bed so given a room wit...</td>\n",
              "      <td>Novotel Paris Centre Gare Montparnasse</td>\n",
              "      <td>large bed given room singles small adult norm...</td>\n",
              "      <td>[(large, bed), room, (small, adult), (normal, ...</td>\n",
              "    </tr>\n",
              "    <tr>\n",
              "      <th>1</th>\n",
              "      <td>This hotel was really nice overall but they lo...</td>\n",
              "      <td>Novotel Paris Centre Gare Montparnasse</td>\n",
              "      <td>bad hotel nice location overall location hour...</td>\n",
              "      <td>[hotel, (bad, location), (nice, location), loc...</td>\n",
              "    </tr>\n",
              "    <tr>\n",
              "      <th>2</th>\n",
              "      <td>Our complimentary breakfast was delicious. Sta...</td>\n",
              "      <td>Novotel Paris Centre Gare Montparnasse</td>\n",
              "      <td>breakfast complimentary staff delicious staff...</td>\n",
              "      <td>[breakfast, (complimentary, staff), delicious,...</td>\n",
              "    </tr>\n",
              "    <tr>\n",
              "      <th>3</th>\n",
              "      <td>If I could give 0 stars, I would. Staff comple...</td>\n",
              "      <td>Novotel Paris Centre Gare Montparnasse</td>\n",
              "      <td>give stars staff booked room unhelpful hotel ...</td>\n",
              "      <td>[stars, staff, room, (unhelpful, hotel), air, ...</td>\n",
              "    </tr>\n",
              "    <tr>\n",
              "      <th>4</th>\n",
              "      <td>This was a comfortable hotel in Montparnasse n...</td>\n",
              "      <td>Novotel Paris Centre Gare Montparnasse</td>\n",
              "      <td>hotel comfortable montparnasse montparnasse t...</td>\n",
              "      <td>[hotel, montparnasse, montparnasse, tower, (co...</td>\n",
              "    </tr>\n",
              "  </tbody>\n",
              "</table>\n",
              "</div>\n",
              "      <button class=\"colab-df-convert\" onclick=\"convertToInteractive('df-652002e1-e59f-43a4-9372-093f5e062f8b')\"\n",
              "              title=\"Convert this dataframe to an interactive table.\"\n",
              "              style=\"display:none;\">\n",
              "        \n",
              "  <svg xmlns=\"http://www.w3.org/2000/svg\" height=\"24px\"viewBox=\"0 0 24 24\"\n",
              "       width=\"24px\">\n",
              "    <path d=\"M0 0h24v24H0V0z\" fill=\"none\"/>\n",
              "    <path d=\"M18.56 5.44l.94 2.06.94-2.06 2.06-.94-2.06-.94-.94-2.06-.94 2.06-2.06.94zm-11 1L8.5 8.5l.94-2.06 2.06-.94-2.06-.94L8.5 2.5l-.94 2.06-2.06.94zm10 10l.94 2.06.94-2.06 2.06-.94-2.06-.94-.94-2.06-.94 2.06-2.06.94z\"/><path d=\"M17.41 7.96l-1.37-1.37c-.4-.4-.92-.59-1.43-.59-.52 0-1.04.2-1.43.59L10.3 9.45l-7.72 7.72c-.78.78-.78 2.05 0 2.83L4 21.41c.39.39.9.59 1.41.59.51 0 1.02-.2 1.41-.59l7.78-7.78 2.81-2.81c.8-.78.8-2.07 0-2.86zM5.41 20L4 18.59l7.72-7.72 1.47 1.35L5.41 20z\"/>\n",
              "  </svg>\n",
              "      </button>\n",
              "      \n",
              "  <style>\n",
              "    .colab-df-container {\n",
              "      display:flex;\n",
              "      flex-wrap:wrap;\n",
              "      gap: 12px;\n",
              "    }\n",
              "\n",
              "    .colab-df-convert {\n",
              "      background-color: #E8F0FE;\n",
              "      border: none;\n",
              "      border-radius: 50%;\n",
              "      cursor: pointer;\n",
              "      display: none;\n",
              "      fill: #1967D2;\n",
              "      height: 32px;\n",
              "      padding: 0 0 0 0;\n",
              "      width: 32px;\n",
              "    }\n",
              "\n",
              "    .colab-df-convert:hover {\n",
              "      background-color: #E2EBFA;\n",
              "      box-shadow: 0px 1px 2px rgba(60, 64, 67, 0.3), 0px 1px 3px 1px rgba(60, 64, 67, 0.15);\n",
              "      fill: #174EA6;\n",
              "    }\n",
              "\n",
              "    [theme=dark] .colab-df-convert {\n",
              "      background-color: #3B4455;\n",
              "      fill: #D2E3FC;\n",
              "    }\n",
              "\n",
              "    [theme=dark] .colab-df-convert:hover {\n",
              "      background-color: #434B5C;\n",
              "      box-shadow: 0px 1px 3px 1px rgba(0, 0, 0, 0.15);\n",
              "      filter: drop-shadow(0px 1px 2px rgba(0, 0, 0, 0.3));\n",
              "      fill: #FFFFFF;\n",
              "    }\n",
              "  </style>\n",
              "\n",
              "      <script>\n",
              "        const buttonEl =\n",
              "          document.querySelector('#df-652002e1-e59f-43a4-9372-093f5e062f8b button.colab-df-convert');\n",
              "        buttonEl.style.display =\n",
              "          google.colab.kernel.accessAllowed ? 'block' : 'none';\n",
              "\n",
              "        async function convertToInteractive(key) {\n",
              "          const element = document.querySelector('#df-652002e1-e59f-43a4-9372-093f5e062f8b');\n",
              "          const dataTable =\n",
              "            await google.colab.kernel.invokeFunction('convertToInteractive',\n",
              "                                                     [key], {});\n",
              "          if (!dataTable) return;\n",
              "\n",
              "          const docLinkHtml = 'Like what you see? Visit the ' +\n",
              "            '<a target=\"_blank\" href=https://colab.research.google.com/notebooks/data_table.ipynb>data table notebook</a>'\n",
              "            + ' to learn more about interactive tables.';\n",
              "          element.innerHTML = '';\n",
              "          dataTable['output_type'] = 'display_data';\n",
              "          await google.colab.output.renderOutput(dataTable, element);\n",
              "          const docLink = document.createElement('div');\n",
              "          docLink.innerHTML = docLinkHtml;\n",
              "          element.appendChild(docLink);\n",
              "        }\n",
              "      </script>\n",
              "    </div>\n",
              "  </div>\n",
              "  "
            ]
          },
          "metadata": {},
          "execution_count": 130
        }
      ]
    },
    {
      "cell_type": "code",
      "source": [
        "df_reviews['topics'][0]"
      ],
      "metadata": {
        "id": "vrBAJvMP-mRi",
        "colab": {
          "base_uri": "https://localhost:8080/"
        },
        "outputId": "9823de41-b2f8-48cd-afd1-1cf352bf045d"
      },
      "execution_count": null,
      "outputs": [
        {
          "output_type": "execute_result",
          "data": {
            "text/plain": [
              "[(large, bed),\n",
              " room,\n",
              " (small, adult),\n",
              " (normal, adult),\n",
              " (several, times),\n",
              " (limited, choiceservice),\n",
              " goodbathroom,\n",
              " (weird, toilet),\n",
              " sink,\n",
              " cause,\n",
              " sleep,\n",
              " (proper, bed),\n",
              " (larger, bed)]"
            ]
          },
          "metadata": {},
          "execution_count": 131
        }
      ]
    },
    {
      "cell_type": "markdown",
      "source": [
        "## Sentiment Analysis"
      ],
      "metadata": {
        "id": "DAxYMoQYylZ-"
      }
    },
    {
      "cell_type": "markdown",
      "source": [
        "Sentiment analysis is used to derive the overall sentiment of the entire review text. It gives an overall feedback but this can be extended to derive sentiment on particular topic. For example good food, bad ambience, etc.\n",
        "\n",
        "So sentiment for food is positive but ambience is negative."
      ],
      "metadata": {
        "id": "8p0JPW59O5F5"
      }
    },
    {
      "cell_type": "code",
      "source": [
        "# Define a function to determine the sentiment of a given text\n",
        "def determine_sentiment(text):\n",
        "    \n",
        "  # Parse the text using a natural language processing library\n",
        "  parsed_text = nlp(text)\n",
        "  # Get the polarity score of the text\n",
        "  polarity_score = parsed_text._.blob.polarity\n",
        "  \n",
        "  # Round the polarity score to two decimal places\n",
        "  rounded_polarity_score = round(polarity_score, 2)\n",
        "  \n",
        "  # Determine the sentiment label based on the polarity score\n",
        "  if rounded_polarity_score > 0.3:\n",
        "    sentiment_label = \"Positive\"\n",
        "  elif rounded_polarity_score < -0.3:\n",
        "    sentiment_label = \"Negative\"\n",
        "  else:\n",
        "    sentiment_label = \"Neutral\"\n",
        "  \n",
        "  # Return the sentiment label\n",
        "  return sentiment_label\n"
      ],
      "metadata": {
        "id": "OIfkynFtx-Iu"
      },
      "execution_count": null,
      "outputs": []
    },
    {
      "cell_type": "code",
      "source": [
        "# load english language model\n",
        "nlp = spacy.load('en_core_web_sm',disable=['ner','textcat'])\n",
        "nlp.add_pipe('spacytextblob')\n",
        "  \n",
        "#detecting over all sentiment of the review\n",
        "df_reviews['sentiment'] = df_reviews['review_body'].apply(determine_sentiment)\n",
        "df_reviews.head()\n",
        "# df['sentiment'] = df['review_body'].apply(sentiment)"
      ],
      "metadata": {
        "id": "EUIE5oQYyoTu",
        "colab": {
          "base_uri": "https://localhost:8080/",
          "height": 206
        },
        "outputId": "9443e23c-e91c-48ff-ddf2-2833466d857d"
      },
      "execution_count": null,
      "outputs": [
        {
          "output_type": "execute_result",
          "data": {
            "text/plain": [
              "                                         review_body  \\\n",
              "0  Forgot to book a large bed so given a room wit...   \n",
              "1  This hotel was really nice overall but they lo...   \n",
              "2  Our complimentary breakfast was delicious. Sta...   \n",
              "3  If I could give 0 stars, I would. Staff comple...   \n",
              "4  This was a comfortable hotel in Montparnasse n...   \n",
              "\n",
              "                               hotel_name  \\\n",
              "0  Novotel Paris Centre Gare Montparnasse   \n",
              "1  Novotel Paris Centre Gare Montparnasse   \n",
              "2  Novotel Paris Centre Gare Montparnasse   \n",
              "3  Novotel Paris Centre Gare Montparnasse   \n",
              "4  Novotel Paris Centre Gare Montparnasse   \n",
              "\n",
              "                                   review_body_clean  \\\n",
              "0   large bed given room singles small adult norm...   \n",
              "1   bad hotel nice location overall location hour...   \n",
              "2   breakfast complimentary staff delicious staff...   \n",
              "3   give stars staff booked room unhelpful hotel ...   \n",
              "4   hotel comfortable montparnasse montparnasse t...   \n",
              "\n",
              "                                              topics sentiment  \n",
              "0  [(large, bed), room, (small, adult), (normal, ...   Neutral  \n",
              "1  [hotel, (bad, location), (nice, location), loc...   Neutral  \n",
              "2  [breakfast, (complimentary, staff), delicious,...  Positive  \n",
              "3  [stars, staff, room, (unhelpful, hotel), air, ...   Neutral  \n",
              "4  [hotel, montparnasse, montparnasse, tower, (co...   Neutral  "
            ],
            "text/html": [
              "\n",
              "  <div id=\"df-2971d55e-9806-4a89-9989-9b4ea9eb6aed\">\n",
              "    <div class=\"colab-df-container\">\n",
              "      <div>\n",
              "<style scoped>\n",
              "    .dataframe tbody tr th:only-of-type {\n",
              "        vertical-align: middle;\n",
              "    }\n",
              "\n",
              "    .dataframe tbody tr th {\n",
              "        vertical-align: top;\n",
              "    }\n",
              "\n",
              "    .dataframe thead th {\n",
              "        text-align: right;\n",
              "    }\n",
              "</style>\n",
              "<table border=\"1\" class=\"dataframe\">\n",
              "  <thead>\n",
              "    <tr style=\"text-align: right;\">\n",
              "      <th></th>\n",
              "      <th>review_body</th>\n",
              "      <th>hotel_name</th>\n",
              "      <th>review_body_clean</th>\n",
              "      <th>topics</th>\n",
              "      <th>sentiment</th>\n",
              "    </tr>\n",
              "  </thead>\n",
              "  <tbody>\n",
              "    <tr>\n",
              "      <th>0</th>\n",
              "      <td>Forgot to book a large bed so given a room wit...</td>\n",
              "      <td>Novotel Paris Centre Gare Montparnasse</td>\n",
              "      <td>large bed given room singles small adult norm...</td>\n",
              "      <td>[(large, bed), room, (small, adult), (normal, ...</td>\n",
              "      <td>Neutral</td>\n",
              "    </tr>\n",
              "    <tr>\n",
              "      <th>1</th>\n",
              "      <td>This hotel was really nice overall but they lo...</td>\n",
              "      <td>Novotel Paris Centre Gare Montparnasse</td>\n",
              "      <td>bad hotel nice location overall location hour...</td>\n",
              "      <td>[hotel, (bad, location), (nice, location), loc...</td>\n",
              "      <td>Neutral</td>\n",
              "    </tr>\n",
              "    <tr>\n",
              "      <th>2</th>\n",
              "      <td>Our complimentary breakfast was delicious. Sta...</td>\n",
              "      <td>Novotel Paris Centre Gare Montparnasse</td>\n",
              "      <td>breakfast complimentary staff delicious staff...</td>\n",
              "      <td>[breakfast, (complimentary, staff), delicious,...</td>\n",
              "      <td>Positive</td>\n",
              "    </tr>\n",
              "    <tr>\n",
              "      <th>3</th>\n",
              "      <td>If I could give 0 stars, I would. Staff comple...</td>\n",
              "      <td>Novotel Paris Centre Gare Montparnasse</td>\n",
              "      <td>give stars staff booked room unhelpful hotel ...</td>\n",
              "      <td>[stars, staff, room, (unhelpful, hotel), air, ...</td>\n",
              "      <td>Neutral</td>\n",
              "    </tr>\n",
              "    <tr>\n",
              "      <th>4</th>\n",
              "      <td>This was a comfortable hotel in Montparnasse n...</td>\n",
              "      <td>Novotel Paris Centre Gare Montparnasse</td>\n",
              "      <td>hotel comfortable montparnasse montparnasse t...</td>\n",
              "      <td>[hotel, montparnasse, montparnasse, tower, (co...</td>\n",
              "      <td>Neutral</td>\n",
              "    </tr>\n",
              "  </tbody>\n",
              "</table>\n",
              "</div>\n",
              "      <button class=\"colab-df-convert\" onclick=\"convertToInteractive('df-2971d55e-9806-4a89-9989-9b4ea9eb6aed')\"\n",
              "              title=\"Convert this dataframe to an interactive table.\"\n",
              "              style=\"display:none;\">\n",
              "        \n",
              "  <svg xmlns=\"http://www.w3.org/2000/svg\" height=\"24px\"viewBox=\"0 0 24 24\"\n",
              "       width=\"24px\">\n",
              "    <path d=\"M0 0h24v24H0V0z\" fill=\"none\"/>\n",
              "    <path d=\"M18.56 5.44l.94 2.06.94-2.06 2.06-.94-2.06-.94-.94-2.06-.94 2.06-2.06.94zm-11 1L8.5 8.5l.94-2.06 2.06-.94-2.06-.94L8.5 2.5l-.94 2.06-2.06.94zm10 10l.94 2.06.94-2.06 2.06-.94-2.06-.94-.94-2.06-.94 2.06-2.06.94z\"/><path d=\"M17.41 7.96l-1.37-1.37c-.4-.4-.92-.59-1.43-.59-.52 0-1.04.2-1.43.59L10.3 9.45l-7.72 7.72c-.78.78-.78 2.05 0 2.83L4 21.41c.39.39.9.59 1.41.59.51 0 1.02-.2 1.41-.59l7.78-7.78 2.81-2.81c.8-.78.8-2.07 0-2.86zM5.41 20L4 18.59l7.72-7.72 1.47 1.35L5.41 20z\"/>\n",
              "  </svg>\n",
              "      </button>\n",
              "      \n",
              "  <style>\n",
              "    .colab-df-container {\n",
              "      display:flex;\n",
              "      flex-wrap:wrap;\n",
              "      gap: 12px;\n",
              "    }\n",
              "\n",
              "    .colab-df-convert {\n",
              "      background-color: #E8F0FE;\n",
              "      border: none;\n",
              "      border-radius: 50%;\n",
              "      cursor: pointer;\n",
              "      display: none;\n",
              "      fill: #1967D2;\n",
              "      height: 32px;\n",
              "      padding: 0 0 0 0;\n",
              "      width: 32px;\n",
              "    }\n",
              "\n",
              "    .colab-df-convert:hover {\n",
              "      background-color: #E2EBFA;\n",
              "      box-shadow: 0px 1px 2px rgba(60, 64, 67, 0.3), 0px 1px 3px 1px rgba(60, 64, 67, 0.15);\n",
              "      fill: #174EA6;\n",
              "    }\n",
              "\n",
              "    [theme=dark] .colab-df-convert {\n",
              "      background-color: #3B4455;\n",
              "      fill: #D2E3FC;\n",
              "    }\n",
              "\n",
              "    [theme=dark] .colab-df-convert:hover {\n",
              "      background-color: #434B5C;\n",
              "      box-shadow: 0px 1px 3px 1px rgba(0, 0, 0, 0.15);\n",
              "      filter: drop-shadow(0px 1px 2px rgba(0, 0, 0, 0.3));\n",
              "      fill: #FFFFFF;\n",
              "    }\n",
              "  </style>\n",
              "\n",
              "      <script>\n",
              "        const buttonEl =\n",
              "          document.querySelector('#df-2971d55e-9806-4a89-9989-9b4ea9eb6aed button.colab-df-convert');\n",
              "        buttonEl.style.display =\n",
              "          google.colab.kernel.accessAllowed ? 'block' : 'none';\n",
              "\n",
              "        async function convertToInteractive(key) {\n",
              "          const element = document.querySelector('#df-2971d55e-9806-4a89-9989-9b4ea9eb6aed');\n",
              "          const dataTable =\n",
              "            await google.colab.kernel.invokeFunction('convertToInteractive',\n",
              "                                                     [key], {});\n",
              "          if (!dataTable) return;\n",
              "\n",
              "          const docLinkHtml = 'Like what you see? Visit the ' +\n",
              "            '<a target=\"_blank\" href=https://colab.research.google.com/notebooks/data_table.ipynb>data table notebook</a>'\n",
              "            + ' to learn more about interactive tables.';\n",
              "          element.innerHTML = '';\n",
              "          dataTable['output_type'] = 'display_data';\n",
              "          await google.colab.output.renderOutput(dataTable, element);\n",
              "          const docLink = document.createElement('div');\n",
              "          docLink.innerHTML = docLinkHtml;\n",
              "          element.appendChild(docLink);\n",
              "        }\n",
              "      </script>\n",
              "    </div>\n",
              "  </div>\n",
              "  "
            ]
          },
          "metadata": {},
          "execution_count": 133
        }
      ]
    },
    {
      "cell_type": "code",
      "source": [
        "df_reviews['sentiment'][0]"
      ],
      "metadata": {
        "id": "dJjS3Tw_AcAR",
        "colab": {
          "base_uri": "https://localhost:8080/",
          "height": 35
        },
        "outputId": "237af154-1522-4b5a-8b04-7df1d618dac1"
      },
      "execution_count": null,
      "outputs": [
        {
          "output_type": "execute_result",
          "data": {
            "text/plain": [
              "'Neutral'"
            ],
            "application/vnd.google.colaboratory.intrinsic+json": {
              "type": "string"
            }
          },
          "metadata": {},
          "execution_count": 134
        }
      ]
    },
    {
      "cell_type": "markdown",
      "source": [
        "# Creating the Clusters of Hotels"
      ],
      "metadata": {
        "id": "qEKM2q2cAqkK"
      }
    },
    {
      "cell_type": "markdown",
      "source": [
        "* Define the objective of the clustering task (example: grouping similar hotels together).\n",
        "* Choose an appropriate clustering algorithm (example: k-means, hierarchical clustering, DBSCAN, etc.).\n",
        "* Prepare the data for clustering by transforming it into a suitable format (example: bag-of-words, TF-IDF, word embeddings, etc.).\n",
        "* Cluster the hotels using the chosen algorithm.\n",
        "* Evaluate the quality of the clustering using appropriate metrics (example: silhouette score, inertia, etc.)."
      ],
      "metadata": {
        "id": "YRANHHjaAt5z"
      }
    },
    {
      "cell_type": "markdown",
      "source": [
        "## Objective"
      ],
      "metadata": {
        "id": "BZjNGkKqA37-"
      }
    },
    {
      "cell_type": "markdown",
      "source": [
        "The objective of the clustering task is to group hotels together based on similarities in their review_body, hotel_name, reviews, booking_provider, no_of_deals, and price_value attributes. This can help in identifying similar hotels for various purposes such as marketing, pricing, and recommendations."
      ],
      "metadata": {
        "id": "drvD7fDgm-zp"
      }
    },
    {
      "cell_type": "markdown",
      "source": [
        "## Data Preparation"
      ],
      "metadata": {
        "id": "MWQBEAG-L0Lr"
      }
    },
    {
      "cell_type": "markdown",
      "source": [
        "We have already preprocessed the data by removing any unnecessary columns that won't be used in clustering, but we need the \"review_body\" now for cluster preparation."
      ],
      "metadata": {
        "id": "VUDsSFulL6Py"
      }
    },
    {
      "cell_type": "markdown",
      "source": [
        "We can aggregate all the reviews in the \"review_body\" column for each hotel and also for each unique value of the \"hotel_name\" column. Concatenating them into a single string separated by spaces and returning the result in a new DataFrame with the \"hotelUrl\" column as the index."
      ],
      "metadata": {
        "id": "yze6dAWrMyLz"
      }
    },
    {
      "cell_type": "code",
      "source": [
        "df1 = df_reviews.groupby(\"hotel_name\")[\"topics\"].apply(lambda x: \" \".join(map(str, x))).reset_index()\n",
        "df1.head()"
      ],
      "metadata": {
        "colab": {
          "base_uri": "https://localhost:8080/",
          "height": 206
        },
        "id": "7JJrlpWWRud-",
        "outputId": "70da6b61-45d3-41f3-b70b-8be3801d64a1"
      },
      "execution_count": null,
      "outputs": [
        {
          "output_type": "execute_result",
          "data": {
            "text/plain": [
              "                                       hotel_name  \\\n",
              "0                                Assia & Nathalie   \n",
              "1        Courtyard by Marriott Paris Gare de Lyon   \n",
              "2  Holiday Inn Express Paris-Canal de la Villette   \n",
              "3                             Hotel Cecilia Paris   \n",
              "4                 Hotel Cervantes by HappyCulture   \n",
              "\n",
              "                                              topics  \n",
              "0  [week, (enough, hosts), trip, (wonderful, grou...  \n",
              "1  [room, use, marriott, points, bit, (negative, ...  \n",
              "2  [way, city, centre, head, metro, system, train...  \n",
              "3  [wife, nights, location, (next, champs), (perf...  \n",
              "4  [railway, (next, hub), hotel, (quiet, summer),...  "
            ],
            "text/html": [
              "\n",
              "  <div id=\"df-3328e232-82b0-4fef-bac6-323006159d36\">\n",
              "    <div class=\"colab-df-container\">\n",
              "      <div>\n",
              "<style scoped>\n",
              "    .dataframe tbody tr th:only-of-type {\n",
              "        vertical-align: middle;\n",
              "    }\n",
              "\n",
              "    .dataframe tbody tr th {\n",
              "        vertical-align: top;\n",
              "    }\n",
              "\n",
              "    .dataframe thead th {\n",
              "        text-align: right;\n",
              "    }\n",
              "</style>\n",
              "<table border=\"1\" class=\"dataframe\">\n",
              "  <thead>\n",
              "    <tr style=\"text-align: right;\">\n",
              "      <th></th>\n",
              "      <th>hotel_name</th>\n",
              "      <th>topics</th>\n",
              "    </tr>\n",
              "  </thead>\n",
              "  <tbody>\n",
              "    <tr>\n",
              "      <th>0</th>\n",
              "      <td>Assia &amp; Nathalie</td>\n",
              "      <td>[week, (enough, hosts), trip, (wonderful, grou...</td>\n",
              "    </tr>\n",
              "    <tr>\n",
              "      <th>1</th>\n",
              "      <td>Courtyard by Marriott Paris Gare de Lyon</td>\n",
              "      <td>[room, use, marriott, points, bit, (negative, ...</td>\n",
              "    </tr>\n",
              "    <tr>\n",
              "      <th>2</th>\n",
              "      <td>Holiday Inn Express Paris-Canal de la Villette</td>\n",
              "      <td>[way, city, centre, head, metro, system, train...</td>\n",
              "    </tr>\n",
              "    <tr>\n",
              "      <th>3</th>\n",
              "      <td>Hotel Cecilia Paris</td>\n",
              "      <td>[wife, nights, location, (next, champs), (perf...</td>\n",
              "    </tr>\n",
              "    <tr>\n",
              "      <th>4</th>\n",
              "      <td>Hotel Cervantes by HappyCulture</td>\n",
              "      <td>[railway, (next, hub), hotel, (quiet, summer),...</td>\n",
              "    </tr>\n",
              "  </tbody>\n",
              "</table>\n",
              "</div>\n",
              "      <button class=\"colab-df-convert\" onclick=\"convertToInteractive('df-3328e232-82b0-4fef-bac6-323006159d36')\"\n",
              "              title=\"Convert this dataframe to an interactive table.\"\n",
              "              style=\"display:none;\">\n",
              "        \n",
              "  <svg xmlns=\"http://www.w3.org/2000/svg\" height=\"24px\"viewBox=\"0 0 24 24\"\n",
              "       width=\"24px\">\n",
              "    <path d=\"M0 0h24v24H0V0z\" fill=\"none\"/>\n",
              "    <path d=\"M18.56 5.44l.94 2.06.94-2.06 2.06-.94-2.06-.94-.94-2.06-.94 2.06-2.06.94zm-11 1L8.5 8.5l.94-2.06 2.06-.94-2.06-.94L8.5 2.5l-.94 2.06-2.06.94zm10 10l.94 2.06.94-2.06 2.06-.94-2.06-.94-.94-2.06-.94 2.06-2.06.94z\"/><path d=\"M17.41 7.96l-1.37-1.37c-.4-.4-.92-.59-1.43-.59-.52 0-1.04.2-1.43.59L10.3 9.45l-7.72 7.72c-.78.78-.78 2.05 0 2.83L4 21.41c.39.39.9.59 1.41.59.51 0 1.02-.2 1.41-.59l7.78-7.78 2.81-2.81c.8-.78.8-2.07 0-2.86zM5.41 20L4 18.59l7.72-7.72 1.47 1.35L5.41 20z\"/>\n",
              "  </svg>\n",
              "      </button>\n",
              "      \n",
              "  <style>\n",
              "    .colab-df-container {\n",
              "      display:flex;\n",
              "      flex-wrap:wrap;\n",
              "      gap: 12px;\n",
              "    }\n",
              "\n",
              "    .colab-df-convert {\n",
              "      background-color: #E8F0FE;\n",
              "      border: none;\n",
              "      border-radius: 50%;\n",
              "      cursor: pointer;\n",
              "      display: none;\n",
              "      fill: #1967D2;\n",
              "      height: 32px;\n",
              "      padding: 0 0 0 0;\n",
              "      width: 32px;\n",
              "    }\n",
              "\n",
              "    .colab-df-convert:hover {\n",
              "      background-color: #E2EBFA;\n",
              "      box-shadow: 0px 1px 2px rgba(60, 64, 67, 0.3), 0px 1px 3px 1px rgba(60, 64, 67, 0.15);\n",
              "      fill: #174EA6;\n",
              "    }\n",
              "\n",
              "    [theme=dark] .colab-df-convert {\n",
              "      background-color: #3B4455;\n",
              "      fill: #D2E3FC;\n",
              "    }\n",
              "\n",
              "    [theme=dark] .colab-df-convert:hover {\n",
              "      background-color: #434B5C;\n",
              "      box-shadow: 0px 1px 3px 1px rgba(0, 0, 0, 0.15);\n",
              "      filter: drop-shadow(0px 1px 2px rgba(0, 0, 0, 0.3));\n",
              "      fill: #FFFFFF;\n",
              "    }\n",
              "  </style>\n",
              "\n",
              "      <script>\n",
              "        const buttonEl =\n",
              "          document.querySelector('#df-3328e232-82b0-4fef-bac6-323006159d36 button.colab-df-convert');\n",
              "        buttonEl.style.display =\n",
              "          google.colab.kernel.accessAllowed ? 'block' : 'none';\n",
              "\n",
              "        async function convertToInteractive(key) {\n",
              "          const element = document.querySelector('#df-3328e232-82b0-4fef-bac6-323006159d36');\n",
              "          const dataTable =\n",
              "            await google.colab.kernel.invokeFunction('convertToInteractive',\n",
              "                                                     [key], {});\n",
              "          if (!dataTable) return;\n",
              "\n",
              "          const docLinkHtml = 'Like what you see? Visit the ' +\n",
              "            '<a target=\"_blank\" href=https://colab.research.google.com/notebooks/data_table.ipynb>data table notebook</a>'\n",
              "            + ' to learn more about interactive tables.';\n",
              "          element.innerHTML = '';\n",
              "          dataTable['output_type'] = 'display_data';\n",
              "          await google.colab.output.renderOutput(dataTable, element);\n",
              "          const docLink = document.createElement('div');\n",
              "          docLink.innerHTML = docLinkHtml;\n",
              "          element.appendChild(docLink);\n",
              "        }\n",
              "      </script>\n",
              "    </div>\n",
              "  </div>\n",
              "  "
            ]
          },
          "metadata": {},
          "execution_count": 135
        }
      ]
    },
    {
      "cell_type": "code",
      "source": [
        "df_review_per_hotel = df_reviews.groupby(\"hotel_name\").agg({\"topics\": lambda x: \" \".join(map(str, x)), \"review_body_clean\": lambda x: \" \".join(x)}).reset_index()\n",
        "df_review_per_hotel.head()"
      ],
      "metadata": {
        "id": "_mjdqw6kagza",
        "colab": {
          "base_uri": "https://localhost:8080/",
          "height": 206
        },
        "outputId": "ad880b6a-577f-4957-879b-206ab06a0dfd"
      },
      "execution_count": null,
      "outputs": [
        {
          "output_type": "execute_result",
          "data": {
            "text/plain": [
              "                                       hotel_name  \\\n",
              "0                                Assia & Nathalie   \n",
              "1        Courtyard by Marriott Paris Gare de Lyon   \n",
              "2  Holiday Inn Express Paris-Canal de la Villette   \n",
              "3                             Hotel Cecilia Paris   \n",
              "4                 Hotel Cervantes by HappyCulture   \n",
              "\n",
              "                                              topics  \\\n",
              "0  [week, (enough, hosts), trip, (wonderful, grou...   \n",
              "1  [room, use, marriott, points, bit, (negative, ...   \n",
              "2  [way, city, centre, head, metro, system, train...   \n",
              "3  [wife, nights, location, (next, champs), (perf...   \n",
              "4  [railway, (next, hub), hotel, (quiet, summer),...   \n",
              "\n",
              "                                   review_body_clean  \n",
              "0   spent week say enough hosts made trip wonderf...  \n",
              "1   needed room wanted use marriott points bit gi...  \n",
              "2   way city centre makes get head metro system t...  \n",
              "3   wife stayed nights consider going location ne...  \n",
              "4   located railway next hub hotel quiet summer s...  "
            ],
            "text/html": [
              "\n",
              "  <div id=\"df-871ba2af-af94-4539-9dbf-e84111e811d7\">\n",
              "    <div class=\"colab-df-container\">\n",
              "      <div>\n",
              "<style scoped>\n",
              "    .dataframe tbody tr th:only-of-type {\n",
              "        vertical-align: middle;\n",
              "    }\n",
              "\n",
              "    .dataframe tbody tr th {\n",
              "        vertical-align: top;\n",
              "    }\n",
              "\n",
              "    .dataframe thead th {\n",
              "        text-align: right;\n",
              "    }\n",
              "</style>\n",
              "<table border=\"1\" class=\"dataframe\">\n",
              "  <thead>\n",
              "    <tr style=\"text-align: right;\">\n",
              "      <th></th>\n",
              "      <th>hotel_name</th>\n",
              "      <th>topics</th>\n",
              "      <th>review_body_clean</th>\n",
              "    </tr>\n",
              "  </thead>\n",
              "  <tbody>\n",
              "    <tr>\n",
              "      <th>0</th>\n",
              "      <td>Assia &amp; Nathalie</td>\n",
              "      <td>[week, (enough, hosts), trip, (wonderful, grou...</td>\n",
              "      <td>spent week say enough hosts made trip wonderf...</td>\n",
              "    </tr>\n",
              "    <tr>\n",
              "      <th>1</th>\n",
              "      <td>Courtyard by Marriott Paris Gare de Lyon</td>\n",
              "      <td>[room, use, marriott, points, bit, (negative, ...</td>\n",
              "      <td>needed room wanted use marriott points bit gi...</td>\n",
              "    </tr>\n",
              "    <tr>\n",
              "      <th>2</th>\n",
              "      <td>Holiday Inn Express Paris-Canal de la Villette</td>\n",
              "      <td>[way, city, centre, head, metro, system, train...</td>\n",
              "      <td>way city centre makes get head metro system t...</td>\n",
              "    </tr>\n",
              "    <tr>\n",
              "      <th>3</th>\n",
              "      <td>Hotel Cecilia Paris</td>\n",
              "      <td>[wife, nights, location, (next, champs), (perf...</td>\n",
              "      <td>wife stayed nights consider going location ne...</td>\n",
              "    </tr>\n",
              "    <tr>\n",
              "      <th>4</th>\n",
              "      <td>Hotel Cervantes by HappyCulture</td>\n",
              "      <td>[railway, (next, hub), hotel, (quiet, summer),...</td>\n",
              "      <td>located railway next hub hotel quiet summer s...</td>\n",
              "    </tr>\n",
              "  </tbody>\n",
              "</table>\n",
              "</div>\n",
              "      <button class=\"colab-df-convert\" onclick=\"convertToInteractive('df-871ba2af-af94-4539-9dbf-e84111e811d7')\"\n",
              "              title=\"Convert this dataframe to an interactive table.\"\n",
              "              style=\"display:none;\">\n",
              "        \n",
              "  <svg xmlns=\"http://www.w3.org/2000/svg\" height=\"24px\"viewBox=\"0 0 24 24\"\n",
              "       width=\"24px\">\n",
              "    <path d=\"M0 0h24v24H0V0z\" fill=\"none\"/>\n",
              "    <path d=\"M18.56 5.44l.94 2.06.94-2.06 2.06-.94-2.06-.94-.94-2.06-.94 2.06-2.06.94zm-11 1L8.5 8.5l.94-2.06 2.06-.94-2.06-.94L8.5 2.5l-.94 2.06-2.06.94zm10 10l.94 2.06.94-2.06 2.06-.94-2.06-.94-.94-2.06-.94 2.06-2.06.94z\"/><path d=\"M17.41 7.96l-1.37-1.37c-.4-.4-.92-.59-1.43-.59-.52 0-1.04.2-1.43.59L10.3 9.45l-7.72 7.72c-.78.78-.78 2.05 0 2.83L4 21.41c.39.39.9.59 1.41.59.51 0 1.02-.2 1.41-.59l7.78-7.78 2.81-2.81c.8-.78.8-2.07 0-2.86zM5.41 20L4 18.59l7.72-7.72 1.47 1.35L5.41 20z\"/>\n",
              "  </svg>\n",
              "      </button>\n",
              "      \n",
              "  <style>\n",
              "    .colab-df-container {\n",
              "      display:flex;\n",
              "      flex-wrap:wrap;\n",
              "      gap: 12px;\n",
              "    }\n",
              "\n",
              "    .colab-df-convert {\n",
              "      background-color: #E8F0FE;\n",
              "      border: none;\n",
              "      border-radius: 50%;\n",
              "      cursor: pointer;\n",
              "      display: none;\n",
              "      fill: #1967D2;\n",
              "      height: 32px;\n",
              "      padding: 0 0 0 0;\n",
              "      width: 32px;\n",
              "    }\n",
              "\n",
              "    .colab-df-convert:hover {\n",
              "      background-color: #E2EBFA;\n",
              "      box-shadow: 0px 1px 2px rgba(60, 64, 67, 0.3), 0px 1px 3px 1px rgba(60, 64, 67, 0.15);\n",
              "      fill: #174EA6;\n",
              "    }\n",
              "\n",
              "    [theme=dark] .colab-df-convert {\n",
              "      background-color: #3B4455;\n",
              "      fill: #D2E3FC;\n",
              "    }\n",
              "\n",
              "    [theme=dark] .colab-df-convert:hover {\n",
              "      background-color: #434B5C;\n",
              "      box-shadow: 0px 1px 3px 1px rgba(0, 0, 0, 0.15);\n",
              "      filter: drop-shadow(0px 1px 2px rgba(0, 0, 0, 0.3));\n",
              "      fill: #FFFFFF;\n",
              "    }\n",
              "  </style>\n",
              "\n",
              "      <script>\n",
              "        const buttonEl =\n",
              "          document.querySelector('#df-871ba2af-af94-4539-9dbf-e84111e811d7 button.colab-df-convert');\n",
              "        buttonEl.style.display =\n",
              "          google.colab.kernel.accessAllowed ? 'block' : 'none';\n",
              "\n",
              "        async function convertToInteractive(key) {\n",
              "          const element = document.querySelector('#df-871ba2af-af94-4539-9dbf-e84111e811d7');\n",
              "          const dataTable =\n",
              "            await google.colab.kernel.invokeFunction('convertToInteractive',\n",
              "                                                     [key], {});\n",
              "          if (!dataTable) return;\n",
              "\n",
              "          const docLinkHtml = 'Like what you see? Visit the ' +\n",
              "            '<a target=\"_blank\" href=https://colab.research.google.com/notebooks/data_table.ipynb>data table notebook</a>'\n",
              "            + ' to learn more about interactive tables.';\n",
              "          element.innerHTML = '';\n",
              "          dataTable['output_type'] = 'display_data';\n",
              "          await google.colab.output.renderOutput(dataTable, element);\n",
              "          const docLink = document.createElement('div');\n",
              "          docLink.innerHTML = docLinkHtml;\n",
              "          element.appendChild(docLink);\n",
              "        }\n",
              "      </script>\n",
              "    </div>\n",
              "  </div>\n",
              "  "
            ]
          },
          "metadata": {},
          "execution_count": 136
        }
      ]
    },
    {
      "cell_type": "code",
      "source": [
        "# merge the two dataframes on the 'hotel_name' column\n",
        "merged_df = pd.merge(df_categorical, df_review_per_hotel, on='hotel_name', how='left')\n",
        "\n",
        "# display the merged dataframe\n",
        "merged_df.head()"
      ],
      "metadata": {
        "id": "R8OQicM1CmAD",
        "colab": {
          "base_uri": "https://localhost:8080/",
          "height": 206
        },
        "outputId": "81cc9b8d-aeda-4b24-8725-ef9711769794"
      },
      "execution_count": null,
      "outputs": [
        {
          "output_type": "execute_result",
          "data": {
            "text/plain": [
              "                               hotel_name  reviews  booking_provider  \\\n",
              "0  Novotel Paris Centre Gare Montparnasse     2313                 1   \n",
              "1                            Les3chambres      519                 1   \n",
              "2                   La Chambre Parisienne       91                 6   \n",
              "3              Hyatt Regency Paris Etoile      663                 1   \n",
              "4                            Hotel Darcet      942                 1   \n",
              "\n",
              "   no_of_deals  price_value  \\\n",
              "0           11        225.0   \n",
              "1            0        205.2   \n",
              "2            5        205.2   \n",
              "3           12        205.2   \n",
              "4           12        205.2   \n",
              "\n",
              "                                              topics  \\\n",
              "0  [(large, bed), room, (small, adult), (normal, ...   \n",
              "1  [heat, wave, room, (clean, bathroom), (large, ...   \n",
              "2  [chambre, (old, access), (silent, access), (sa...   \n",
              "3  [wife, daughter, nights, (great, location), di...   \n",
              "4  [room, (decent, size), windows, faclilities, n...   \n",
              "\n",
              "                                   review_body_clean  \n",
              "0   large bed given room singles small adult norm...  \n",
              "1   loved stay heat wave room decorated updated c...  \n",
              "2   chambre decorated smelled located old house s...  \n",
              "3   stayed wife daughter nights emphasise great l...  \n",
              "4   room decent size dualaspect windows coffeemak...  "
            ],
            "text/html": [
              "\n",
              "  <div id=\"df-1f93e173-e244-488d-b211-2577a3059b3e\">\n",
              "    <div class=\"colab-df-container\">\n",
              "      <div>\n",
              "<style scoped>\n",
              "    .dataframe tbody tr th:only-of-type {\n",
              "        vertical-align: middle;\n",
              "    }\n",
              "\n",
              "    .dataframe tbody tr th {\n",
              "        vertical-align: top;\n",
              "    }\n",
              "\n",
              "    .dataframe thead th {\n",
              "        text-align: right;\n",
              "    }\n",
              "</style>\n",
              "<table border=\"1\" class=\"dataframe\">\n",
              "  <thead>\n",
              "    <tr style=\"text-align: right;\">\n",
              "      <th></th>\n",
              "      <th>hotel_name</th>\n",
              "      <th>reviews</th>\n",
              "      <th>booking_provider</th>\n",
              "      <th>no_of_deals</th>\n",
              "      <th>price_value</th>\n",
              "      <th>topics</th>\n",
              "      <th>review_body_clean</th>\n",
              "    </tr>\n",
              "  </thead>\n",
              "  <tbody>\n",
              "    <tr>\n",
              "      <th>0</th>\n",
              "      <td>Novotel Paris Centre Gare Montparnasse</td>\n",
              "      <td>2313</td>\n",
              "      <td>1</td>\n",
              "      <td>11</td>\n",
              "      <td>225.0</td>\n",
              "      <td>[(large, bed), room, (small, adult), (normal, ...</td>\n",
              "      <td>large bed given room singles small adult norm...</td>\n",
              "    </tr>\n",
              "    <tr>\n",
              "      <th>1</th>\n",
              "      <td>Les3chambres</td>\n",
              "      <td>519</td>\n",
              "      <td>1</td>\n",
              "      <td>0</td>\n",
              "      <td>205.2</td>\n",
              "      <td>[heat, wave, room, (clean, bathroom), (large, ...</td>\n",
              "      <td>loved stay heat wave room decorated updated c...</td>\n",
              "    </tr>\n",
              "    <tr>\n",
              "      <th>2</th>\n",
              "      <td>La Chambre Parisienne</td>\n",
              "      <td>91</td>\n",
              "      <td>6</td>\n",
              "      <td>5</td>\n",
              "      <td>205.2</td>\n",
              "      <td>[chambre, (old, access), (silent, access), (sa...</td>\n",
              "      <td>chambre decorated smelled located old house s...</td>\n",
              "    </tr>\n",
              "    <tr>\n",
              "      <th>3</th>\n",
              "      <td>Hyatt Regency Paris Etoile</td>\n",
              "      <td>663</td>\n",
              "      <td>1</td>\n",
              "      <td>12</td>\n",
              "      <td>205.2</td>\n",
              "      <td>[wife, daughter, nights, (great, location), di...</td>\n",
              "      <td>stayed wife daughter nights emphasise great l...</td>\n",
              "    </tr>\n",
              "    <tr>\n",
              "      <th>4</th>\n",
              "      <td>Hotel Darcet</td>\n",
              "      <td>942</td>\n",
              "      <td>1</td>\n",
              "      <td>12</td>\n",
              "      <td>205.2</td>\n",
              "      <td>[room, (decent, size), windows, faclilities, n...</td>\n",
              "      <td>room decent size dualaspect windows coffeemak...</td>\n",
              "    </tr>\n",
              "  </tbody>\n",
              "</table>\n",
              "</div>\n",
              "      <button class=\"colab-df-convert\" onclick=\"convertToInteractive('df-1f93e173-e244-488d-b211-2577a3059b3e')\"\n",
              "              title=\"Convert this dataframe to an interactive table.\"\n",
              "              style=\"display:none;\">\n",
              "        \n",
              "  <svg xmlns=\"http://www.w3.org/2000/svg\" height=\"24px\"viewBox=\"0 0 24 24\"\n",
              "       width=\"24px\">\n",
              "    <path d=\"M0 0h24v24H0V0z\" fill=\"none\"/>\n",
              "    <path d=\"M18.56 5.44l.94 2.06.94-2.06 2.06-.94-2.06-.94-.94-2.06-.94 2.06-2.06.94zm-11 1L8.5 8.5l.94-2.06 2.06-.94-2.06-.94L8.5 2.5l-.94 2.06-2.06.94zm10 10l.94 2.06.94-2.06 2.06-.94-2.06-.94-.94-2.06-.94 2.06-2.06.94z\"/><path d=\"M17.41 7.96l-1.37-1.37c-.4-.4-.92-.59-1.43-.59-.52 0-1.04.2-1.43.59L10.3 9.45l-7.72 7.72c-.78.78-.78 2.05 0 2.83L4 21.41c.39.39.9.59 1.41.59.51 0 1.02-.2 1.41-.59l7.78-7.78 2.81-2.81c.8-.78.8-2.07 0-2.86zM5.41 20L4 18.59l7.72-7.72 1.47 1.35L5.41 20z\"/>\n",
              "  </svg>\n",
              "      </button>\n",
              "      \n",
              "  <style>\n",
              "    .colab-df-container {\n",
              "      display:flex;\n",
              "      flex-wrap:wrap;\n",
              "      gap: 12px;\n",
              "    }\n",
              "\n",
              "    .colab-df-convert {\n",
              "      background-color: #E8F0FE;\n",
              "      border: none;\n",
              "      border-radius: 50%;\n",
              "      cursor: pointer;\n",
              "      display: none;\n",
              "      fill: #1967D2;\n",
              "      height: 32px;\n",
              "      padding: 0 0 0 0;\n",
              "      width: 32px;\n",
              "    }\n",
              "\n",
              "    .colab-df-convert:hover {\n",
              "      background-color: #E2EBFA;\n",
              "      box-shadow: 0px 1px 2px rgba(60, 64, 67, 0.3), 0px 1px 3px 1px rgba(60, 64, 67, 0.15);\n",
              "      fill: #174EA6;\n",
              "    }\n",
              "\n",
              "    [theme=dark] .colab-df-convert {\n",
              "      background-color: #3B4455;\n",
              "      fill: #D2E3FC;\n",
              "    }\n",
              "\n",
              "    [theme=dark] .colab-df-convert:hover {\n",
              "      background-color: #434B5C;\n",
              "      box-shadow: 0px 1px 3px 1px rgba(0, 0, 0, 0.15);\n",
              "      filter: drop-shadow(0px 1px 2px rgba(0, 0, 0, 0.3));\n",
              "      fill: #FFFFFF;\n",
              "    }\n",
              "  </style>\n",
              "\n",
              "      <script>\n",
              "        const buttonEl =\n",
              "          document.querySelector('#df-1f93e173-e244-488d-b211-2577a3059b3e button.colab-df-convert');\n",
              "        buttonEl.style.display =\n",
              "          google.colab.kernel.accessAllowed ? 'block' : 'none';\n",
              "\n",
              "        async function convertToInteractive(key) {\n",
              "          const element = document.querySelector('#df-1f93e173-e244-488d-b211-2577a3059b3e');\n",
              "          const dataTable =\n",
              "            await google.colab.kernel.invokeFunction('convertToInteractive',\n",
              "                                                     [key], {});\n",
              "          if (!dataTable) return;\n",
              "\n",
              "          const docLinkHtml = 'Like what you see? Visit the ' +\n",
              "            '<a target=\"_blank\" href=https://colab.research.google.com/notebooks/data_table.ipynb>data table notebook</a>'\n",
              "            + ' to learn more about interactive tables.';\n",
              "          element.innerHTML = '';\n",
              "          dataTable['output_type'] = 'display_data';\n",
              "          await google.colab.output.renderOutput(dataTable, element);\n",
              "          const docLink = document.createElement('div');\n",
              "          docLink.innerHTML = docLinkHtml;\n",
              "          element.appendChild(docLink);\n",
              "        }\n",
              "      </script>\n",
              "    </div>\n",
              "  </div>\n",
              "  "
            ]
          },
          "metadata": {},
          "execution_count": 137
        }
      ]
    },
    {
      "cell_type": "code",
      "source": [
        "merged_df.shape"
      ],
      "metadata": {
        "id": "WOWVTbzBDMt-",
        "colab": {
          "base_uri": "https://localhost:8080/"
        },
        "outputId": "9369ecf2-961a-4be1-b0d5-85888993f8ee"
      },
      "execution_count": null,
      "outputs": [
        {
          "output_type": "execute_result",
          "data": {
            "text/plain": [
              "(30, 7)"
            ]
          },
          "metadata": {},
          "execution_count": 138
        }
      ]
    },
    {
      "cell_type": "markdown",
      "source": [
        "## Vectorization"
      ],
      "metadata": {
        "id": "jcvbTchBM8mB"
      }
    },
    {
      "cell_type": "markdown",
      "source": [
        "Convert the preprocessed text data into a numerical form that can be used for clustering.  We used TF-IDF vectorization or word embedding techniques like Word2Vec or GloVe to convert the text into a vector format."
      ],
      "metadata": {
        "id": "gOqBIrosM7F7"
      }
    },
    {
      "cell_type": "code",
      "source": [
        "# # create a TfidfVectorizer object\n",
        "\"\"\"\n",
        "max_features=1000 : only the top 1000 most frequent words will be included in the vocabulary.\n",
        "ngram_range=(1,2): both unigrams (single words) and bigrams (pairs of words) will be included.\n",
        "stop_words: sets the list of stop words to be removed from the documents.\n",
        "token_pattern: sets the regular expression used to tokenize the text.\"\"\"\n",
        "\n",
        "tfidf = TfidfVectorizer(max_features=1000, max_df=0.95, min_df=2, ngram_range=(1, 2), stop_words=list(stop_words), token_pattern=r'\\b\\w+\\b')\n",
        "\n",
        "# fit and transform the preprocessed text data to create a numerical representation\n",
        "reviews = merged_df['review_body_clean']\n",
        "X = tfidf.fit_transform(reviews)\n",
        "\n",
        "X.shape"
      ],
      "metadata": {
        "id": "SxSNYJ3dF_u2",
        "colab": {
          "base_uri": "https://localhost:8080/"
        },
        "outputId": "b460e20e-e72f-493f-85f5-108af2223553"
      },
      "execution_count": null,
      "outputs": [
        {
          "output_type": "execute_result",
          "data": {
            "text/plain": [
              "(30, 1000)"
            ]
          },
          "metadata": {},
          "execution_count": 139
        }
      ]
    },
    {
      "cell_type": "markdown",
      "source": [
        "## Dimensionality Reduction"
      ],
      "metadata": {
        "id": "KlGC-QpASfhc"
      }
    },
    {
      "cell_type": "markdown",
      "source": [
        "Vectorized data has a high dimensionality (30, 1871), we want to reduce the dimensionality to make clustering more efficient. One of the more popular dimensionality reduction techniques include Principal Component Analysis (PCA), so let's implement it."
      ],
      "metadata": {
        "id": "Ft_pdwFYSjcH"
      }
    },
    {
      "cell_type": "markdown",
      "source": [
        "###Calculate PCA"
      ],
      "metadata": {
        "id": "lLvHcZbaKKra"
      }
    },
    {
      "cell_type": "code",
      "source": [
        "from sklearn.decomposition import PCA\n",
        "\n",
        "# Instantiate a PCA object\n",
        "pca = PCA()\n",
        "\n",
        "# Fit and transform the data using PCA\n",
        "X_pca = pca.fit_transform(X.toarray())\n",
        "\n",
        "pca.fit(X_pca)\n",
        "# data"
      ],
      "metadata": {
        "id": "vFWGIQY2_sBf",
        "colab": {
          "base_uri": "https://localhost:8080/",
          "height": 75
        },
        "outputId": "5d39c883-4f38-4479-d310-5b382807be16"
      },
      "execution_count": null,
      "outputs": [
        {
          "output_type": "execute_result",
          "data": {
            "text/plain": [
              "PCA()"
            ],
            "text/html": [
              "<style>#sk-container-id-2 {color: black;background-color: white;}#sk-container-id-2 pre{padding: 0;}#sk-container-id-2 div.sk-toggleable {background-color: white;}#sk-container-id-2 label.sk-toggleable__label {cursor: pointer;display: block;width: 100%;margin-bottom: 0;padding: 0.3em;box-sizing: border-box;text-align: center;}#sk-container-id-2 label.sk-toggleable__label-arrow:before {content: \"▸\";float: left;margin-right: 0.25em;color: #696969;}#sk-container-id-2 label.sk-toggleable__label-arrow:hover:before {color: black;}#sk-container-id-2 div.sk-estimator:hover label.sk-toggleable__label-arrow:before {color: black;}#sk-container-id-2 div.sk-toggleable__content {max-height: 0;max-width: 0;overflow: hidden;text-align: left;background-color: #f0f8ff;}#sk-container-id-2 div.sk-toggleable__content pre {margin: 0.2em;color: black;border-radius: 0.25em;background-color: #f0f8ff;}#sk-container-id-2 input.sk-toggleable__control:checked~div.sk-toggleable__content {max-height: 200px;max-width: 100%;overflow: auto;}#sk-container-id-2 input.sk-toggleable__control:checked~label.sk-toggleable__label-arrow:before {content: \"▾\";}#sk-container-id-2 div.sk-estimator input.sk-toggleable__control:checked~label.sk-toggleable__label {background-color: #d4ebff;}#sk-container-id-2 div.sk-label input.sk-toggleable__control:checked~label.sk-toggleable__label {background-color: #d4ebff;}#sk-container-id-2 input.sk-hidden--visually {border: 0;clip: rect(1px 1px 1px 1px);clip: rect(1px, 1px, 1px, 1px);height: 1px;margin: -1px;overflow: hidden;padding: 0;position: absolute;width: 1px;}#sk-container-id-2 div.sk-estimator {font-family: monospace;background-color: #f0f8ff;border: 1px dotted black;border-radius: 0.25em;box-sizing: border-box;margin-bottom: 0.5em;}#sk-container-id-2 div.sk-estimator:hover {background-color: #d4ebff;}#sk-container-id-2 div.sk-parallel-item::after {content: \"\";width: 100%;border-bottom: 1px solid gray;flex-grow: 1;}#sk-container-id-2 div.sk-label:hover label.sk-toggleable__label {background-color: #d4ebff;}#sk-container-id-2 div.sk-serial::before {content: \"\";position: absolute;border-left: 1px solid gray;box-sizing: border-box;top: 0;bottom: 0;left: 50%;z-index: 0;}#sk-container-id-2 div.sk-serial {display: flex;flex-direction: column;align-items: center;background-color: white;padding-right: 0.2em;padding-left: 0.2em;position: relative;}#sk-container-id-2 div.sk-item {position: relative;z-index: 1;}#sk-container-id-2 div.sk-parallel {display: flex;align-items: stretch;justify-content: center;background-color: white;position: relative;}#sk-container-id-2 div.sk-item::before, #sk-container-id-2 div.sk-parallel-item::before {content: \"\";position: absolute;border-left: 1px solid gray;box-sizing: border-box;top: 0;bottom: 0;left: 50%;z-index: -1;}#sk-container-id-2 div.sk-parallel-item {display: flex;flex-direction: column;z-index: 1;position: relative;background-color: white;}#sk-container-id-2 div.sk-parallel-item:first-child::after {align-self: flex-end;width: 50%;}#sk-container-id-2 div.sk-parallel-item:last-child::after {align-self: flex-start;width: 50%;}#sk-container-id-2 div.sk-parallel-item:only-child::after {width: 0;}#sk-container-id-2 div.sk-dashed-wrapped {border: 1px dashed gray;margin: 0 0.4em 0.5em 0.4em;box-sizing: border-box;padding-bottom: 0.4em;background-color: white;}#sk-container-id-2 div.sk-label label {font-family: monospace;font-weight: bold;display: inline-block;line-height: 1.2em;}#sk-container-id-2 div.sk-label-container {text-align: center;}#sk-container-id-2 div.sk-container {/* jupyter's `normalize.less` sets `[hidden] { display: none; }` but bootstrap.min.css set `[hidden] { display: none !important; }` so we also need the `!important` here to be able to override the default hidden behavior on the sphinx rendered scikit-learn.org. See: https://github.com/scikit-learn/scikit-learn/issues/21755 */display: inline-block !important;position: relative;}#sk-container-id-2 div.sk-text-repr-fallback {display: none;}</style><div id=\"sk-container-id-2\" class=\"sk-top-container\"><div class=\"sk-text-repr-fallback\"><pre>PCA()</pre><b>In a Jupyter environment, please rerun this cell to show the HTML representation or trust the notebook. <br />On GitHub, the HTML representation is unable to render, please try loading this page with nbviewer.org.</b></div><div class=\"sk-container\" hidden><div class=\"sk-item\"><div class=\"sk-estimator sk-toggleable\"><input class=\"sk-toggleable__control sk-hidden--visually\" id=\"sk-estimator-id-2\" type=\"checkbox\" checked><label for=\"sk-estimator-id-2\" class=\"sk-toggleable__label sk-toggleable__label-arrow\">PCA</label><div class=\"sk-toggleable__content\"><pre>PCA()</pre></div></div></div></div></div>"
            ]
          },
          "metadata": {},
          "execution_count": 140
        }
      ]
    },
    {
      "cell_type": "markdown",
      "source": [
        "**Plot and check the variance of the components:**\n",
        "\n",
        "We need to decide how many features we’d like to keep based on the cumulative variance plot."
      ],
      "metadata": {
        "id": "cqKF_v1H_9sf"
      }
    },
    {
      "cell_type": "code",
      "source": [
        "var = np.round(pca.explained_variance_ratio_*100, decimals = 2)\n",
        "pd.DataFrame(var).head()"
      ],
      "metadata": {
        "id": "bMjpwb8DGp1q",
        "colab": {
          "base_uri": "https://localhost:8080/",
          "height": 206
        },
        "outputId": "29143bb1-5b41-40a9-da19-5569640d8d78"
      },
      "execution_count": null,
      "outputs": [
        {
          "output_type": "execute_result",
          "data": {
            "text/plain": [
              "       0\n",
              "0  13.53\n",
              "1   6.59\n",
              "2   5.80\n",
              "3   5.09\n",
              "4   4.95"
            ],
            "text/html": [
              "\n",
              "  <div id=\"df-e1943dfa-6f77-4511-8d83-554750cba21a\">\n",
              "    <div class=\"colab-df-container\">\n",
              "      <div>\n",
              "<style scoped>\n",
              "    .dataframe tbody tr th:only-of-type {\n",
              "        vertical-align: middle;\n",
              "    }\n",
              "\n",
              "    .dataframe tbody tr th {\n",
              "        vertical-align: top;\n",
              "    }\n",
              "\n",
              "    .dataframe thead th {\n",
              "        text-align: right;\n",
              "    }\n",
              "</style>\n",
              "<table border=\"1\" class=\"dataframe\">\n",
              "  <thead>\n",
              "    <tr style=\"text-align: right;\">\n",
              "      <th></th>\n",
              "      <th>0</th>\n",
              "    </tr>\n",
              "  </thead>\n",
              "  <tbody>\n",
              "    <tr>\n",
              "      <th>0</th>\n",
              "      <td>13.53</td>\n",
              "    </tr>\n",
              "    <tr>\n",
              "      <th>1</th>\n",
              "      <td>6.59</td>\n",
              "    </tr>\n",
              "    <tr>\n",
              "      <th>2</th>\n",
              "      <td>5.80</td>\n",
              "    </tr>\n",
              "    <tr>\n",
              "      <th>3</th>\n",
              "      <td>5.09</td>\n",
              "    </tr>\n",
              "    <tr>\n",
              "      <th>4</th>\n",
              "      <td>4.95</td>\n",
              "    </tr>\n",
              "  </tbody>\n",
              "</table>\n",
              "</div>\n",
              "      <button class=\"colab-df-convert\" onclick=\"convertToInteractive('df-e1943dfa-6f77-4511-8d83-554750cba21a')\"\n",
              "              title=\"Convert this dataframe to an interactive table.\"\n",
              "              style=\"display:none;\">\n",
              "        \n",
              "  <svg xmlns=\"http://www.w3.org/2000/svg\" height=\"24px\"viewBox=\"0 0 24 24\"\n",
              "       width=\"24px\">\n",
              "    <path d=\"M0 0h24v24H0V0z\" fill=\"none\"/>\n",
              "    <path d=\"M18.56 5.44l.94 2.06.94-2.06 2.06-.94-2.06-.94-.94-2.06-.94 2.06-2.06.94zm-11 1L8.5 8.5l.94-2.06 2.06-.94-2.06-.94L8.5 2.5l-.94 2.06-2.06.94zm10 10l.94 2.06.94-2.06 2.06-.94-2.06-.94-.94-2.06-.94 2.06-2.06.94z\"/><path d=\"M17.41 7.96l-1.37-1.37c-.4-.4-.92-.59-1.43-.59-.52 0-1.04.2-1.43.59L10.3 9.45l-7.72 7.72c-.78.78-.78 2.05 0 2.83L4 21.41c.39.39.9.59 1.41.59.51 0 1.02-.2 1.41-.59l7.78-7.78 2.81-2.81c.8-.78.8-2.07 0-2.86zM5.41 20L4 18.59l7.72-7.72 1.47 1.35L5.41 20z\"/>\n",
              "  </svg>\n",
              "      </button>\n",
              "      \n",
              "  <style>\n",
              "    .colab-df-container {\n",
              "      display:flex;\n",
              "      flex-wrap:wrap;\n",
              "      gap: 12px;\n",
              "    }\n",
              "\n",
              "    .colab-df-convert {\n",
              "      background-color: #E8F0FE;\n",
              "      border: none;\n",
              "      border-radius: 50%;\n",
              "      cursor: pointer;\n",
              "      display: none;\n",
              "      fill: #1967D2;\n",
              "      height: 32px;\n",
              "      padding: 0 0 0 0;\n",
              "      width: 32px;\n",
              "    }\n",
              "\n",
              "    .colab-df-convert:hover {\n",
              "      background-color: #E2EBFA;\n",
              "      box-shadow: 0px 1px 2px rgba(60, 64, 67, 0.3), 0px 1px 3px 1px rgba(60, 64, 67, 0.15);\n",
              "      fill: #174EA6;\n",
              "    }\n",
              "\n",
              "    [theme=dark] .colab-df-convert {\n",
              "      background-color: #3B4455;\n",
              "      fill: #D2E3FC;\n",
              "    }\n",
              "\n",
              "    [theme=dark] .colab-df-convert:hover {\n",
              "      background-color: #434B5C;\n",
              "      box-shadow: 0px 1px 3px 1px rgba(0, 0, 0, 0.15);\n",
              "      filter: drop-shadow(0px 1px 2px rgba(0, 0, 0, 0.3));\n",
              "      fill: #FFFFFF;\n",
              "    }\n",
              "  </style>\n",
              "\n",
              "      <script>\n",
              "        const buttonEl =\n",
              "          document.querySelector('#df-e1943dfa-6f77-4511-8d83-554750cba21a button.colab-df-convert');\n",
              "        buttonEl.style.display =\n",
              "          google.colab.kernel.accessAllowed ? 'block' : 'none';\n",
              "\n",
              "        async function convertToInteractive(key) {\n",
              "          const element = document.querySelector('#df-e1943dfa-6f77-4511-8d83-554750cba21a');\n",
              "          const dataTable =\n",
              "            await google.colab.kernel.invokeFunction('convertToInteractive',\n",
              "                                                     [key], {});\n",
              "          if (!dataTable) return;\n",
              "\n",
              "          const docLinkHtml = 'Like what you see? Visit the ' +\n",
              "            '<a target=\"_blank\" href=https://colab.research.google.com/notebooks/data_table.ipynb>data table notebook</a>'\n",
              "            + ' to learn more about interactive tables.';\n",
              "          element.innerHTML = '';\n",
              "          dataTable['output_type'] = 'display_data';\n",
              "          await google.colab.output.renderOutput(dataTable, element);\n",
              "          const docLink = document.createElement('div');\n",
              "          docLink.innerHTML = docLinkHtml;\n",
              "          element.appendChild(docLink);\n",
              "        }\n",
              "      </script>\n",
              "    </div>\n",
              "  </div>\n",
              "  "
            ]
          },
          "metadata": {},
          "execution_count": 141
        }
      ]
    },
    {
      "cell_type": "code",
      "source": [
        "plt.figure(figsize=(20,5))\n",
        "plt.plot(range(1,len(var)+1), var,'bx-')\n",
        "plt.xticks(range(1,len(var)+1))\n",
        "plt.xlabel(\"number of components\")\n",
        "plt.ylabel(\"Variance\")\n",
        "plt.title('Cumulative Explained Varience by components')\n",
        "plt.show()"
      ],
      "metadata": {
        "id": "EI_sQqhSADM6",
        "colab": {
          "base_uri": "https://localhost:8080/",
          "height": 350
        },
        "outputId": "430ed001-1fab-4f8d-fc73-fbe4436f2701"
      },
      "execution_count": null,
      "outputs": [
        {
          "output_type": "display_data",
          "data": {
            "text/plain": [
              "<Figure size 1440x360 with 1 Axes>"
            ],
            "image/png": "[encoded data removed]"
          },
          "metadata": {}
        }
      ]
    },
    {
      "cell_type": "markdown",
      "source": [
        "This graph shows the amount of variance captured (on the y-axis) depending on the number of components we include (the x-axis). A rule of thumb is to preserve around 75% to 80% of the variance. So, in this instance, we decide to keep 2 components."
      ],
      "metadata": {
        "id": "HoHlijpWCKT_"
      }
    },
    {
      "cell_type": "markdown",
      "source": [
        "### Perform PCA with the chosen number of components.(2)"
      ],
      "metadata": {
        "id": "aeEnUsTRI2qw"
      }
    },
    {
      "cell_type": "code",
      "source": [
        "pca = PCA(n_components=2)\n",
        "pca.fit(X_pca)\n",
        "scores_pca = pca.transform(X_pca)\n",
        "pd.DataFrame(scores_pca).head()"
      ],
      "metadata": {
        "id": "PNx1az99IVkG",
        "colab": {
          "base_uri": "https://localhost:8080/",
          "height": 206
        },
        "outputId": "981efdc8-4708-4467-cf4c-5c0dcdabe412"
      },
      "execution_count": null,
      "outputs": [
        {
          "output_type": "execute_result",
          "data": {
            "text/plain": [
              "          0         1\n",
              "0 -0.127589  0.036587\n",
              "1  0.714331 -0.083448\n",
              "2  0.749773 -0.190158\n",
              "3 -0.114429  0.175346\n",
              "4 -0.165469 -0.130369"
            ],
            "text/html": [
              "\n",
              "  <div id=\"df-54bfce46-680e-402c-a578-7385dbb3a409\">\n",
              "    <div class=\"colab-df-container\">\n",
              "      <div>\n",
              "<style scoped>\n",
              "    .dataframe tbody tr th:only-of-type {\n",
              "        vertical-align: middle;\n",
              "    }\n",
              "\n",
              "    .dataframe tbody tr th {\n",
              "        vertical-align: top;\n",
              "    }\n",
              "\n",
              "    .dataframe thead th {\n",
              "        text-align: right;\n",
              "    }\n",
              "</style>\n",
              "<table border=\"1\" class=\"dataframe\">\n",
              "  <thead>\n",
              "    <tr style=\"text-align: right;\">\n",
              "      <th></th>\n",
              "      <th>0</th>\n",
              "      <th>1</th>\n",
              "    </tr>\n",
              "  </thead>\n",
              "  <tbody>\n",
              "    <tr>\n",
              "      <th>0</th>\n",
              "      <td>-0.127589</td>\n",
              "      <td>0.036587</td>\n",
              "    </tr>\n",
              "    <tr>\n",
              "      <th>1</th>\n",
              "      <td>0.714331</td>\n",
              "      <td>-0.083448</td>\n",
              "    </tr>\n",
              "    <tr>\n",
              "      <th>2</th>\n",
              "      <td>0.749773</td>\n",
              "      <td>-0.190158</td>\n",
              "    </tr>\n",
              "    <tr>\n",
              "      <th>3</th>\n",
              "      <td>-0.114429</td>\n",
              "      <td>0.175346</td>\n",
              "    </tr>\n",
              "    <tr>\n",
              "      <th>4</th>\n",
              "      <td>-0.165469</td>\n",
              "      <td>-0.130369</td>\n",
              "    </tr>\n",
              "  </tbody>\n",
              "</table>\n",
              "</div>\n",
              "      <button class=\"colab-df-convert\" onclick=\"convertToInteractive('df-54bfce46-680e-402c-a578-7385dbb3a409')\"\n",
              "              title=\"Convert this dataframe to an interactive table.\"\n",
              "              style=\"display:none;\">\n",
              "        \n",
              "  <svg xmlns=\"http://www.w3.org/2000/svg\" height=\"24px\"viewBox=\"0 0 24 24\"\n",
              "       width=\"24px\">\n",
              "    <path d=\"M0 0h24v24H0V0z\" fill=\"none\"/>\n",
              "    <path d=\"M18.56 5.44l.94 2.06.94-2.06 2.06-.94-2.06-.94-.94-2.06-.94 2.06-2.06.94zm-11 1L8.5 8.5l.94-2.06 2.06-.94-2.06-.94L8.5 2.5l-.94 2.06-2.06.94zm10 10l.94 2.06.94-2.06 2.06-.94-2.06-.94-.94-2.06-.94 2.06-2.06.94z\"/><path d=\"M17.41 7.96l-1.37-1.37c-.4-.4-.92-.59-1.43-.59-.52 0-1.04.2-1.43.59L10.3 9.45l-7.72 7.72c-.78.78-.78 2.05 0 2.83L4 21.41c.39.39.9.59 1.41.59.51 0 1.02-.2 1.41-.59l7.78-7.78 2.81-2.81c.8-.78.8-2.07 0-2.86zM5.41 20L4 18.59l7.72-7.72 1.47 1.35L5.41 20z\"/>\n",
              "  </svg>\n",
              "      </button>\n",
              "      \n",
              "  <style>\n",
              "    .colab-df-container {\n",
              "      display:flex;\n",
              "      flex-wrap:wrap;\n",
              "      gap: 12px;\n",
              "    }\n",
              "\n",
              "    .colab-df-convert {\n",
              "      background-color: #E8F0FE;\n",
              "      border: none;\n",
              "      border-radius: 50%;\n",
              "      cursor: pointer;\n",
              "      display: none;\n",
              "      fill: #1967D2;\n",
              "      height: 32px;\n",
              "      padding: 0 0 0 0;\n",
              "      width: 32px;\n",
              "    }\n",
              "\n",
              "    .colab-df-convert:hover {\n",
              "      background-color: #E2EBFA;\n",
              "      box-shadow: 0px 1px 2px rgba(60, 64, 67, 0.3), 0px 1px 3px 1px rgba(60, 64, 67, 0.15);\n",
              "      fill: #174EA6;\n",
              "    }\n",
              "\n",
              "    [theme=dark] .colab-df-convert {\n",
              "      background-color: #3B4455;\n",
              "      fill: #D2E3FC;\n",
              "    }\n",
              "\n",
              "    [theme=dark] .colab-df-convert:hover {\n",
              "      background-color: #434B5C;\n",
              "      box-shadow: 0px 1px 3px 1px rgba(0, 0, 0, 0.15);\n",
              "      filter: drop-shadow(0px 1px 2px rgba(0, 0, 0, 0.3));\n",
              "      fill: #FFFFFF;\n",
              "    }\n",
              "  </style>\n",
              "\n",
              "      <script>\n",
              "        const buttonEl =\n",
              "          document.querySelector('#df-54bfce46-680e-402c-a578-7385dbb3a409 button.colab-df-convert');\n",
              "        buttonEl.style.display =\n",
              "          google.colab.kernel.accessAllowed ? 'block' : 'none';\n",
              "\n",
              "        async function convertToInteractive(key) {\n",
              "          const element = document.querySelector('#df-54bfce46-680e-402c-a578-7385dbb3a409');\n",
              "          const dataTable =\n",
              "            await google.colab.kernel.invokeFunction('convertToInteractive',\n",
              "                                                     [key], {});\n",
              "          if (!dataTable) return;\n",
              "\n",
              "          const docLinkHtml = 'Like what you see? Visit the ' +\n",
              "            '<a target=\"_blank\" href=https://colab.research.google.com/notebooks/data_table.ipynb>data table notebook</a>'\n",
              "            + ' to learn more about interactive tables.';\n",
              "          element.innerHTML = '';\n",
              "          dataTable['output_type'] = 'display_data';\n",
              "          await google.colab.output.renderOutput(dataTable, element);\n",
              "          const docLink = document.createElement('div');\n",
              "          docLink.innerHTML = docLinkHtml;\n",
              "          element.appendChild(docLink);\n",
              "        }\n",
              "      </script>\n",
              "    </div>\n",
              "  </div>\n",
              "  "
            ]
          },
          "metadata": {},
          "execution_count": 143
        }
      ]
    },
    {
      "cell_type": "markdown",
      "source": [
        "We’ll incorporate the newly obtained PCA scores in the clustering algorithm. That's how we can perform segmentation based on principal components scores instead of the original features."
      ],
      "metadata": {
        "id": "9ADcqJE3Jn2_"
      }
    },
    {
      "cell_type": "markdown",
      "source": [
        "## Clustering algorithm - k-means"
      ],
      "metadata": {
        "id": "CXhZ0kxKA-tg"
      }
    },
    {
      "cell_type": "markdown",
      "source": [
        "An appropriate clustering algorithm for this task could be k-means, depending on the size of the dataset and the desired level of granularity in the clusters."
      ],
      "metadata": {
        "id": "OUpCOYgDnAz5"
      }
    },
    {
      "cell_type": "markdown",
      "source": [
        "### Find K in Kmeans\n",
        "Find the Optimal Number of Clusters from PCA calculated.\n",
        "We iterate the values of k from 1 to 10 and calculate the values of distortions for each value of k and calculate the distortion and inertia for each value of k in the given range."
      ],
      "metadata": {
        "id": "RrrfoBR9Kpbn"
      }
    },
    {
      "cell_type": "code",
      "source": [
        "from scipy.spatial.distance import cdist\n",
        "\n",
        "K = range(1, 11)\n",
        "inertias = []\n",
        "distortions = []\n",
        "distortion_map = {}\n",
        "inertia_map = {}\n",
        "\n",
        "#create list to hold inertias values for each k(number of clusters)\n",
        "# The one with the lowest inertias can be chosen to be number of clusters\n",
        "\n",
        "for k in K:\n",
        "\t# Building and fitting the model\n",
        "    kmeanModel_pca = KMeans(n_clusters=k)\n",
        "    kmeanModel_pca.fit(scores_pca)\n",
        "    inertias.append(kmeanModel_pca.inertia_)\n",
        "    distortions.append(sum(np.min(cdist(scores_pca, kmeanModel_pca.cluster_centers_,\n",
        "\t\t\t\t\t\t\t\t\t\t'euclidean'), axis=1)) / scores_pca.shape[0])\n",
        "    distortion_map[k] = sum(np.min(cdist(scores_pca, kmeanModel_pca.cluster_centers_,\n",
        "                                   'euclidean'), axis=1)) / scores_pca.shape[0]\n",
        "    inertia_map[k] = kmeanModel_pca.inertia_\n"
      ],
      "metadata": {
        "id": "FaksFHUhKpbt"
      },
      "execution_count": null,
      "outputs": []
    },
    {
      "cell_type": "markdown",
      "source": [
        "**Visualize results with Inertia~ Intra-cluster Distances**"
      ],
      "metadata": {
        "id": "8jGgs_eqKpbt"
      }
    },
    {
      "cell_type": "code",
      "source": [
        "for key, val in inertia_map.items():\n",
        "\tprint(f'{key} : {val}')"
      ],
      "metadata": {
        "id": "NUWvBWdKKpbt",
        "colab": {
          "base_uri": "https://localhost:8080/"
        },
        "outputId": "dbe2f8ba-863b-4fa6-932b-e177eb523ab6"
      },
      "execution_count": null,
      "outputs": [
        {
          "output_type": "stream",
          "name": "stdout",
          "text": [
            "1 : 3.416140990305773\n",
            "2 : 1.4329573972185292\n",
            "3 : 0.6142583198620086\n",
            "4 : 0.31852982790155154\n",
            "5 : 0.21619542389906277\n",
            "6 : 0.1401592748395592\n",
            "7 : 0.10621252956049063\n",
            "8 : 0.08271447669700868\n",
            "9 : 0.0647893591468883\n",
            "10 : 0.05198119875491592\n"
          ]
        }
      ]
    },
    {
      "cell_type": "code",
      "source": [
        "#visualize results\n",
        "plt.plot(K, inertias, 'bx-')\n",
        "plt.xticks(K)\n",
        "plt.xlabel(\"k = Number of Clusters\")\n",
        "plt.ylabel(\"Inertia or SSE\")\n",
        "plt.title('The Elbow Method using Inertia with PCA')\n",
        "plt.show()"
      ],
      "metadata": {
        "id": "AIzFM5jdKpbt",
        "colab": {
          "base_uri": "https://localhost:8080/",
          "height": 295
        },
        "outputId": "83af360a-3a0b-4dfe-bc76-b2b2eacafa7c"
      },
      "execution_count": null,
      "outputs": [
        {
          "output_type": "display_data",
          "data": {
            "text/plain": [
              "<Figure size 432x288 with 1 Axes>"
            ],
            "image/png": "[encoded data removed]"
          },
          "metadata": {}
        }
      ]
    },
    {
      "cell_type": "markdown",
      "source": [
        "**Visualize results with Distortions~Inter-cluster Distances**"
      ],
      "metadata": {
        "id": "0tZRX822Kpbt"
      }
    },
    {
      "cell_type": "code",
      "source": [
        "for key, val in distortion_map.items():\n",
        "\tprint(f'{key} : {val}')"
      ],
      "metadata": {
        "id": "Jr9npm0_Kpbt",
        "colab": {
          "base_uri": "https://localhost:8080/"
        },
        "outputId": "45979834-a0a2-4a1e-9a1a-02f24a1a7522"
      },
      "execution_count": null,
      "outputs": [
        {
          "output_type": "stream",
          "name": "stdout",
          "text": [
            "1 : 0.2580262127754985\n",
            "2 : 0.15884746558651275\n",
            "3 : 0.11813189193338264\n",
            "4 : 0.08648069887448309\n",
            "5 : 0.07239255156092085\n",
            "6 : 0.057967990740666074\n",
            "7 : 0.04940932904108542\n",
            "8 : 0.0443319013237968\n",
            "9 : 0.038950903522016696\n",
            "10 : 0.03482459127764233\n"
          ]
        }
      ]
    },
    {
      "cell_type": "code",
      "source": [
        "#visualize results\n",
        "plt.plot(K, distortions, 'bx-')\n",
        "plt.xticks(K)\n",
        "plt.xlabel(\"k = Number of Clusters\")\n",
        "plt.ylabel(\"Inertia or SSE\")\n",
        "plt.title('The Elbow Method using Distortions with PCA')\n",
        "plt.show()"
      ],
      "metadata": {
        "id": "gL1K5_UfKpbt",
        "colab": {
          "base_uri": "https://localhost:8080/",
          "height": 295
        },
        "outputId": "512824d5-b270-4726-c179-77ef823c46ee"
      },
      "execution_count": null,
      "outputs": [
        {
          "output_type": "display_data",
          "data": {
            "text/plain": [
              "<Figure size 432x288 with 1 Axes>"
            ],
            "image/png": "[encoded data removed]"
          },
          "metadata": {}
        }
      ]
    },
    {
      "cell_type": "markdown",
      "source": [
        "To determine the optimal number of clusters, we have to select the value of k at the “elbow” i.e the point after which the distortion/inertia start decreasing in a linear fashion. Thus for the given data, we conclude that the optimal number of clusters is 3."
      ],
      "metadata": {
        "id": "osW0NBbKKpbt"
      }
    },
    {
      "cell_type": "code",
      "source": [
        "num_clusters = 3"
      ],
      "metadata": {
        "id": "tUSYH1yxhNPC"
      },
      "execution_count": null,
      "outputs": []
    },
    {
      "cell_type": "markdown",
      "source": [
        "### Perform K-Means Clustering using Optimal K(3)\n"
      ],
      "metadata": {
        "id": "b4IIkMTjKpbt"
      }
    },
    {
      "cell_type": "code",
      "source": [
        "#instantiate the k-means class, using optimal number of clusters\n",
        "kmeanModel_pca = KMeans( n_clusters=num_clusters, random_state=42)\n",
        "\n",
        "# We are going to use the fit predict method that returns for each observation \n",
        "# which cluster it belongs to.\n",
        "kmeanModel_pca = kmeanModel_pca.fit(scores_pca)\n",
        "cluster_labels = kmeanModel_pca.fit_predict(scores_pca)\n",
        "\n",
        "#view cluster assignments for each observation\n",
        "kmeanModel_pca.labels_ += 1\n",
        "kmeanModel_pca.labels_"
      ],
      "metadata": {
        "id": "gw8qtGpQKpbu",
        "colab": {
          "base_uri": "https://localhost:8080/"
        },
        "outputId": "cfedfd97-70f5-46fd-e77c-59950c435b44"
      },
      "execution_count": null,
      "outputs": [
        {
          "output_type": "execute_result",
          "data": {
            "text/plain": [
              "array([1, 2, 2, 1, 1, 1, 1, 1, 1, 3, 1, 1, 1, 1, 1, 1, 2, 1, 1, 1, 1, 1,\n",
              "       1, 2, 1, 1, 1, 1, 1, 1], dtype=int32)"
            ]
          },
          "metadata": {},
          "execution_count": 150
        }
      ]
    },
    {
      "cell_type": "markdown",
      "source": [
        "### Evaluate performance"
      ],
      "metadata": {
        "id": "mpBYdGYdHjSD"
      }
    },
    {
      "cell_type": "markdown",
      "source": [
        "####Centroid coordinates"
      ],
      "metadata": {
        "id": "FQ03ePNBkM_g"
      }
    },
    {
      "cell_type": "code",
      "source": [
        "#coordinates of the centroid of each cluster obtained through the KMeans clustering \n",
        "#same number of columns as the number of features used in the clustering\n",
        "pd.DataFrame(kmeanModel_pca.cluster_centers_)"
      ],
      "metadata": {
        "id": "QhPDoVuDj7am",
        "colab": {
          "base_uri": "https://localhost:8080/",
          "height": 143
        },
        "outputId": "c69fbe5d-d4d2-4575-9775-2486ab14adec"
      },
      "execution_count": null,
      "outputs": [
        {
          "output_type": "execute_result",
          "data": {
            "text/plain": [
              "          0         1\n",
              "0 -0.114934 -0.003361\n",
              "1  0.627652 -0.178459\n",
              "2  0.362753  0.797861"
            ],
            "text/html": [
              "\n",
              "  <div id=\"df-a621914a-5b01-4c75-a80e-adbfd7b02da4\">\n",
              "    <div class=\"colab-df-container\">\n",
              "      <div>\n",
              "<style scoped>\n",
              "    .dataframe tbody tr th:only-of-type {\n",
              "        vertical-align: middle;\n",
              "    }\n",
              "\n",
              "    .dataframe tbody tr th {\n",
              "        vertical-align: top;\n",
              "    }\n",
              "\n",
              "    .dataframe thead th {\n",
              "        text-align: right;\n",
              "    }\n",
              "</style>\n",
              "<table border=\"1\" class=\"dataframe\">\n",
              "  <thead>\n",
              "    <tr style=\"text-align: right;\">\n",
              "      <th></th>\n",
              "      <th>0</th>\n",
              "      <th>1</th>\n",
              "    </tr>\n",
              "  </thead>\n",
              "  <tbody>\n",
              "    <tr>\n",
              "      <th>0</th>\n",
              "      <td>-0.114934</td>\n",
              "      <td>-0.003361</td>\n",
              "    </tr>\n",
              "    <tr>\n",
              "      <th>1</th>\n",
              "      <td>0.627652</td>\n",
              "      <td>-0.178459</td>\n",
              "    </tr>\n",
              "    <tr>\n",
              "      <th>2</th>\n",
              "      <td>0.362753</td>\n",
              "      <td>0.797861</td>\n",
              "    </tr>\n",
              "  </tbody>\n",
              "</table>\n",
              "</div>\n",
              "      <button class=\"colab-df-convert\" onclick=\"convertToInteractive('df-a621914a-5b01-4c75-a80e-adbfd7b02da4')\"\n",
              "              title=\"Convert this dataframe to an interactive table.\"\n",
              "              style=\"display:none;\">\n",
              "        \n",
              "  <svg xmlns=\"http://www.w3.org/2000/svg\" height=\"24px\"viewBox=\"0 0 24 24\"\n",
              "       width=\"24px\">\n",
              "    <path d=\"M0 0h24v24H0V0z\" fill=\"none\"/>\n",
              "    <path d=\"M18.56 5.44l.94 2.06.94-2.06 2.06-.94-2.06-.94-.94-2.06-.94 2.06-2.06.94zm-11 1L8.5 8.5l.94-2.06 2.06-.94-2.06-.94L8.5 2.5l-.94 2.06-2.06.94zm10 10l.94 2.06.94-2.06 2.06-.94-2.06-.94-.94-2.06-.94 2.06-2.06.94z\"/><path d=\"M17.41 7.96l-1.37-1.37c-.4-.4-.92-.59-1.43-.59-.52 0-1.04.2-1.43.59L10.3 9.45l-7.72 7.72c-.78.78-.78 2.05 0 2.83L4 21.41c.39.39.9.59 1.41.59.51 0 1.02-.2 1.41-.59l7.78-7.78 2.81-2.81c.8-.78.8-2.07 0-2.86zM5.41 20L4 18.59l7.72-7.72 1.47 1.35L5.41 20z\"/>\n",
              "  </svg>\n",
              "      </button>\n",
              "      \n",
              "  <style>\n",
              "    .colab-df-container {\n",
              "      display:flex;\n",
              "      flex-wrap:wrap;\n",
              "      gap: 12px;\n",
              "    }\n",
              "\n",
              "    .colab-df-convert {\n",
              "      background-color: #E8F0FE;\n",
              "      border: none;\n",
              "      border-radius: 50%;\n",
              "      cursor: pointer;\n",
              "      display: none;\n",
              "      fill: #1967D2;\n",
              "      height: 32px;\n",
              "      padding: 0 0 0 0;\n",
              "      width: 32px;\n",
              "    }\n",
              "\n",
              "    .colab-df-convert:hover {\n",
              "      background-color: #E2EBFA;\n",
              "      box-shadow: 0px 1px 2px rgba(60, 64, 67, 0.3), 0px 1px 3px 1px rgba(60, 64, 67, 0.15);\n",
              "      fill: #174EA6;\n",
              "    }\n",
              "\n",
              "    [theme=dark] .colab-df-convert {\n",
              "      background-color: #3B4455;\n",
              "      fill: #D2E3FC;\n",
              "    }\n",
              "\n",
              "    [theme=dark] .colab-df-convert:hover {\n",
              "      background-color: #434B5C;\n",
              "      box-shadow: 0px 1px 3px 1px rgba(0, 0, 0, 0.15);\n",
              "      filter: drop-shadow(0px 1px 2px rgba(0, 0, 0, 0.3));\n",
              "      fill: #FFFFFF;\n",
              "    }\n",
              "  </style>\n",
              "\n",
              "      <script>\n",
              "        const buttonEl =\n",
              "          document.querySelector('#df-a621914a-5b01-4c75-a80e-adbfd7b02da4 button.colab-df-convert');\n",
              "        buttonEl.style.display =\n",
              "          google.colab.kernel.accessAllowed ? 'block' : 'none';\n",
              "\n",
              "        async function convertToInteractive(key) {\n",
              "          const element = document.querySelector('#df-a621914a-5b01-4c75-a80e-adbfd7b02da4');\n",
              "          const dataTable =\n",
              "            await google.colab.kernel.invokeFunction('convertToInteractive',\n",
              "                                                     [key], {});\n",
              "          if (!dataTable) return;\n",
              "\n",
              "          const docLinkHtml = 'Like what you see? Visit the ' +\n",
              "            '<a target=\"_blank\" href=https://colab.research.google.com/notebooks/data_table.ipynb>data table notebook</a>'\n",
              "            + ' to learn more about interactive tables.';\n",
              "          element.innerHTML = '';\n",
              "          dataTable['output_type'] = 'display_data';\n",
              "          await google.colab.output.renderOutput(dataTable, element);\n",
              "          const docLink = document.createElement('div');\n",
              "          docLink.innerHTML = docLinkHtml;\n",
              "          element.appendChild(docLink);\n",
              "        }\n",
              "      </script>\n",
              "    </div>\n",
              "  </div>\n",
              "  "
            ]
          },
          "metadata": {},
          "execution_count": 151
        }
      ]
    },
    {
      "cell_type": "markdown",
      "source": [
        "####Inertia"
      ],
      "metadata": {
        "id": "nOslk312kOnc"
      }
    },
    {
      "cell_type": "markdown",
      "source": [
        "The intra-cluster sum of squares, also referred to as the intra-cluster distance, is measured by kmeanModel pca.inertia_ as the sum of squared distances between each data point and the centroid of its assigned cluster. The data points are more tightly packed together within their designated clusters when the inertia_ value is lower."
      ],
      "metadata": {
        "id": "nacqeHgRWIa6"
      }
    },
    {
      "cell_type": "code",
      "source": [
        "#Inertia of the selected K_Model with PCA\n",
        "kmeanModel_pca.inertia_"
      ],
      "metadata": {
        "id": "PZMGpA4HkRHN",
        "colab": {
          "base_uri": "https://localhost:8080/"
        },
        "outputId": "fb0e0490-ae88-4d8f-9f54-d2489f2c15fa"
      },
      "execution_count": null,
      "outputs": [
        {
          "output_type": "execute_result",
          "data": {
            "text/plain": [
              "0.6142583198620086"
            ]
          },
          "metadata": {},
          "execution_count": 152
        }
      ]
    },
    {
      "cell_type": "markdown",
      "source": [
        "####Distortion"
      ],
      "metadata": {
        "id": "qpYHQj2ekZ_g"
      }
    },
    {
      "cell_type": "markdown",
      "source": [
        "The intra-cluster sum of squares, also referred to as distortion, is the average of the squared distances between each data point and its nearest centroid. The closer the data points are packed together within their designated clusters, the lower the distortion value."
      ],
      "metadata": {
        "id": "eH10VOVXWL-U"
      }
    },
    {
      "cell_type": "code",
      "source": [
        "# Distortion of the selected K_Model with PCA\n",
        "sum(np.min(cdist(scores_pca, kmeanModel_pca.cluster_centers_,\n",
        "\t\t\t\t\t\t\t\t\t\t'euclidean'), axis=1)) / scores_pca.shape[0]"
      ],
      "metadata": {
        "id": "vysDRykWkieF",
        "colab": {
          "base_uri": "https://localhost:8080/"
        },
        "outputId": "84a11cf5-e76e-41e3-bce1-8b4ff3c9f9f5"
      },
      "execution_count": null,
      "outputs": [
        {
          "output_type": "execute_result",
          "data": {
            "text/plain": [
              "0.11813189193338264"
            ]
          },
          "metadata": {},
          "execution_count": 153
        }
      ]
    },
    {
      "cell_type": "code",
      "source": [
        "from sklearn.metrics import silhouette_score\n",
        "silhouette_avg = silhouette_score(X, cluster_labels)\n",
        "inertia = kmeanModel_pca.inertia_\n",
        "inertia\n"
      ],
      "metadata": {
        "id": "IFHUPNH6HmtG",
        "colab": {
          "base_uri": "https://localhost:8080/"
        },
        "outputId": "a020d84e-d5ef-4152-ed6d-f6e6ed6d6cab"
      },
      "execution_count": null,
      "outputs": [
        {
          "output_type": "execute_result",
          "data": {
            "text/plain": [
              "0.6142583198620086"
            ]
          },
          "metadata": {},
          "execution_count": 154
        }
      ]
    },
    {
      "cell_type": "markdown",
      "source": [
        "#### Silhouette avg"
      ],
      "metadata": {
        "id": "fVLGSUXfXcyp"
      }
    },
    {
      "cell_type": "markdown",
      "source": [
        "How clearly defined the clusters are in the dataset is measured by silhouette avg. In order to calculate a score for each data point, it takes into account both the intra-cluster distance and the inter-cluster distance. The silhouette avg score is then calculated by averaging these scores across all of the data points in the dataset. A higher silhouette avg score means that the data were more effectively divided into distinct clusters by the clustering algorithm."
      ],
      "metadata": {
        "id": "yIXEAbkyXZHW"
      }
    },
    {
      "cell_type": "code",
      "source": [
        "silhouette_avg"
      ],
      "metadata": {
        "id": "pMuDLmJuIVtR",
        "colab": {
          "base_uri": "https://localhost:8080/"
        },
        "outputId": "47506b18-2697-4574-9a26-936c4ac992b6"
      },
      "execution_count": null,
      "outputs": [
        {
          "output_type": "execute_result",
          "data": {
            "text/plain": [
              "0.18002044190598912"
            ]
          },
          "metadata": {},
          "execution_count": 155
        }
      ]
    },
    {
      "cell_type": "code",
      "source": [
        "\n",
        "# Step 8: Analyze clusters\n",
        "merged_df['cluster'] = cluster_labels\n",
        "cluster_analysis = merged_df.groupby('cluster').mean()\n",
        "cluster_analysis"
      ],
      "metadata": {
        "id": "sGEDIj-2H9Pi",
        "colab": {
          "base_uri": "https://localhost:8080/",
          "height": 175
        },
        "outputId": "c543ea82-a78d-4ce6-de7a-8c35a7268969"
      },
      "execution_count": null,
      "outputs": [
        {
          "output_type": "execute_result",
          "data": {
            "text/plain": [
              "         reviews  booking_provider  no_of_deals  price_value\n",
              "cluster                                                     \n",
              "1         734.72              2.92        11.24        205.2\n",
              "2         206.25              2.50         4.25        205.2\n",
              "3         842.00              6.00        11.00        205.2"
            ],
            "text/html": [
              "\n",
              "  <div id=\"df-fe2d481c-5da7-4c59-a42d-d96f0e7a9fe5\">\n",
              "    <div class=\"colab-df-container\">\n",
              "      <div>\n",
              "<style scoped>\n",
              "    .dataframe tbody tr th:only-of-type {\n",
              "        vertical-align: middle;\n",
              "    }\n",
              "\n",
              "    .dataframe tbody tr th {\n",
              "        vertical-align: top;\n",
              "    }\n",
              "\n",
              "    .dataframe thead th {\n",
              "        text-align: right;\n",
              "    }\n",
              "</style>\n",
              "<table border=\"1\" class=\"dataframe\">\n",
              "  <thead>\n",
              "    <tr style=\"text-align: right;\">\n",
              "      <th></th>\n",
              "      <th>reviews</th>\n",
              "      <th>booking_provider</th>\n",
              "      <th>no_of_deals</th>\n",
              "      <th>price_value</th>\n",
              "    </tr>\n",
              "    <tr>\n",
              "      <th>cluster</th>\n",
              "      <th></th>\n",
              "      <th></th>\n",
              "      <th></th>\n",
              "      <th></th>\n",
              "    </tr>\n",
              "  </thead>\n",
              "  <tbody>\n",
              "    <tr>\n",
              "      <th>1</th>\n",
              "      <td>734.72</td>\n",
              "      <td>2.92</td>\n",
              "      <td>11.24</td>\n",
              "      <td>205.2</td>\n",
              "    </tr>\n",
              "    <tr>\n",
              "      <th>2</th>\n",
              "      <td>206.25</td>\n",
              "      <td>2.50</td>\n",
              "      <td>4.25</td>\n",
              "      <td>205.2</td>\n",
              "    </tr>\n",
              "    <tr>\n",
              "      <th>3</th>\n",
              "      <td>842.00</td>\n",
              "      <td>6.00</td>\n",
              "      <td>11.00</td>\n",
              "      <td>205.2</td>\n",
              "    </tr>\n",
              "  </tbody>\n",
              "</table>\n",
              "</div>\n",
              "      <button class=\"colab-df-convert\" onclick=\"convertToInteractive('df-fe2d481c-5da7-4c59-a42d-d96f0e7a9fe5')\"\n",
              "              title=\"Convert this dataframe to an interactive table.\"\n",
              "              style=\"display:none;\">\n",
              "        \n",
              "  <svg xmlns=\"http://www.w3.org/2000/svg\" height=\"24px\"viewBox=\"0 0 24 24\"\n",
              "       width=\"24px\">\n",
              "    <path d=\"M0 0h24v24H0V0z\" fill=\"none\"/>\n",
              "    <path d=\"M18.56 5.44l.94 2.06.94-2.06 2.06-.94-2.06-.94-.94-2.06-.94 2.06-2.06.94zm-11 1L8.5 8.5l.94-2.06 2.06-.94-2.06-.94L8.5 2.5l-.94 2.06-2.06.94zm10 10l.94 2.06.94-2.06 2.06-.94-2.06-.94-.94-2.06-.94 2.06-2.06.94z\"/><path d=\"M17.41 7.96l-1.37-1.37c-.4-.4-.92-.59-1.43-.59-.52 0-1.04.2-1.43.59L10.3 9.45l-7.72 7.72c-.78.78-.78 2.05 0 2.83L4 21.41c.39.39.9.59 1.41.59.51 0 1.02-.2 1.41-.59l7.78-7.78 2.81-2.81c.8-.78.8-2.07 0-2.86zM5.41 20L4 18.59l7.72-7.72 1.47 1.35L5.41 20z\"/>\n",
              "  </svg>\n",
              "      </button>\n",
              "      \n",
              "  <style>\n",
              "    .colab-df-container {\n",
              "      display:flex;\n",
              "      flex-wrap:wrap;\n",
              "      gap: 12px;\n",
              "    }\n",
              "\n",
              "    .colab-df-convert {\n",
              "      background-color: #E8F0FE;\n",
              "      border: none;\n",
              "      border-radius: 50%;\n",
              "      cursor: pointer;\n",
              "      display: none;\n",
              "      fill: #1967D2;\n",
              "      height: 32px;\n",
              "      padding: 0 0 0 0;\n",
              "      width: 32px;\n",
              "    }\n",
              "\n",
              "    .colab-df-convert:hover {\n",
              "      background-color: #E2EBFA;\n",
              "      box-shadow: 0px 1px 2px rgba(60, 64, 67, 0.3), 0px 1px 3px 1px rgba(60, 64, 67, 0.15);\n",
              "      fill: #174EA6;\n",
              "    }\n",
              "\n",
              "    [theme=dark] .colab-df-convert {\n",
              "      background-color: #3B4455;\n",
              "      fill: #D2E3FC;\n",
              "    }\n",
              "\n",
              "    [theme=dark] .colab-df-convert:hover {\n",
              "      background-color: #434B5C;\n",
              "      box-shadow: 0px 1px 3px 1px rgba(0, 0, 0, 0.15);\n",
              "      filter: drop-shadow(0px 1px 2px rgba(0, 0, 0, 0.3));\n",
              "      fill: #FFFFFF;\n",
              "    }\n",
              "  </style>\n",
              "\n",
              "      <script>\n",
              "        const buttonEl =\n",
              "          document.querySelector('#df-fe2d481c-5da7-4c59-a42d-d96f0e7a9fe5 button.colab-df-convert');\n",
              "        buttonEl.style.display =\n",
              "          google.colab.kernel.accessAllowed ? 'block' : 'none';\n",
              "\n",
              "        async function convertToInteractive(key) {\n",
              "          const element = document.querySelector('#df-fe2d481c-5da7-4c59-a42d-d96f0e7a9fe5');\n",
              "          const dataTable =\n",
              "            await google.colab.kernel.invokeFunction('convertToInteractive',\n",
              "                                                     [key], {});\n",
              "          if (!dataTable) return;\n",
              "\n",
              "          const docLinkHtml = 'Like what you see? Visit the ' +\n",
              "            '<a target=\"_blank\" href=https://colab.research.google.com/notebooks/data_table.ipynb>data table notebook</a>'\n",
              "            + ' to learn more about interactive tables.';\n",
              "          element.innerHTML = '';\n",
              "          dataTable['output_type'] = 'display_data';\n",
              "          await google.colab.output.renderOutput(dataTable, element);\n",
              "          const docLink = document.createElement('div');\n",
              "          docLink.innerHTML = docLinkHtml;\n",
              "          element.appendChild(docLink);\n",
              "        }\n",
              "      </script>\n",
              "    </div>\n",
              "  </div>\n",
              "  "
            ]
          },
          "metadata": {},
          "execution_count": 156
        }
      ]
    },
    {
      "cell_type": "markdown",
      "source": [
        "# Explain the Clusters and Interpret the Hotels"
      ],
      "metadata": {
        "id": "pZXyJJXWDOnQ"
      }
    },
    {
      "cell_type": "markdown",
      "source": [
        "##Append cluster assingments to original DataFrame"
      ],
      "metadata": {
        "id": "xOic9PDrkd1O"
      }
    },
    {
      "cell_type": "code",
      "source": [
        "#append cluster assingments to original DataFrame\n",
        "df_kmeans_pca = pd.concat([merged_df.reset_index(drop = True), pd.DataFrame(scores_pca)], axis = 1)\n",
        "df_kmeans_pca.columns.values[-2:] = ['PCA1', 'PCA2']\n",
        "df_kmeans_pca['cluster_k_PCA'] = kmeanModel_pca.labels_\n",
        "\n",
        "#view updated DataFrame\n",
        "df_kmeans_pca.head()"
      ],
      "metadata": {
        "id": "nQLEPiZBOfT5",
        "colab": {
          "base_uri": "https://localhost:8080/",
          "height": 337
        },
        "outputId": "8a38c60b-8273-4a36-b53f-f300401739d5"
      },
      "execution_count": null,
      "outputs": [
        {
          "output_type": "execute_result",
          "data": {
            "text/plain": [
              "                               hotel_name  reviews  booking_provider  \\\n",
              "0  Novotel Paris Centre Gare Montparnasse     2313                 1   \n",
              "1                            Les3chambres      519                 1   \n",
              "2                   La Chambre Parisienne       91                 6   \n",
              "3              Hyatt Regency Paris Etoile      663                 1   \n",
              "4                            Hotel Darcet      942                 1   \n",
              "\n",
              "   no_of_deals  price_value  \\\n",
              "0           11        225.0   \n",
              "1            0        205.2   \n",
              "2            5        205.2   \n",
              "3           12        205.2   \n",
              "4           12        205.2   \n",
              "\n",
              "                                              topics  \\\n",
              "0  [(large, bed), room, (small, adult), (normal, ...   \n",
              "1  [heat, wave, room, (clean, bathroom), (large, ...   \n",
              "2  [chambre, (old, access), (silent, access), (sa...   \n",
              "3  [wife, daughter, nights, (great, location), di...   \n",
              "4  [room, (decent, size), windows, faclilities, n...   \n",
              "\n",
              "                                   review_body_clean  cluster      PCA1  \\\n",
              "0   large bed given room singles small adult norm...        1 -0.127589   \n",
              "1   loved stay heat wave room decorated updated c...        2  0.714331   \n",
              "2   chambre decorated smelled located old house s...        2  0.749773   \n",
              "3   stayed wife daughter nights emphasise great l...        1 -0.114429   \n",
              "4   room decent size dualaspect windows coffeemak...        1 -0.165469   \n",
              "\n",
              "       PCA2  cluster_k_PCA  \n",
              "0  0.036587              1  \n",
              "1 -0.083448              2  \n",
              "2 -0.190158              2  \n",
              "3  0.175346              1  \n",
              "4 -0.130369              1  "
            ],
            "text/html": [
              "\n",
              "  <div id=\"df-fea52e24-dfe4-42a4-9459-939526ce4e88\">\n",
              "    <div class=\"colab-df-container\">\n",
              "      <div>\n",
              "<style scoped>\n",
              "    .dataframe tbody tr th:only-of-type {\n",
              "        vertical-align: middle;\n",
              "    }\n",
              "\n",
              "    .dataframe tbody tr th {\n",
              "        vertical-align: top;\n",
              "    }\n",
              "\n",
              "    .dataframe thead th {\n",
              "        text-align: right;\n",
              "    }\n",
              "</style>\n",
              "<table border=\"1\" class=\"dataframe\">\n",
              "  <thead>\n",
              "    <tr style=\"text-align: right;\">\n",
              "      <th></th>\n",
              "      <th>hotel_name</th>\n",
              "      <th>reviews</th>\n",
              "      <th>booking_provider</th>\n",
              "      <th>no_of_deals</th>\n",
              "      <th>price_value</th>\n",
              "      <th>topics</th>\n",
              "      <th>review_body_clean</th>\n",
              "      <th>cluster</th>\n",
              "      <th>PCA1</th>\n",
              "      <th>PCA2</th>\n",
              "      <th>cluster_k_PCA</th>\n",
              "    </tr>\n",
              "  </thead>\n",
              "  <tbody>\n",
              "    <tr>\n",
              "      <th>0</th>\n",
              "      <td>Novotel Paris Centre Gare Montparnasse</td>\n",
              "      <td>2313</td>\n",
              "      <td>1</td>\n",
              "      <td>11</td>\n",
              "      <td>225.0</td>\n",
              "      <td>[(large, bed), room, (small, adult), (normal, ...</td>\n",
              "      <td>large bed given room singles small adult norm...</td>\n",
              "      <td>1</td>\n",
              "      <td>-0.127589</td>\n",
              "      <td>0.036587</td>\n",
              "      <td>1</td>\n",
              "    </tr>\n",
              "    <tr>\n",
              "      <th>1</th>\n",
              "      <td>Les3chambres</td>\n",
              "      <td>519</td>\n",
              "      <td>1</td>\n",
              "      <td>0</td>\n",
              "      <td>205.2</td>\n",
              "      <td>[heat, wave, room, (clean, bathroom), (large, ...</td>\n",
              "      <td>loved stay heat wave room decorated updated c...</td>\n",
              "      <td>2</td>\n",
              "      <td>0.714331</td>\n",
              "      <td>-0.083448</td>\n",
              "      <td>2</td>\n",
              "    </tr>\n",
              "    <tr>\n",
              "      <th>2</th>\n",
              "      <td>La Chambre Parisienne</td>\n",
              "      <td>91</td>\n",
              "      <td>6</td>\n",
              "      <td>5</td>\n",
              "      <td>205.2</td>\n",
              "      <td>[chambre, (old, access), (silent, access), (sa...</td>\n",
              "      <td>chambre decorated smelled located old house s...</td>\n",
              "      <td>2</td>\n",
              "      <td>0.749773</td>\n",
              "      <td>-0.190158</td>\n",
              "      <td>2</td>\n",
              "    </tr>\n",
              "    <tr>\n",
              "      <th>3</th>\n",
              "      <td>Hyatt Regency Paris Etoile</td>\n",
              "      <td>663</td>\n",
              "      <td>1</td>\n",
              "      <td>12</td>\n",
              "      <td>205.2</td>\n",
              "      <td>[wife, daughter, nights, (great, location), di...</td>\n",
              "      <td>stayed wife daughter nights emphasise great l...</td>\n",
              "      <td>1</td>\n",
              "      <td>-0.114429</td>\n",
              "      <td>0.175346</td>\n",
              "      <td>1</td>\n",
              "    </tr>\n",
              "    <tr>\n",
              "      <th>4</th>\n",
              "      <td>Hotel Darcet</td>\n",
              "      <td>942</td>\n",
              "      <td>1</td>\n",
              "      <td>12</td>\n",
              "      <td>205.2</td>\n",
              "      <td>[room, (decent, size), windows, faclilities, n...</td>\n",
              "      <td>room decent size dualaspect windows coffeemak...</td>\n",
              "      <td>1</td>\n",
              "      <td>-0.165469</td>\n",
              "      <td>-0.130369</td>\n",
              "      <td>1</td>\n",
              "    </tr>\n",
              "  </tbody>\n",
              "</table>\n",
              "</div>\n",
              "      <button class=\"colab-df-convert\" onclick=\"convertToInteractive('df-fea52e24-dfe4-42a4-9459-939526ce4e88')\"\n",
              "              title=\"Convert this dataframe to an interactive table.\"\n",
              "              style=\"display:none;\">\n",
              "        \n",
              "  <svg xmlns=\"http://www.w3.org/2000/svg\" height=\"24px\"viewBox=\"0 0 24 24\"\n",
              "       width=\"24px\">\n",
              "    <path d=\"M0 0h24v24H0V0z\" fill=\"none\"/>\n",
              "    <path d=\"M18.56 5.44l.94 2.06.94-2.06 2.06-.94-2.06-.94-.94-2.06-.94 2.06-2.06.94zm-11 1L8.5 8.5l.94-2.06 2.06-.94-2.06-.94L8.5 2.5l-.94 2.06-2.06.94zm10 10l.94 2.06.94-2.06 2.06-.94-2.06-.94-.94-2.06-.94 2.06-2.06.94z\"/><path d=\"M17.41 7.96l-1.37-1.37c-.4-.4-.92-.59-1.43-.59-.52 0-1.04.2-1.43.59L10.3 9.45l-7.72 7.72c-.78.78-.78 2.05 0 2.83L4 21.41c.39.39.9.59 1.41.59.51 0 1.02-.2 1.41-.59l7.78-7.78 2.81-2.81c.8-.78.8-2.07 0-2.86zM5.41 20L4 18.59l7.72-7.72 1.47 1.35L5.41 20z\"/>\n",
              "  </svg>\n",
              "      </button>\n",
              "      \n",
              "  <style>\n",
              "    .colab-df-container {\n",
              "      display:flex;\n",
              "      flex-wrap:wrap;\n",
              "      gap: 12px;\n",
              "    }\n",
              "\n",
              "    .colab-df-convert {\n",
              "      background-color: #E8F0FE;\n",
              "      border: none;\n",
              "      border-radius: 50%;\n",
              "      cursor: pointer;\n",
              "      display: none;\n",
              "      fill: #1967D2;\n",
              "      height: 32px;\n",
              "      padding: 0 0 0 0;\n",
              "      width: 32px;\n",
              "    }\n",
              "\n",
              "    .colab-df-convert:hover {\n",
              "      background-color: #E2EBFA;\n",
              "      box-shadow: 0px 1px 2px rgba(60, 64, 67, 0.3), 0px 1px 3px 1px rgba(60, 64, 67, 0.15);\n",
              "      fill: #174EA6;\n",
              "    }\n",
              "\n",
              "    [theme=dark] .colab-df-convert {\n",
              "      background-color: #3B4455;\n",
              "      fill: #D2E3FC;\n",
              "    }\n",
              "\n",
              "    [theme=dark] .colab-df-convert:hover {\n",
              "      background-color: #434B5C;\n",
              "      box-shadow: 0px 1px 3px 1px rgba(0, 0, 0, 0.15);\n",
              "      filter: drop-shadow(0px 1px 2px rgba(0, 0, 0, 0.3));\n",
              "      fill: #FFFFFF;\n",
              "    }\n",
              "  </style>\n",
              "\n",
              "      <script>\n",
              "        const buttonEl =\n",
              "          document.querySelector('#df-fea52e24-dfe4-42a4-9459-939526ce4e88 button.colab-df-convert');\n",
              "        buttonEl.style.display =\n",
              "          google.colab.kernel.accessAllowed ? 'block' : 'none';\n",
              "\n",
              "        async function convertToInteractive(key) {\n",
              "          const element = document.querySelector('#df-fea52e24-dfe4-42a4-9459-939526ce4e88');\n",
              "          const dataTable =\n",
              "            await google.colab.kernel.invokeFunction('convertToInteractive',\n",
              "                                                     [key], {});\n",
              "          if (!dataTable) return;\n",
              "\n",
              "          const docLinkHtml = 'Like what you see? Visit the ' +\n",
              "            '<a target=\"_blank\" href=https://colab.research.google.com/notebooks/data_table.ipynb>data table notebook</a>'\n",
              "            + ' to learn more about interactive tables.';\n",
              "          element.innerHTML = '';\n",
              "          dataTable['output_type'] = 'display_data';\n",
              "          await google.colab.output.renderOutput(dataTable, element);\n",
              "          const docLink = document.createElement('div');\n",
              "          docLink.innerHTML = docLinkHtml;\n",
              "          element.appendChild(docLink);\n",
              "        }\n",
              "      </script>\n",
              "    </div>\n",
              "  </div>\n",
              "  "
            ]
          },
          "metadata": {},
          "execution_count": 157
        }
      ]
    },
    {
      "cell_type": "markdown",
      "source": [
        "3 clusters have been modeled according to the vectored reviews of each hotel, and a new column called cluster has been assigned to each review. We can read through the reviews for each hotel in the cluster that interests you or simply look at the top 10 unique words in each cluster and check out its hotel name accordingly."
      ],
      "metadata": {
        "id": "DTnXdyYJOc14"
      }
    },
    {
      "cell_type": "markdown",
      "source": [
        "## Cluster Evaluation"
      ],
      "metadata": {
        "id": "SXCe4AOgBOeH"
      }
    },
    {
      "cell_type": "code",
      "source": [
        "# countplot to check the number of clusters and number of hotels in each cluster\n",
        "import seaborn as sns\n",
        "\n",
        "sns.countplot(x='cluster_k_PCA', data=df_kmeans_pca)\n"
      ],
      "metadata": {
        "id": "juzZlchYbGT3",
        "colab": {
          "base_uri": "https://localhost:8080/",
          "height": 297
        },
        "outputId": "9edccd4c-6808-4a79-9153-8081a034d074"
      },
      "execution_count": null,
      "outputs": [
        {
          "output_type": "execute_result",
          "data": {
            "text/plain": [
              "<Axes: xlabel='cluster_k_PCA', ylabel='count'>"
            ]
          },
          "metadata": {},
          "execution_count": 158
        },
        {
          "output_type": "display_data",
          "data": {
            "text/plain": [
              "<Figure size 432x288 with 1 Axes>"
            ],
            "image/png": "[encoded data removed]"
          },
          "metadata": {}
        }
      ]
    },
    {
      "cell_type": "markdown",
      "source": [
        "* Analyze the clusters by examining the characteristics of the hotels in each cluster (e.g. amenities, location, ratings, etc.).\n",
        "* Interpret the clusters by identifying common themes or patterns (e.g. luxury hotels, budget hotels, downtown hotels, etc.)."
      ],
      "metadata": {
        "id": "4-oIteLGDQ1s"
      }
    },
    {
      "cell_type": "markdown",
      "source": [
        "## Interpretation"
      ],
      "metadata": {
        "id": "WL5Jc46hDa8Q"
      }
    },
    {
      "cell_type": "code",
      "source": [
        "import matplotlib.pyplot as plt\n",
        "\n",
        "# Define the x and y variables\n",
        "x = df_kmeans_pca['PCA1']\n",
        "y = df_kmeans_pca['PCA2']\n",
        "\n",
        "# Define the colors for each cluster\n",
        "colors = ['red', 'blue', 'green', 'orange']\n",
        "\n",
        "# Create a scatterplot with a different color for each cluster\n",
        "fig, ax = plt.subplots()\n",
        "for i in range(1,num_clusters+1):\n",
        "    ax.scatter(x[df_kmeans_pca['cluster_k_PCA'] == i], y[df_kmeans_pca['cluster_k_PCA'] == i], c=colors[i])\n",
        "\n",
        "# Set the x and y axis labels\n",
        "ax.set_xlabel('PCA1')\n",
        "ax.set_ylabel('PCA2')\n",
        "\n",
        "# Show the plot\n",
        "plt.show()\n"
      ],
      "metadata": {
        "id": "29FTG06rfRrR",
        "colab": {
          "base_uri": "https://localhost:8080/",
          "height": 279
        },
        "outputId": "b9313bdd-5e61-4723-c15e-b3d78775bd2d"
      },
      "execution_count": null,
      "outputs": [
        {
          "output_type": "display_data",
          "data": {
            "text/plain": [
              "<Figure size 432x288 with 1 Axes>"
            ],
            "image/png": "[encoded data removed]"
          },
          "metadata": {}
        }
      ]
    },
    {
      "cell_type": "code",
      "source": [
        "selected_words = []\n",
        "\n",
        "# Create a dictionary to store top keywords for each cluster\n",
        "top_keywords_dict = {}\n",
        "\n",
        "# Define a function to check if a word has already been selected\n",
        "def is_word_selected(word):\n",
        "    return word in selected_words\n",
        "\n",
        "def is_noun_adj(pos):\n",
        "    return pos[:2] == 'NN' or pos[:2] == 'JJ'\n",
        "\n",
        "def print_top_keywords(cluster):\n",
        "    # Extract the reviews for the given cluster\n",
        "    reviews = df_kmeans_pca[df_kmeans_pca['cluster_k_PCA']==cluster]['review_body_clean'].tolist()\n",
        "\n",
        "    text = ' '.join(reviews)\n",
        "    tokens = nltk.word_tokenize(text)\n",
        "    tokens = [word.lower() for word in tokens if word.isalnum() and not word.lower() in stop_words]\n",
        "\n",
        "    # Filter out non-noun and non-adjective POS tags\n",
        "    tagged_tokens = nltk.pos_tag(tokens)\n",
        "    words = [word for (word, tag) in tagged_tokens if tag in ['NN', 'NNS', 'JJ', 'JJR', 'JJS']]\n",
        "    \n",
        "    # Calculate the TF-IDF score for each word and ignore words not present in the vocabulary\n",
        "    word_tfidf = {}\n",
        "    for word in set(words):\n",
        "        try:\n",
        "            tf = words.count(word) / len(words)\n",
        "            idf = tfidf.idf_[tfidf.vocabulary_[word]]\n",
        "            word_tfidf[word] = tf * idf\n",
        "        except KeyError:\n",
        "            pass\n",
        "\n",
        "    # Sort the words by their TF-IDF scores and select the top 10 non-repeated words\n",
        "    sorted_words = sorted(word_tfidf.items(), key=lambda x: x[1], reverse=True)\n",
        "    selected_words_cluster = set()\n",
        "    top_keywords = []\n",
        "    for word, score in sorted_words:\n",
        "        if word not in selected_words and word not in selected_words_cluster:\n",
        "            top_keywords.append(word)\n",
        "            selected_words.append(word)\n",
        "            selected_words_cluster.add(word)\n",
        "            if len(top_keywords) == 300:\n",
        "                break\n",
        "                \n",
        "    # Pad the list of top keywords with NaN values if necessary\n",
        "    if len(top_keywords) < 300:\n",
        "        top_keywords += [np.nan] * (300 - len(top_keywords))\n",
        "\n",
        "    # Add the top keywords to the dictionary\n",
        "    top_keywords_dict[f\"Cluster {cluster}\"] = top_keywords\n",
        "\n",
        "\n",
        "# Print the top 10 keywords for each cluster\n",
        "for i in range(1, num_clusters+1):\n",
        "    print_top_keywords(i)\n"
      ],
      "metadata": {
        "id": "gA-Z5jQ_QHsU"
      },
      "execution_count": null,
      "outputs": []
    },
    {
      "cell_type": "code",
      "source": [
        "# Create a new DataFrame with columns for each cluster and rows for the top keywords\n",
        "df_top_keywords = pd.DataFrame(top_keywords_dict)\n",
        "df_top_keywords.head(10)"
      ],
      "metadata": {
        "id": "xBzPFRz038LG",
        "colab": {
          "base_uri": "https://localhost:8080/",
          "height": 363
        },
        "outputId": "aec4004f-4ec0-4423-c171-71162ef6c1ae"
      },
      "execution_count": null,
      "outputs": [
        {
          "output_type": "execute_result",
          "data": {
            "text/plain": [
              "    Cluster 1        Cluster 2      Cluster 3\n",
              "0       staff          laurent           boat\n",
              "1       floor        apartment         cruise\n",
              "2     station            hosts       romantic\n",
              "3        desk             host          event\n",
              "4        view             home           half\n",
              "5       quiet       breakfasts        advance\n",
              "6       price           marais         prices\n",
              "7  restaurant  recommendations          wrong\n",
              "8       close          chambre  complimentary\n",
              "9      coffee     conversation  disappointing"
            ],
            "text/html": [
              "\n",
              "  <div id=\"df-e4dc48dc-016a-4406-8410-73f178afb1e7\">\n",
              "    <div class=\"colab-df-container\">\n",
              "      <div>\n",
              "<style scoped>\n",
              "    .dataframe tbody tr th:only-of-type {\n",
              "        vertical-align: middle;\n",
              "    }\n",
              "\n",
              "    .dataframe tbody tr th {\n",
              "        vertical-align: top;\n",
              "    }\n",
              "\n",
              "    .dataframe thead th {\n",
              "        text-align: right;\n",
              "    }\n",
              "</style>\n",
              "<table border=\"1\" class=\"dataframe\">\n",
              "  <thead>\n",
              "    <tr style=\"text-align: right;\">\n",
              "      <th></th>\n",
              "      <th>Cluster 1</th>\n",
              "      <th>Cluster 2</th>\n",
              "      <th>Cluster 3</th>\n",
              "    </tr>\n",
              "  </thead>\n",
              "  <tbody>\n",
              "    <tr>\n",
              "      <th>0</th>\n",
              "      <td>staff</td>\n",
              "      <td>laurent</td>\n",
              "      <td>boat</td>\n",
              "    </tr>\n",
              "    <tr>\n",
              "      <th>1</th>\n",
              "      <td>floor</td>\n",
              "      <td>apartment</td>\n",
              "      <td>cruise</td>\n",
              "    </tr>\n",
              "    <tr>\n",
              "      <th>2</th>\n",
              "      <td>station</td>\n",
              "      <td>hosts</td>\n",
              "      <td>romantic</td>\n",
              "    </tr>\n",
              "    <tr>\n",
              "      <th>3</th>\n",
              "      <td>desk</td>\n",
              "      <td>host</td>\n",
              "      <td>event</td>\n",
              "    </tr>\n",
              "    <tr>\n",
              "      <th>4</th>\n",
              "      <td>view</td>\n",
              "      <td>home</td>\n",
              "      <td>half</td>\n",
              "    </tr>\n",
              "    <tr>\n",
              "      <th>5</th>\n",
              "      <td>quiet</td>\n",
              "      <td>breakfasts</td>\n",
              "      <td>advance</td>\n",
              "    </tr>\n",
              "    <tr>\n",
              "      <th>6</th>\n",
              "      <td>price</td>\n",
              "      <td>marais</td>\n",
              "      <td>prices</td>\n",
              "    </tr>\n",
              "    <tr>\n",
              "      <th>7</th>\n",
              "      <td>restaurant</td>\n",
              "      <td>recommendations</td>\n",
              "      <td>wrong</td>\n",
              "    </tr>\n",
              "    <tr>\n",
              "      <th>8</th>\n",
              "      <td>close</td>\n",
              "      <td>chambre</td>\n",
              "      <td>complimentary</td>\n",
              "    </tr>\n",
              "    <tr>\n",
              "      <th>9</th>\n",
              "      <td>coffee</td>\n",
              "      <td>conversation</td>\n",
              "      <td>disappointing</td>\n",
              "    </tr>\n",
              "  </tbody>\n",
              "</table>\n",
              "</div>\n",
              "      <button class=\"colab-df-convert\" onclick=\"convertToInteractive('df-e4dc48dc-016a-4406-8410-73f178afb1e7')\"\n",
              "              title=\"Convert this dataframe to an interactive table.\"\n",
              "              style=\"display:none;\">\n",
              "        \n",
              "  <svg xmlns=\"http://www.w3.org/2000/svg\" height=\"24px\"viewBox=\"0 0 24 24\"\n",
              "       width=\"24px\">\n",
              "    <path d=\"M0 0h24v24H0V0z\" fill=\"none\"/>\n",
              "    <path d=\"M18.56 5.44l.94 2.06.94-2.06 2.06-.94-2.06-.94-.94-2.06-.94 2.06-2.06.94zm-11 1L8.5 8.5l.94-2.06 2.06-.94-2.06-.94L8.5 2.5l-.94 2.06-2.06.94zm10 10l.94 2.06.94-2.06 2.06-.94-2.06-.94-.94-2.06-.94 2.06-2.06.94z\"/><path d=\"M17.41 7.96l-1.37-1.37c-.4-.4-.92-.59-1.43-.59-.52 0-1.04.2-1.43.59L10.3 9.45l-7.72 7.72c-.78.78-.78 2.05 0 2.83L4 21.41c.39.39.9.59 1.41.59.51 0 1.02-.2 1.41-.59l7.78-7.78 2.81-2.81c.8-.78.8-2.07 0-2.86zM5.41 20L4 18.59l7.72-7.72 1.47 1.35L5.41 20z\"/>\n",
              "  </svg>\n",
              "      </button>\n",
              "      \n",
              "  <style>\n",
              "    .colab-df-container {\n",
              "      display:flex;\n",
              "      flex-wrap:wrap;\n",
              "      gap: 12px;\n",
              "    }\n",
              "\n",
              "    .colab-df-convert {\n",
              "      background-color: #E8F0FE;\n",
              "      border: none;\n",
              "      border-radius: 50%;\n",
              "      cursor: pointer;\n",
              "      display: none;\n",
              "      fill: #1967D2;\n",
              "      height: 32px;\n",
              "      padding: 0 0 0 0;\n",
              "      width: 32px;\n",
              "    }\n",
              "\n",
              "    .colab-df-convert:hover {\n",
              "      background-color: #E2EBFA;\n",
              "      box-shadow: 0px 1px 2px rgba(60, 64, 67, 0.3), 0px 1px 3px 1px rgba(60, 64, 67, 0.15);\n",
              "      fill: #174EA6;\n",
              "    }\n",
              "\n",
              "    [theme=dark] .colab-df-convert {\n",
              "      background-color: #3B4455;\n",
              "      fill: #D2E3FC;\n",
              "    }\n",
              "\n",
              "    [theme=dark] .colab-df-convert:hover {\n",
              "      background-color: #434B5C;\n",
              "      box-shadow: 0px 1px 3px 1px rgba(0, 0, 0, 0.15);\n",
              "      filter: drop-shadow(0px 1px 2px rgba(0, 0, 0, 0.3));\n",
              "      fill: #FFFFFF;\n",
              "    }\n",
              "  </style>\n",
              "\n",
              "      <script>\n",
              "        const buttonEl =\n",
              "          document.querySelector('#df-e4dc48dc-016a-4406-8410-73f178afb1e7 button.colab-df-convert');\n",
              "        buttonEl.style.display =\n",
              "          google.colab.kernel.accessAllowed ? 'block' : 'none';\n",
              "\n",
              "        async function convertToInteractive(key) {\n",
              "          const element = document.querySelector('#df-e4dc48dc-016a-4406-8410-73f178afb1e7');\n",
              "          const dataTable =\n",
              "            await google.colab.kernel.invokeFunction('convertToInteractive',\n",
              "                                                     [key], {});\n",
              "          if (!dataTable) return;\n",
              "\n",
              "          const docLinkHtml = 'Like what you see? Visit the ' +\n",
              "            '<a target=\"_blank\" href=https://colab.research.google.com/notebooks/data_table.ipynb>data table notebook</a>'\n",
              "            + ' to learn more about interactive tables.';\n",
              "          element.innerHTML = '';\n",
              "          dataTable['output_type'] = 'display_data';\n",
              "          await google.colab.output.renderOutput(dataTable, element);\n",
              "          const docLink = document.createElement('div');\n",
              "          docLink.innerHTML = docLinkHtml;\n",
              "          element.appendChild(docLink);\n",
              "        }\n",
              "      </script>\n",
              "    </div>\n",
              "  </div>\n",
              "  "
            ]
          },
          "metadata": {},
          "execution_count": 161
        }
      ]
    },
    {
      "cell_type": "code",
      "source": [
        "# df_top_keywords_transposed = df_top_keywords.transpose()\n",
        "# pd.set_option('display.max_columns', None)\n",
        "# df_top_keywords_transposed"
      ],
      "metadata": {
        "id": "ADplAJ1Yj8qw"
      },
      "execution_count": null,
      "outputs": []
    },
    {
      "cell_type": "markdown",
      "source": [
        "**Observations**\n",
        "* **Cluster 1**: This cluster of hotels appears to be situated in a busy area of Paris close to a number of tourist destinations, cafes, and dining establishments. The hotels in this category are often larger, with spacious accommodations, stunning city views, and complimentary WiFi. They offer a shuttle service, a breakfast buffet, and a pool among other attractions. These hotels are clustered together, and several have balconies and are close to the River. Notwithstanding some concerns about noise and outmoded facilities, customers typically compliment the personnel on their friendliness and helpfulness. These hotels are great for travelers who don't mind a little noise but yet want to be close to the city's main attractions.\n",
        "\n",
        "* **Cluster 2**:  This cluster of hotels appears to be more akin to apartments or guesthouses, with hosts who are familiar with the area and can offer visitors individualized travel advice and maps. The lodgings in this group are more intimate, have a homey feel to them, and serve homemade breakfasts. The attention to detail, including the linens and toiletries offered, is valued by the guests. Travelers who prefer a more intimate and distinctive experience and don't mind staying in a smaller hotel should choose one of these establishments.\n",
        "\n",
        "* **Cluster 3**: With fewer reviews and less focused keywords, this cluster of hotels appears to be less popular than the other two groups. The cluster appears to be more general and less narrowly focused than the other two clusters.  We might infer from the top keywords that the hotels in this group might be found in the Montparnasse neighborhood, near to the Eiffel Tower and the Champs-Élysées. Due to the lack of specificity in the top terms, we are unable to make any inferences regarding the facilities, personnel, or environment of these hotels."
      ],
      "metadata": {
        "id": "tFEEewnVrsAv"
      }
    },
    {
      "cell_type": "markdown",
      "source": [
        "# Search Engine for Hotels"
      ],
      "metadata": {
        "id": "_FgYqzE3DdYF"
      }
    },
    {
      "cell_type": "markdown",
      "source": [
        "* Define the objective of the search engine (e.g. finding hotels based on user queries).\n",
        "* Choose an appropriate technique for encoding the hotel descriptions (e.g. bag-of-words, TF-IDF, word embeddings, etc.).\n",
        "* Use FAISS to index the hotel descriptions and create a search index.\n",
        "* Implement a search function that takes in a user query and returns the most relevant hotels based on the search index."
      ],
      "metadata": {
        "id": "8MnfI7LpDiiO"
      }
    },
    {
      "cell_type": "markdown",
      "source": [
        "## Objective"
      ],
      "metadata": {
        "id": "H4jiqOLiDpjj"
      }
    },
    {
      "cell_type": "markdown",
      "source": [
        "Build a search engine that takes a query (e.g. \"Clean Hotel\") and returns the top 5 hotels whose reviews match closest to the query. "
      ],
      "metadata": {
        "id": "no6CW8isWiWx"
      }
    },
    {
      "cell_type": "markdown",
      "source": [
        "## Data preparation"
      ],
      "metadata": {
        "id": "ZwbxbD2hW1WU"
      }
    },
    {
      "cell_type": "markdown",
      "source": [
        "We have done most of the raw data formatting in **data preparation** section already (P.S: See data preparation for clustering)"
      ],
      "metadata": {
        "id": "p4gnJLMFpfwZ"
      }
    },
    {
      "cell_type": "code",
      "source": [
        "df_reviews_faiss = df_reviews.copy()\n",
        "df_reviews_faiss.head()"
      ],
      "metadata": {
        "id": "YxQQseH8eQWd",
        "colab": {
          "base_uri": "https://localhost:8080/",
          "height": 206
        },
        "outputId": "fcdf306d-7286-4b87-8c2e-c3bb7cc30c8e"
      },
      "execution_count": null,
      "outputs": [
        {
          "output_type": "execute_result",
          "data": {
            "text/plain": [
              "                                         review_body  \\\n",
              "0  Forgot to book a large bed so given a room wit...   \n",
              "1  This hotel was really nice overall but they lo...   \n",
              "2  Our complimentary breakfast was delicious. Sta...   \n",
              "3  If I could give 0 stars, I would. Staff comple...   \n",
              "4  This was a comfortable hotel in Montparnasse n...   \n",
              "\n",
              "                               hotel_name  \\\n",
              "0  Novotel Paris Centre Gare Montparnasse   \n",
              "1  Novotel Paris Centre Gare Montparnasse   \n",
              "2  Novotel Paris Centre Gare Montparnasse   \n",
              "3  Novotel Paris Centre Gare Montparnasse   \n",
              "4  Novotel Paris Centre Gare Montparnasse   \n",
              "\n",
              "                                   review_body_clean  \\\n",
              "0   large bed given room singles small adult norm...   \n",
              "1   bad hotel nice location overall location hour...   \n",
              "2   breakfast complimentary staff delicious staff...   \n",
              "3   give stars staff booked room unhelpful hotel ...   \n",
              "4   hotel comfortable montparnasse montparnasse t...   \n",
              "\n",
              "                                              topics sentiment  \n",
              "0  [(large, bed), room, (small, adult), (normal, ...   Neutral  \n",
              "1  [hotel, (bad, location), (nice, location), loc...   Neutral  \n",
              "2  [breakfast, (complimentary, staff), delicious,...  Positive  \n",
              "3  [stars, staff, room, (unhelpful, hotel), air, ...   Neutral  \n",
              "4  [hotel, montparnasse, montparnasse, tower, (co...   Neutral  "
            ],
            "text/html": [
              "\n",
              "  <div id=\"df-5d914c7e-2369-4c96-b405-d4568dda765b\">\n",
              "    <div class=\"colab-df-container\">\n",
              "      <div>\n",
              "<style scoped>\n",
              "    .dataframe tbody tr th:only-of-type {\n",
              "        vertical-align: middle;\n",
              "    }\n",
              "\n",
              "    .dataframe tbody tr th {\n",
              "        vertical-align: top;\n",
              "    }\n",
              "\n",
              "    .dataframe thead th {\n",
              "        text-align: right;\n",
              "    }\n",
              "</style>\n",
              "<table border=\"1\" class=\"dataframe\">\n",
              "  <thead>\n",
              "    <tr style=\"text-align: right;\">\n",
              "      <th></th>\n",
              "      <th>review_body</th>\n",
              "      <th>hotel_name</th>\n",
              "      <th>review_body_clean</th>\n",
              "      <th>topics</th>\n",
              "      <th>sentiment</th>\n",
              "    </tr>\n",
              "  </thead>\n",
              "  <tbody>\n",
              "    <tr>\n",
              "      <th>0</th>\n",
              "      <td>Forgot to book a large bed so given a room wit...</td>\n",
              "      <td>Novotel Paris Centre Gare Montparnasse</td>\n",
              "      <td>large bed given room singles small adult norm...</td>\n",
              "      <td>[(large, bed), room, (small, adult), (normal, ...</td>\n",
              "      <td>Neutral</td>\n",
              "    </tr>\n",
              "    <tr>\n",
              "      <th>1</th>\n",
              "      <td>This hotel was really nice overall but they lo...</td>\n",
              "      <td>Novotel Paris Centre Gare Montparnasse</td>\n",
              "      <td>bad hotel nice location overall location hour...</td>\n",
              "      <td>[hotel, (bad, location), (nice, location), loc...</td>\n",
              "      <td>Neutral</td>\n",
              "    </tr>\n",
              "    <tr>\n",
              "      <th>2</th>\n",
              "      <td>Our complimentary breakfast was delicious. Sta...</td>\n",
              "      <td>Novotel Paris Centre Gare Montparnasse</td>\n",
              "      <td>breakfast complimentary staff delicious staff...</td>\n",
              "      <td>[breakfast, (complimentary, staff), delicious,...</td>\n",
              "      <td>Positive</td>\n",
              "    </tr>\n",
              "    <tr>\n",
              "      <th>3</th>\n",
              "      <td>If I could give 0 stars, I would. Staff comple...</td>\n",
              "      <td>Novotel Paris Centre Gare Montparnasse</td>\n",
              "      <td>give stars staff booked room unhelpful hotel ...</td>\n",
              "      <td>[stars, staff, room, (unhelpful, hotel), air, ...</td>\n",
              "      <td>Neutral</td>\n",
              "    </tr>\n",
              "    <tr>\n",
              "      <th>4</th>\n",
              "      <td>This was a comfortable hotel in Montparnasse n...</td>\n",
              "      <td>Novotel Paris Centre Gare Montparnasse</td>\n",
              "      <td>hotel comfortable montparnasse montparnasse t...</td>\n",
              "      <td>[hotel, montparnasse, montparnasse, tower, (co...</td>\n",
              "      <td>Neutral</td>\n",
              "    </tr>\n",
              "  </tbody>\n",
              "</table>\n",
              "</div>\n",
              "      <button class=\"colab-df-convert\" onclick=\"convertToInteractive('df-5d914c7e-2369-4c96-b405-d4568dda765b')\"\n",
              "              title=\"Convert this dataframe to an interactive table.\"\n",
              "              style=\"display:none;\">\n",
              "        \n",
              "  <svg xmlns=\"http://www.w3.org/2000/svg\" height=\"24px\"viewBox=\"0 0 24 24\"\n",
              "       width=\"24px\">\n",
              "    <path d=\"M0 0h24v24H0V0z\" fill=\"none\"/>\n",
              "    <path d=\"M18.56 5.44l.94 2.06.94-2.06 2.06-.94-2.06-.94-.94-2.06-.94 2.06-2.06.94zm-11 1L8.5 8.5l.94-2.06 2.06-.94-2.06-.94L8.5 2.5l-.94 2.06-2.06.94zm10 10l.94 2.06.94-2.06 2.06-.94-2.06-.94-.94-2.06-.94 2.06-2.06.94z\"/><path d=\"M17.41 7.96l-1.37-1.37c-.4-.4-.92-.59-1.43-.59-.52 0-1.04.2-1.43.59L10.3 9.45l-7.72 7.72c-.78.78-.78 2.05 0 2.83L4 21.41c.39.39.9.59 1.41.59.51 0 1.02-.2 1.41-.59l7.78-7.78 2.81-2.81c.8-.78.8-2.07 0-2.86zM5.41 20L4 18.59l7.72-7.72 1.47 1.35L5.41 20z\"/>\n",
              "  </svg>\n",
              "      </button>\n",
              "      \n",
              "  <style>\n",
              "    .colab-df-container {\n",
              "      display:flex;\n",
              "      flex-wrap:wrap;\n",
              "      gap: 12px;\n",
              "    }\n",
              "\n",
              "    .colab-df-convert {\n",
              "      background-color: #E8F0FE;\n",
              "      border: none;\n",
              "      border-radius: 50%;\n",
              "      cursor: pointer;\n",
              "      display: none;\n",
              "      fill: #1967D2;\n",
              "      height: 32px;\n",
              "      padding: 0 0 0 0;\n",
              "      width: 32px;\n",
              "    }\n",
              "\n",
              "    .colab-df-convert:hover {\n",
              "      background-color: #E2EBFA;\n",
              "      box-shadow: 0px 1px 2px rgba(60, 64, 67, 0.3), 0px 1px 3px 1px rgba(60, 64, 67, 0.15);\n",
              "      fill: #174EA6;\n",
              "    }\n",
              "\n",
              "    [theme=dark] .colab-df-convert {\n",
              "      background-color: #3B4455;\n",
              "      fill: #D2E3FC;\n",
              "    }\n",
              "\n",
              "    [theme=dark] .colab-df-convert:hover {\n",
              "      background-color: #434B5C;\n",
              "      box-shadow: 0px 1px 3px 1px rgba(0, 0, 0, 0.15);\n",
              "      filter: drop-shadow(0px 1px 2px rgba(0, 0, 0, 0.3));\n",
              "      fill: #FFFFFF;\n",
              "    }\n",
              "  </style>\n",
              "\n",
              "      <script>\n",
              "        const buttonEl =\n",
              "          document.querySelector('#df-5d914c7e-2369-4c96-b405-d4568dda765b button.colab-df-convert');\n",
              "        buttonEl.style.display =\n",
              "          google.colab.kernel.accessAllowed ? 'block' : 'none';\n",
              "\n",
              "        async function convertToInteractive(key) {\n",
              "          const element = document.querySelector('#df-5d914c7e-2369-4c96-b405-d4568dda765b');\n",
              "          const dataTable =\n",
              "            await google.colab.kernel.invokeFunction('convertToInteractive',\n",
              "                                                     [key], {});\n",
              "          if (!dataTable) return;\n",
              "\n",
              "          const docLinkHtml = 'Like what you see? Visit the ' +\n",
              "            '<a target=\"_blank\" href=https://colab.research.google.com/notebooks/data_table.ipynb>data table notebook</a>'\n",
              "            + ' to learn more about interactive tables.';\n",
              "          element.innerHTML = '';\n",
              "          dataTable['output_type'] = 'display_data';\n",
              "          await google.colab.output.renderOutput(dataTable, element);\n",
              "          const docLink = document.createElement('div');\n",
              "          docLink.innerHTML = docLinkHtml;\n",
              "          element.appendChild(docLink);\n",
              "        }\n",
              "      </script>\n",
              "    </div>\n",
              "  </div>\n",
              "  "
            ]
          },
          "metadata": {},
          "execution_count": 163
        }
      ]
    },
    {
      "cell_type": "code",
      "source": [
        "# extract unique hotel names\n",
        "hotel_names = df_reviews_faiss['hotel_name'].unique()\n",
        "hotel_names"
      ],
      "metadata": {
        "id": "u8KQ3VcFhOG7",
        "colab": {
          "base_uri": "https://localhost:8080/"
        },
        "outputId": "3ce41e55-bb3c-4769-e60f-1737a8e390b9"
      },
      "execution_count": null,
      "outputs": [
        {
          "output_type": "execute_result",
          "data": {
            "text/plain": [
              "array(['Novotel Paris Centre Gare Montparnasse', 'Les3chambres',\n",
              "       'La Chambre Parisienne', 'Hyatt Regency Paris Etoile',\n",
              "       'Hotel Darcet', 'Hotel Cecilia Paris',\n",
              "       'Maison Astor Paris, Curio Collection by Hilton',\n",
              "       'Hotel Louvre Bons Enfants',\n",
              "       'Courtyard by Marriott Paris Gare de Lyon',\n",
              "       'Le VIP Paris Yacht Hotel', 'Hotel Edgar', \"Hotel d'Argenson\",\n",
              "       'Hotel du Quai-Voltaire', 'Hotel La Manufacture',\n",
              "       'Hotel de Suede St. Germain', 'Hotel du Danube Saint Germain',\n",
              "       'Assia & Nathalie',\n",
              "       'Niepce Paris Hotel, Curio Collection by Hilton', 'Perreyve Hotel',\n",
              "       'Hotel Comete Paris', \"Hotel de L'Union\",\n",
              "       'Renaissance Paris Arc de Triomphe Hotel',\n",
              "       'Hotel Cervantes by HappyCulture', 'Hotel du Haut Marais',\n",
              "       'Holiday Inn Express Paris-Canal de la Villette',\n",
              "       \"Hotel Saint-Louis en l'Isle\", 'Hotel Haussmann Saint Augustin',\n",
              "       'Hotel du College de France', \"Jack's Hotel\",\n",
              "       'Hotel Westside Arc de Triomphe'], dtype=object)"
            ]
          },
          "metadata": {},
          "execution_count": 164
        }
      ]
    },
    {
      "cell_type": "code",
      "source": [
        "# create a count vectorizer and fit on the review bodies\n",
        "count_vectorizer = CountVectorizer()\n",
        "X = count_vectorizer.fit_transform(df_reviews_faiss['review_body_clean'])\n",
        "X.shape"
      ],
      "metadata": {
        "id": "cmegYeiFhusx",
        "colab": {
          "base_uri": "https://localhost:8080/"
        },
        "outputId": "ed7f19e4-3583-4724-e403-8d597ce319ce"
      },
      "execution_count": null,
      "outputs": [
        {
          "output_type": "execute_result",
          "data": {
            "text/plain": [
              "(1492, 7294)"
            ]
          },
          "metadata": {},
          "execution_count": 165
        }
      ]
    },
    {
      "cell_type": "code",
      "source": [
        "# convert the topics column to a string\n",
        "import spacy\n",
        "\n",
        "# load spaCy model\n",
        "nlp = spacy.load('en_core_web_sm')\n",
        "\n",
        "# convert topics strings to spaCy Doc objects\n",
        "df_reviews_faiss['topics'] = df_reviews_faiss['topics'].apply(lambda x: ' '.join([str(i) for i in x]))\n",
        "df_reviews_faiss['topics'] = df_reviews_faiss['topics'].apply(lambda x: nlp(x))\n",
        "\n",
        "\n",
        "# extract lemmas from spaCy Doc objects\n",
        "df_reviews_faiss['topics'] = df_reviews_faiss['topics'].apply(lambda x: ' '.join([token.lemma_ for token in x]))\n",
        "\n",
        "# create a count vectorizer and fit on the topics\n",
        "count_vectorizer = CountVectorizer()\n",
        "topics_vectorizer = count_vectorizer.fit_transform(df_reviews_faiss['topics'])\n",
        "topics_vectorizer.shape"
      ],
      "metadata": {
        "id": "lr_BY7-siD9c",
        "colab": {
          "base_uri": "https://localhost:8080/"
        },
        "outputId": "c3680524-2a42-4814-a2e9-ec88e4512867"
      },
      "execution_count": null,
      "outputs": [
        {
          "output_type": "execute_result",
          "data": {
            "text/plain": [
              "(1492, 4726)"
            ]
          },
          "metadata": {},
          "execution_count": 166
        }
      ]
    },
    {
      "cell_type": "code",
      "source": [
        "# create an array of sentiments\n",
        "sentiments = np.array(df_reviews['sentiment'].replace({'Positive': 1, 'Neutral': 0, 'Negative': -1}))"
      ],
      "metadata": {
        "id": "RbccqITtji7G"
      },
      "execution_count": null,
      "outputs": []
    },
    {
      "cell_type": "code",
      "source": [
        "sentences = (df_reviews['review_body_clean']).tolist()\n",
        "sentences[0]"
      ],
      "metadata": {
        "id": "7WrpbVwBC2af",
        "colab": {
          "base_uri": "https://localhost:8080/",
          "height": 35
        },
        "outputId": "574253dd-fc45-451b-8484-4498f5d7bfbc"
      },
      "execution_count": null,
      "outputs": [
        {
          "output_type": "execute_result",
          "data": {
            "text/plain": [
              "' large bed given room singles small adult normal adult fell several times limited choiceservice goodbathroom weird toilet sink removed shower stay cause sleep proper bed larger bed sleep'"
            ],
            "application/vnd.google.colaboratory.intrinsic+json": {
              "type": "string"
            }
          },
          "metadata": {},
          "execution_count": 168
        }
      ]
    },
    {
      "cell_type": "markdown",
      "source": [
        "## Initialize sentence transformer model\n"
      ],
      "metadata": {
        "id": "KJAPPOBNSmN4"
      }
    },
    {
      "cell_type": "code",
      "source": [
        "from sentence_transformers import SentenceTransformer\n",
        "model = SentenceTransformer('bert-base-nli-mean-tokens') "
      ],
      "metadata": {
        "id": "0g7PDWszDvZ2"
      },
      "execution_count": null,
      "outputs": []
    },
    {
      "cell_type": "code",
      "source": [
        "%%time\n",
        "sentence_embeddings = model.encode(sentences)\n",
        "sentence_embeddings.shape"
      ],
      "metadata": {
        "id": "nW9iXzLybsFF",
        "colab": {
          "base_uri": "https://localhost:8080/"
        },
        "outputId": "17899ea6-7624-4c20-ff93-da069ee758e0"
      },
      "execution_count": null,
      "outputs": [
        {
          "output_type": "stream",
          "name": "stdout",
          "text": [
            "CPU times: user 4min 51s, sys: 406 ms, total: 4min 52s\n",
            "Wall time: 4min 55s\n"
          ]
        },
        {
          "output_type": "execute_result",
          "data": {
            "text/plain": [
              "(1492, 768)"
            ]
          },
          "metadata": {},
          "execution_count": 170
        }
      ]
    },
    {
      "cell_type": "code",
      "source": [
        "# normalize sentence embeddings\n",
        "sentence_embeddings = sentence_embeddings / np.linalg.norm(sentence_embeddings, axis=1, keepdims=True)\n"
      ],
      "metadata": {
        "id": "VDV2VKVqVSGA"
      },
      "execution_count": null,
      "outputs": []
    },
    {
      "cell_type": "code",
      "source": [
        "# use inner product similarity instead of L2 distance\n",
        "d = sentence_embeddings.shape[1]\n",
        "d"
      ],
      "metadata": {
        "id": "NB6Mbdltb9d1",
        "colab": {
          "base_uri": "https://localhost:8080/"
        },
        "outputId": "357bdebc-d7a2-4599-e406-e6dc73c3fb92"
      },
      "execution_count": null,
      "outputs": [
        {
          "output_type": "execute_result",
          "data": {
            "text/plain": [
              "768"
            ]
          },
          "metadata": {},
          "execution_count": 172
        }
      ]
    },
    {
      "cell_type": "markdown",
      "source": [
        "## Creating a search index using FAISS"
      ],
      "metadata": {
        "id": "IKxmD2XZD5D3"
      }
    },
    {
      "cell_type": "code",
      "source": [
        "# use inner product similarity instead of L2 distance\n",
        "index = faiss.IndexFlatL2(d)\n",
        "index.add(sentence_embeddings)"
      ],
      "metadata": {
        "id": "A_IkhytKSOrx"
      },
      "execution_count": null,
      "outputs": []
    },
    {
      "cell_type": "code",
      "source": [
        "index.is_trained"
      ],
      "metadata": {
        "id": "7aALliItSO4G",
        "colab": {
          "base_uri": "https://localhost:8080/"
        },
        "outputId": "f463f633-a5ef-4d3a-9dc9-8e694682ff87"
      },
      "execution_count": null,
      "outputs": [
        {
          "output_type": "execute_result",
          "data": {
            "text/plain": [
              "True"
            ]
          },
          "metadata": {},
          "execution_count": 174
        }
      ]
    },
    {
      "cell_type": "code",
      "source": [
        "index.ntotal"
      ],
      "metadata": {
        "id": "YHxBz1uXSThi",
        "colab": {
          "base_uri": "https://localhost:8080/"
        },
        "outputId": "1c512da2-732e-4742-9f33-e6eb87e053ce"
      },
      "execution_count": null,
      "outputs": [
        {
          "output_type": "execute_result",
          "data": {
            "text/plain": [
              "1492"
            ]
          },
          "metadata": {},
          "execution_count": 175
        }
      ]
    },
    {
      "cell_type": "markdown",
      "source": [
        "## Search function"
      ],
      "metadata": {
        "id": "efk7gEXaEBaI"
      }
    },
    {
      "cell_type": "markdown",
      "source": [
        "The search_faiss function takes a query and returns the top 5 hotels whose reviews match the closest to the query. It does so by encoding the query, searching the Faiss index for the k nearest neighbors to the query embedding, and then counting the occurrences of each hotel name among the k nearest neighbors. Finally, it sorts the hotels by their count and returns the top 5."
      ],
      "metadata": {
        "id": "HvZW8CkAUjk9"
      }
    },
    {
      "cell_type": "code",
      "source": [
        "import lda\n",
        "from sklearn.decomposition import LatentDirichletAllocation\n",
        "\n",
        "lda = LatentDirichletAllocation(n_components=10, random_state=42)\n",
        "lda.fit(topics_vectorizer)"
      ],
      "metadata": {
        "id": "7CEkQte1yzWl",
        "colab": {
          "base_uri": "https://localhost:8080/",
          "height": 75
        },
        "outputId": "3baa87e0-b8b7-41fa-c65e-45851e075ac8"
      },
      "execution_count": null,
      "outputs": [
        {
          "output_type": "execute_result",
          "data": {
            "text/plain": [
              "LatentDirichletAllocation(random_state=42)"
            ],
            "text/html": [
              "<style>#sk-container-id-4 {color: black;background-color: white;}#sk-container-id-4 pre{padding: 0;}#sk-container-id-4 div.sk-toggleable {background-color: white;}#sk-container-id-4 label.sk-toggleable__label {cursor: pointer;display: block;width: 100%;margin-bottom: 0;padding: 0.3em;box-sizing: border-box;text-align: center;}#sk-container-id-4 label.sk-toggleable__label-arrow:before {content: \"▸\";float: left;margin-right: 0.25em;color: #696969;}#sk-container-id-4 label.sk-toggleable__label-arrow:hover:before {color: black;}#sk-container-id-4 div.sk-estimator:hover label.sk-toggleable__label-arrow:before {color: black;}#sk-container-id-4 div.sk-toggleable__content {max-height: 0;max-width: 0;overflow: hidden;text-align: left;background-color: #f0f8ff;}#sk-container-id-4 div.sk-toggleable__content pre {margin: 0.2em;color: black;border-radius: 0.25em;background-color: #f0f8ff;}#sk-container-id-4 input.sk-toggleable__control:checked~div.sk-toggleable__content {max-height: 200px;max-width: 100%;overflow: auto;}#sk-container-id-4 input.sk-toggleable__control:checked~label.sk-toggleable__label-arrow:before {content: \"▾\";}#sk-container-id-4 div.sk-estimator input.sk-toggleable__control:checked~label.sk-toggleable__label {background-color: #d4ebff;}#sk-container-id-4 div.sk-label input.sk-toggleable__control:checked~label.sk-toggleable__label {background-color: #d4ebff;}#sk-container-id-4 input.sk-hidden--visually {border: 0;clip: rect(1px 1px 1px 1px);clip: rect(1px, 1px, 1px, 1px);height: 1px;margin: -1px;overflow: hidden;padding: 0;position: absolute;width: 1px;}#sk-container-id-4 div.sk-estimator {font-family: monospace;background-color: #f0f8ff;border: 1px dotted black;border-radius: 0.25em;box-sizing: border-box;margin-bottom: 0.5em;}#sk-container-id-4 div.sk-estimator:hover {background-color: #d4ebff;}#sk-container-id-4 div.sk-parallel-item::after {content: \"\";width: 100%;border-bottom: 1px solid gray;flex-grow: 1;}#sk-container-id-4 div.sk-label:hover label.sk-toggleable__label {background-color: #d4ebff;}#sk-container-id-4 div.sk-serial::before {content: \"\";position: absolute;border-left: 1px solid gray;box-sizing: border-box;top: 0;bottom: 0;left: 50%;z-index: 0;}#sk-container-id-4 div.sk-serial {display: flex;flex-direction: column;align-items: center;background-color: white;padding-right: 0.2em;padding-left: 0.2em;position: relative;}#sk-container-id-4 div.sk-item {position: relative;z-index: 1;}#sk-container-id-4 div.sk-parallel {display: flex;align-items: stretch;justify-content: center;background-color: white;position: relative;}#sk-container-id-4 div.sk-item::before, #sk-container-id-4 div.sk-parallel-item::before {content: \"\";position: absolute;border-left: 1px solid gray;box-sizing: border-box;top: 0;bottom: 0;left: 50%;z-index: -1;}#sk-container-id-4 div.sk-parallel-item {display: flex;flex-direction: column;z-index: 1;position: relative;background-color: white;}#sk-container-id-4 div.sk-parallel-item:first-child::after {align-self: flex-end;width: 50%;}#sk-container-id-4 div.sk-parallel-item:last-child::after {align-self: flex-start;width: 50%;}#sk-container-id-4 div.sk-parallel-item:only-child::after {width: 0;}#sk-container-id-4 div.sk-dashed-wrapped {border: 1px dashed gray;margin: 0 0.4em 0.5em 0.4em;box-sizing: border-box;padding-bottom: 0.4em;background-color: white;}#sk-container-id-4 div.sk-label label {font-family: monospace;font-weight: bold;display: inline-block;line-height: 1.2em;}#sk-container-id-4 div.sk-label-container {text-align: center;}#sk-container-id-4 div.sk-container {/* jupyter's `normalize.less` sets `[hidden] { display: none; }` but bootstrap.min.css set `[hidden] { display: none !important; }` so we also need the `!important` here to be able to override the default hidden behavior on the sphinx rendered scikit-learn.org. See: https://github.com/scikit-learn/scikit-learn/issues/21755 */display: inline-block !important;position: relative;}#sk-container-id-4 div.sk-text-repr-fallback {display: none;}</style><div id=\"sk-container-id-4\" class=\"sk-top-container\"><div class=\"sk-text-repr-fallback\"><pre>LatentDirichletAllocation(random_state=42)</pre><b>In a Jupyter environment, please rerun this cell to show the HTML representation or trust the notebook. <br />On GitHub, the HTML representation is unable to render, please try loading this page with nbviewer.org.</b></div><div class=\"sk-container\" hidden><div class=\"sk-item\"><div class=\"sk-estimator sk-toggleable\"><input class=\"sk-toggleable__control sk-hidden--visually\" id=\"sk-estimator-id-4\" type=\"checkbox\" checked><label for=\"sk-estimator-id-4\" class=\"sk-toggleable__label sk-toggleable__label-arrow\">LatentDirichletAllocation</label><div class=\"sk-toggleable__content\"><pre>LatentDirichletAllocation(random_state=42)</pre></div></div></div></div></div>"
            ]
          },
          "metadata": {},
          "execution_count": 226
        }
      ]
    },
    {
      "cell_type": "code",
      "source": [
        "\n",
        "hotel_names = df_reviews_faiss['hotel_name'].tolist()\n",
        "hotel_indices = {hotel: i for i, hotel in enumerate(hotel_names)}\n",
        "\n",
        "def search_hotels_faiss(query):\n",
        "    # preprocess the query\n",
        "    query_doc = nlp(query)\n",
        "    query_clean = ' '.join([token.lemma_ for token in query_doc if token.pos_ in ['NOUN', 'VERB', 'ADJ']])\n",
        "\n",
        "    # encode query into sentence embedding\n",
        "    query_embedding = model.encode([query_clean])\n",
        "\n",
        "    # search for similar hotels using Faiss\n",
        "    k = 10\n",
        "    D, I = index.search(query_embedding, k) #searches for the k nearest neighbors of the query embedding in the index\n",
        "    # print(f\"distances between the query vector : {D}\")\n",
        "    # print(f\"closest vectors in the index : {I}\")\n",
        "    hotel_scores = {}\n",
        "    hotel_topics = {}\n",
        "    valid_indices = min(len(I[0]), k)\n",
        "    for i in range(valid_indices):      \n",
        "      # hotel_names = index of each hotel name corresponds to its index in the sentence_embeddings array that was used to build the index.\n",
        "      # In the for loop, for each of the k nearest neighbors returned by the index search, we retrieve the corresponding hotel name using \n",
        "      # hotel_names[I[0][i]]. The I[0][i] part retrieves the index of the i-th nearest neighbor from the I array, \n",
        "      # and then hotel_names[I[0][i]] retrieves the hotel name corresponding to that index from the hotel_names list.    \n",
        "        hotel = hotel_names[I[0][i]]\n",
        "        # get the corresponding topic/keyword for the current hotel\n",
        "        topic = df_reviews_faiss['topics'][I[0][i]]\n",
        "        if hotel in hotel_scores:\n",
        "            hotel_scores[hotel] += D[0][i]  # accumulate cosine similarity scores\n",
        "            hotel_topics[hotel] += topic\n",
        "        else:\n",
        "            hotel_scores[hotel] = D[0][i]\n",
        "            hotel_topics[hotel] = topic\n",
        "\n",
        "    # get the top 5 matching keywords/topics and their scores\n",
        "    top_hotels = sorted(hotel_scores.items(), key=lambda x: x[1], reverse=True)[:5]\n",
        "\n",
        "    # get the corresponding topic/keyword for the current hotel\n",
        "    for i, (hotel, score) in enumerate(top_hotels):\n",
        "        topic = hotel_topics[hotel]\n",
        "        top_hotels[i] = {'Hotel': hotel, 'Match Score': score, \"Matching reviews'-keywords\" : topic}\n",
        "    return top_hotels"
      ],
      "metadata": {
        "id": "4tY6yJYnNgPm"
      },
      "execution_count": null,
      "outputs": []
    },
    {
      "cell_type": "code",
      "source": [
        "def print_top_hotels(query):\n",
        "    top_hotels = search_hotels_faiss(query)\n",
        "    # print(top_hotels)\n",
        "    df = pd.DataFrame(top_hotels)\n",
        "    df = df.reset_index()\n",
        "    df['index'] = df['index'] + 1\n",
        "    df = df.rename(columns={'index': 'Rank'})\n",
        "    df = df.set_index('Rank')\n",
        "    # Set display options to adjust column width and wrap text\n",
        "    pd.set_option('display.max_colwidth', 100)\n",
        "    pd.set_option('display.max_columns', 1)\n",
        "\n",
        "    # Create a Styler object with left-aligned header\n",
        "    styled_df = (df.style.set_properties(**{'width': '12cm'})\n",
        "                          # .set_properties(subset=[c for c in df.columns if c != 'Topic'], width='auto')\n",
        "                          .set_properties(subset=[c for c in df.columns if c != 'Topic'], width='auto', **{'text-align': 'left'})\n",
        "                          .set_table_styles([{'selector': 'th', 'props': [('text-align', 'left')]}]))\n",
        "                      \n",
        "    # Display the styled DataFrame\n",
        "    display(styled_df)\n",
        "\n",
        "    # return df"
      ],
      "metadata": {
        "id": "leV2MytNXlEy"
      },
      "execution_count": null,
      "outputs": []
    },
    {
      "cell_type": "markdown",
      "source": [
        "## Examples"
      ],
      "metadata": {
        "id": "OyoWOghyXbGJ"
      }
    },
    {
      "cell_type": "markdown",
      "source": [
        "### Example1"
      ],
      "metadata": {
        "id": "vRtMgF8hX09V"
      }
    },
    {
      "cell_type": "code",
      "source": [
        "print_top_hotels(\"clean Hotel with free breakfast\")"
      ],
      "metadata": {
        "id": "aXdxK3OHOzIf",
        "colab": {
          "base_uri": "https://localhost:8080/",
          "height": 359
        },
        "outputId": "c6ec65a4-5651-46a0-da63-4ef3b0dc8850"
      },
      "execution_count": null,
      "outputs": [
        {
          "output_type": "display_data",
          "data": {
            "text/plain": [
              "<pandas.io.formats.style.Styler at 0x7f754c9e3ac0>"
            ],
            "text/html": [
              "<style type=\"text/css\">\n",
              "#T_43ca2 th {\n",
              "  text-align: left;\n",
              "}\n",
              "#T_43ca2_row0_col0, #T_43ca2_row0_col1, #T_43ca2_row0_col2, #T_43ca2_row1_col0, #T_43ca2_row1_col1, #T_43ca2_row1_col2, #T_43ca2_row2_col0, #T_43ca2_row2_col1, #T_43ca2_row2_col2, #T_43ca2_row3_col0, #T_43ca2_row3_col1, #T_43ca2_row3_col2, #T_43ca2_row4_col0, #T_43ca2_row4_col1, #T_43ca2_row4_col2 {\n",
              "  width: 12cm;\n",
              "  width: auto;\n",
              "  text-align: left;\n",
              "}\n",
              "</style>\n",
              "<table id=\"T_43ca2\" class=\"dataframe\">\n",
              "  <thead>\n",
              "    <tr>\n",
              "      <th class=\"blank level0\" >&nbsp;</th>\n",
              "      <th id=\"T_43ca2_level0_col0\" class=\"col_heading level0 col0\" >Hotel</th>\n",
              "      <th id=\"T_43ca2_level0_col1\" class=\"col_heading level0 col1\" >Match Score</th>\n",
              "      <th id=\"T_43ca2_level0_col2\" class=\"col_heading level0 col2\" >Matching reviews'-keywords</th>\n",
              "    </tr>\n",
              "    <tr>\n",
              "      <th class=\"index_name level0\" >Rank</th>\n",
              "      <th class=\"blank col0\" >&nbsp;</th>\n",
              "      <th class=\"blank col1\" >&nbsp;</th>\n",
              "      <th class=\"blank col2\" >&nbsp;</th>\n",
              "    </tr>\n",
              "  </thead>\n",
              "  <tbody>\n",
              "    <tr>\n",
              "      <th id=\"T_43ca2_level0_row0\" class=\"row_heading level0 row0\" >1</th>\n",
              "      <td id=\"T_43ca2_row0_col0\" class=\"data row0 col0\" >Hotel Cecilia Paris</td>\n",
              "      <td id=\"T_43ca2_row0_col1\" class=\"data row0 col1\" >795.343384</td>\n",
              "      <td id=\"T_43ca2_row0_col2\" class=\"data row0 col2\" >hotel ( pleasant , staff ) ( excellent , breakfast ) ( fresh , room ) ( clean , room ) ( simple , bit ) ( standard , bit ) ( european , bit ) water ( warm , time )staff location ( nice , breakfast ) ( short , room ) letoile room ( nice , size ) bath ( comfortable , wifi ) wifi ( effective , wifi ) ( free , wifi )hotel ( nice , staff ) arc ( close , champselysee ) ( cooperative , champselysee ) ( friendly , champselysee ) breakfast ( good , freind ) return</td>\n",
              "    </tr>\n",
              "    <tr>\n",
              "      <th id=\"T_43ca2_level0_row1\" class=\"row_heading level0 row1\" >2</th>\n",
              "      <td id=\"T_43ca2_row1_col0\" class=\"data row1 col0\" >Maison Astor Paris, Curio Collection by Hilton</td>\n",
              "      <td id=\"T_43ca2_row1_col1\" class=\"data row1 col1\" >530.463135</td>\n",
              "      <td id=\"T_43ca2_row1_col2\" class=\"data row1 col2\" >( small , room ) ( little , bit ) bed atmosphere ( sweet , staff ) ( friendly , breakfast ) ( free , breakfast ) ( excellent , breakfast )hotel ( eleglant , breakfast ) ( comfortable , breakfast ) ( excellent , location ) ( comfortable , location ) ( quiet , location ) ( great , location ) ( less , mile ) triumph ( comfortable , staff ) ( helpful , staff )</td>\n",
              "    </tr>\n",
              "    <tr>\n",
              "      <th id=\"T_43ca2_level0_row2\" class=\"row_heading level0 row2\" >3</th>\n",
              "      <td id=\"T_43ca2_row2_col0\" class=\"data row2 col0\" >Hotel Westside Arc de Triomphe</td>\n",
              "      <td id=\"T_43ca2_row2_col1\" class=\"data row2 col1\" >265.708344</td>\n",
              "      <td id=\"T_43ca2_row2_col2\" class=\"data row2 col2\" >hotel staff ( pleasant , location ) location ( friendly , station ) ( good , station ) ( quiet , place ) ( good , value ) money breakfast spa ( bountiful , area ) ( reasonable , area ) ( small , pool ) chance</td>\n",
              "    </tr>\n",
              "    <tr>\n",
              "      <th id=\"T_43ca2_level0_row3\" class=\"row_heading level0 row3\" >4</th>\n",
              "      <td id=\"T_43ca2_row3_col0\" class=\"data row3 col0\" >Hotel du College de France</td>\n",
              "      <td id=\"T_43ca2_row3_col1\" class=\"data row3 col1\" >265.667664</td>\n",
              "      <td id=\"T_43ca2_row3_col2\" class=\"data row3 col2\" >people base ( excellent , visit ) ( affordable , price ) heart ( quarti , minute ) street ( quiet , staff ) ( cordial , room ) ( supportive , room ) ( maximum , use ) space ( large , window ) lot ( good , breakfast )</td>\n",
              "    </tr>\n",
              "    <tr>\n",
              "      <th id=\"T_43ca2_level0_row4\" class=\"row_heading level0 row4\" >5</th>\n",
              "      <td id=\"T_43ca2_row4_col0\" class=\"data row4 col0\" >Les3chambres</td>\n",
              "      <td id=\"T_43ca2_row4_col1\" class=\"data row4 col1\" >265.642700</td>\n",
              "      <td id=\"T_43ca2_row4_col2\" class=\"data row4 col2\" >( wonderful , discovery ) ( warm , welcome ) ( beautiful , surrounding ) attention breakfast ( amazing , place ) ( detailand , place ) ( wonderful , place ) atmosphere ( great , place ) sightseeing sight laurent</td>\n",
              "    </tr>\n",
              "  </tbody>\n",
              "</table>\n"
            ]
          },
          "metadata": {}
        }
      ]
    },
    {
      "cell_type": "markdown",
      "source": [
        "### Example2"
      ],
      "metadata": {
        "id": "mHzSJ6RjX38B"
      }
    },
    {
      "cell_type": "code",
      "source": [
        "print_top_hotels(\"Hotel for business meetings, near eiffel tower\")"
      ],
      "metadata": {
        "id": "fF3Y2IrZX38C",
        "colab": {
          "base_uri": "https://localhost:8080/",
          "height": 394
        },
        "outputId": "9b18748c-decf-4fdd-87fd-2c6421487c3e"
      },
      "execution_count": null,
      "outputs": [
        {
          "output_type": "display_data",
          "data": {
            "text/plain": [
              "<pandas.io.formats.style.Styler at 0x7f7553931670>"
            ],
            "text/html": [
              "<style type=\"text/css\">\n",
              "#T_514af th {\n",
              "  text-align: left;\n",
              "}\n",
              "#T_514af_row0_col0, #T_514af_row0_col1, #T_514af_row0_col2, #T_514af_row1_col0, #T_514af_row1_col1, #T_514af_row1_col2, #T_514af_row2_col0, #T_514af_row2_col1, #T_514af_row2_col2, #T_514af_row3_col0, #T_514af_row3_col1, #T_514af_row3_col2, #T_514af_row4_col0, #T_514af_row4_col1, #T_514af_row4_col2 {\n",
              "  width: 12cm;\n",
              "  width: auto;\n",
              "  text-align: left;\n",
              "}\n",
              "</style>\n",
              "<table id=\"T_514af\" class=\"dataframe\">\n",
              "  <thead>\n",
              "    <tr>\n",
              "      <th class=\"blank level0\" >&nbsp;</th>\n",
              "      <th id=\"T_514af_level0_col0\" class=\"col_heading level0 col0\" >Hotel</th>\n",
              "      <th id=\"T_514af_level0_col1\" class=\"col_heading level0 col1\" >Match Score</th>\n",
              "      <th id=\"T_514af_level0_col2\" class=\"col_heading level0 col2\" >Matching reviews'-keywords</th>\n",
              "    </tr>\n",
              "    <tr>\n",
              "      <th class=\"index_name level0\" >Rank</th>\n",
              "      <th class=\"blank col0\" >&nbsp;</th>\n",
              "      <th class=\"blank col1\" >&nbsp;</th>\n",
              "      <th class=\"blank col2\" >&nbsp;</th>\n",
              "    </tr>\n",
              "  </thead>\n",
              "  <tbody>\n",
              "    <tr>\n",
              "      <th id=\"T_514af_level0_row0\" class=\"row_heading level0 row0\" >1</th>\n",
              "      <td id=\"T_514af_row0_col0\" class=\"data row0 col0\" >Hyatt Regency Paris Etoile</td>\n",
              "      <td id=\"T_514af_row0_col1\" class=\"data row0 col1\" >1300.655029</td>\n",
              "      <td id=\"T_514af_row0_col2\" class=\"data row0 col2\" >view eiffel tower ( close , restaurant ) triomphe breakfast hotel champagne bar windo topconvinient place hotel business meeting room facility ( sufficient , room ) view eifle ( great , tower ) biz tripway hotel building city breakfast ( good , room ) bit ( small , size ) room view eiffel towerconference refurbishment year lobby room hour flight pm room room eiffel tower location ( great , restaurant ) catch conference ( nice , concierge ) desk staff ( present , room ) card lobby ( bottled , water ) ( european , hotel ) toothbrushroom remodeledso drawback room room ( smallsome , eiffel ) towerlobby ( greatgood , recommendation ) metro station block street business pleasureelevator floor keypad lobby screen elevator lobbywe use lobby ( available , resturant )</td>\n",
              "    </tr>\n",
              "    <tr>\n",
              "      <th id=\"T_514af_level0_row1\" class=\"row_heading level0 row1\" >2</th>\n",
              "      <td id=\"T_514af_row1_col0\" class=\"data row1 col0\" >Hotel d'Argenson</td>\n",
              "      <td id=\"T_514af_row1_col1\" class=\"data row1 col1\" >523.251282</td>\n",
              "      <td id=\"T_514af_row1_col2\" class=\"data row1 col2\" >hotel ( great , location ) distance champ ( major , attraction ) hotel ( great , room )hotel ( average , room ) ( interior , receptionist ) ( wonderful , note ) traveler ( many , hotel ) ( parisian , hotel ) elevator ( small , wife ) ( tough , time ) elevator carryon baggage</td>\n",
              "    </tr>\n",
              "    <tr>\n",
              "      <th id=\"T_514af_level0_row2\" class=\"row_heading level0 row2\" >3</th>\n",
              "      <td id=\"T_514af_row2_col0\" class=\"data row2 col0\" >Holiday Inn Express Paris-Canal de la Villette</td>\n",
              "      <td id=\"T_514af_row2_col1\" class=\"data row2 col1\" >261.500793</td>\n",
              "      <td id=\"T_514af_row2_col2\" class=\"data row2 col2\" >hotel ( beautiful , floor ) ( many , floor ) hotel ( available , hotel ) area ( many , area ) ( big , area ) ( many , people ) hotel service man hall</td>\n",
              "    </tr>\n",
              "    <tr>\n",
              "      <th id=\"T_514af_level0_row3\" class=\"row_heading level0 row3\" >4</th>\n",
              "      <td id=\"T_514af_row3_col0\" class=\"data row3 col0\" >Hotel du Quai-Voltaire</td>\n",
              "      <td id=\"T_514af_row3_col1\" class=\"data row3 col1\" >261.170624</td>\n",
              "      <td id=\"T_514af_row3_col2\" class=\"data row3 col2\" >hotel eiffel tower river room room air ( negative , conditioner ) bed furniture floor carpet ( old , place ) ( modest , place )</td>\n",
              "    </tr>\n",
              "    <tr>\n",
              "      <th id=\"T_514af_level0_row4\" class=\"row_heading level0 row4\" >5</th>\n",
              "      <td id=\"T_514af_row4_col0\" class=\"data row4 col0\" >Novotel Paris Centre Gare Montparnasse</td>\n",
              "      <td id=\"T_514af_row4_col1\" class=\"data row4 col1\" >261.080933</td>\n",
              "      <td id=\"T_514af_row4_col2\" class=\"data row4 col2\" >hotel gare montparnasse ( close , station ) day trip station ( early , morning ) hotel room walk eiffel tower ( spacious , minute ) night decoration ( scary , hotel )</td>\n",
              "    </tr>\n",
              "  </tbody>\n",
              "</table>\n"
            ]
          },
          "metadata": {}
        }
      ]
    },
    {
      "cell_type": "markdown",
      "source": [
        "### Example3"
      ],
      "metadata": {
        "id": "kRzfwp3kX4GZ"
      }
    },
    {
      "cell_type": "code",
      "source": [
        "print_top_hotels(\"beautiful view for a romantic proposal\")"
      ],
      "metadata": {
        "id": "x3TJ6s2OX4Ga",
        "colab": {
          "base_uri": "https://localhost:8080/",
          "height": 307
        },
        "outputId": "9478171c-7d51-4eeb-c642-b6532704de20"
      },
      "execution_count": null,
      "outputs": [
        {
          "output_type": "display_data",
          "data": {
            "text/plain": [
              "<pandas.io.formats.style.Styler at 0x7f755472b5e0>"
            ],
            "text/html": [
              "<style type=\"text/css\">\n",
              "#T_b6803 th {\n",
              "  text-align: left;\n",
              "}\n",
              "#T_b6803_row0_col0, #T_b6803_row0_col1, #T_b6803_row0_col2, #T_b6803_row1_col0, #T_b6803_row1_col1, #T_b6803_row1_col2, #T_b6803_row2_col0, #T_b6803_row2_col1, #T_b6803_row2_col2, #T_b6803_row3_col0, #T_b6803_row3_col1, #T_b6803_row3_col2, #T_b6803_row4_col0, #T_b6803_row4_col1, #T_b6803_row4_col2 {\n",
              "  width: 12cm;\n",
              "  width: auto;\n",
              "  text-align: left;\n",
              "}\n",
              "</style>\n",
              "<table id=\"T_b6803\" class=\"dataframe\">\n",
              "  <thead>\n",
              "    <tr>\n",
              "      <th class=\"blank level0\" >&nbsp;</th>\n",
              "      <th id=\"T_b6803_level0_col0\" class=\"col_heading level0 col0\" >Hotel</th>\n",
              "      <th id=\"T_b6803_level0_col1\" class=\"col_heading level0 col1\" >Match Score</th>\n",
              "      <th id=\"T_b6803_level0_col2\" class=\"col_heading level0 col2\" >Matching reviews'-keywords</th>\n",
              "    </tr>\n",
              "    <tr>\n",
              "      <th class=\"index_name level0\" >Rank</th>\n",
              "      <th class=\"blank col0\" >&nbsp;</th>\n",
              "      <th class=\"blank col1\" >&nbsp;</th>\n",
              "      <th class=\"blank col2\" >&nbsp;</th>\n",
              "    </tr>\n",
              "  </thead>\n",
              "  <tbody>\n",
              "    <tr>\n",
              "      <th id=\"T_b6803_level0_row0\" class=\"row_heading level0 row0\" >1</th>\n",
              "      <td id=\"T_b6803_row0_col0\" class=\"data row0 col0\" >Hotel Cecilia Paris</td>\n",
              "      <td id=\"T_b6803_row0_col1\" class=\"data row0 col1\" >553.466675</td>\n",
              "      <td id=\"T_b6803_row0_col2\" class=\"data row0 col2\" >honeymoon hotel cecilia request ( nice , view ) ( good , view ) location ( lovely , boutique ) hotel ( small , hotel ) ( spectacularwe , sayalthough ) check ( perfect , pm ) check ( great , service )hotel boutique hotel ( cut , view ) ( clean , view ) ( helpful , location ) ( well , place ) hotel cecilia</td>\n",
              "    </tr>\n",
              "    <tr>\n",
              "      <th id=\"T_b6803_level0_row1\" class=\"row_heading level0 row1\" >2</th>\n",
              "      <td id=\"T_b6803_row1_col0\" class=\"data row1 col0\" >Hotel d'Argenson</td>\n",
              "      <td id=\"T_b6803_row1_col1\" class=\"data row1 col1\" >278.394287</td>\n",
              "      <td id=\"T_b6803_row1_col2\" class=\"data row1 col2\" >hotel ( great , location ) distance champ ( major , attraction ) hotel ( great , room )</td>\n",
              "    </tr>\n",
              "    <tr>\n",
              "      <th id=\"T_b6803_level0_row2\" class=\"row_heading level0 row2\" >3</th>\n",
              "      <td id=\"T_b6803_row2_col0\" class=\"data row2 col0\" >Hotel Louvre Bons Enfants</td>\n",
              "      <td id=\"T_b6803_row2_col1\" class=\"data row2 col1\" >278.297577</td>\n",
              "      <td id=\"T_b6803_row2_col2\" class=\"data row2 col2\" >( great , room ) ( small , room ) ( good , option ) day ( principal , spot ) room ( good , location )</td>\n",
              "    </tr>\n",
              "    <tr>\n",
              "      <th id=\"T_b6803_level0_row3\" class=\"row_heading level0 row3\" >4</th>\n",
              "      <td id=\"T_b6803_row3_col0\" class=\"data row3 col0\" >Hotel Westside Arc de Triomphe</td>\n",
              "      <td id=\"T_b6803_row3_col1\" class=\"data row3 col1\" >278.133057</td>\n",
              "      <td id=\"T_b6803_row3_col2\" class=\"data row3 col2\" >( small , hotel ) champsélysées ( close , facility ) ( basic , facility ) ( helpful , staff ) ( pleasant , value ) ( decent , value ) ( excellent , neighbourhood )</td>\n",
              "    </tr>\n",
              "    <tr>\n",
              "      <th id=\"T_b6803_level0_row4\" class=\"row_heading level0 row4\" >5</th>\n",
              "      <td id=\"T_b6803_row4_col0\" class=\"data row4 col0\" >Hotel du Haut Marais</td>\n",
              "      <td id=\"T_b6803_row4_col1\" class=\"data row4 col1\" >277.565887</td>\n",
              "      <td id=\"T_b6803_row4_col2\" class=\"data row4 col2\" >hotel location ( fantastic , heart ) ( right , heart ) pasqualine ( friendly , apartment ) ( helpful , apartment ) ( perfect , stay )</td>\n",
              "    </tr>\n",
              "  </tbody>\n",
              "</table>\n"
            ]
          },
          "metadata": {}
        }
      ]
    },
    {
      "cell_type": "markdown",
      "source": [
        "### Example4"
      ],
      "metadata": {
        "id": "-y9f7F1pX4bF"
      }
    },
    {
      "cell_type": "code",
      "source": [
        "print_top_hotels(\"luxury hotel with swimming pool and balcony, near beach\")"
      ],
      "metadata": {
        "id": "Zs4EosuWX4bF",
        "colab": {
          "base_uri": "https://localhost:8080/",
          "height": 376
        },
        "outputId": "566b2731-7630-4713-9ee8-c43fc4c85cf3"
      },
      "execution_count": null,
      "outputs": [
        {
          "output_type": "display_data",
          "data": {
            "text/plain": [
              "<pandas.io.formats.style.Styler at 0x7f754c96c250>"
            ],
            "text/html": [
              "<style type=\"text/css\">\n",
              "#T_4c2ab th {\n",
              "  text-align: left;\n",
              "}\n",
              "#T_4c2ab_row0_col0, #T_4c2ab_row0_col1, #T_4c2ab_row0_col2, #T_4c2ab_row1_col0, #T_4c2ab_row1_col1, #T_4c2ab_row1_col2, #T_4c2ab_row2_col0, #T_4c2ab_row2_col1, #T_4c2ab_row2_col2, #T_4c2ab_row3_col0, #T_4c2ab_row3_col1, #T_4c2ab_row3_col2, #T_4c2ab_row4_col0, #T_4c2ab_row4_col1, #T_4c2ab_row4_col2 {\n",
              "  width: 12cm;\n",
              "  width: auto;\n",
              "  text-align: left;\n",
              "}\n",
              "</style>\n",
              "<table id=\"T_4c2ab\" class=\"dataframe\">\n",
              "  <thead>\n",
              "    <tr>\n",
              "      <th class=\"blank level0\" >&nbsp;</th>\n",
              "      <th id=\"T_4c2ab_level0_col0\" class=\"col_heading level0 col0\" >Hotel</th>\n",
              "      <th id=\"T_4c2ab_level0_col1\" class=\"col_heading level0 col1\" >Match Score</th>\n",
              "      <th id=\"T_4c2ab_level0_col2\" class=\"col_heading level0 col2\" >Matching reviews'-keywords</th>\n",
              "    </tr>\n",
              "    <tr>\n",
              "      <th class=\"index_name level0\" >Rank</th>\n",
              "      <th class=\"blank col0\" >&nbsp;</th>\n",
              "      <th class=\"blank col1\" >&nbsp;</th>\n",
              "      <th class=\"blank col2\" >&nbsp;</th>\n",
              "    </tr>\n",
              "  </thead>\n",
              "  <tbody>\n",
              "    <tr>\n",
              "      <th id=\"T_4c2ab_level0_row0\" class=\"row_heading level0 row0\" >1</th>\n",
              "      <td id=\"T_4c2ab_row0_col0\" class=\"data row0 col0\" >Hotel Westside Arc de Triomphe</td>\n",
              "      <td id=\"T_4c2ab_row0_col1\" class=\"data row0 col1\" >1090.479614</td>\n",
              "      <td id=\"T_4c2ab_row0_col2\" class=\"data row0 col2\" >team room ( great , room ) ( friendly , room ) location ( comfortable , breakfast ) ( good , pool ) ( complete , pool ) ( nice , pool ) ( specaial , thank ) team future repeat experiencelocation ( good , area ) hotel atmosphere staff use swimming ( cozy , pool ) ( friendly , pool ) ( lovely , restaurant ) ( many , area )size ( good , room ) price range bath ( hot , water ) ( good , staff ) breakfast ( friendly , pool ) ( lovely , pool ) ( lovely , pool ) day check ( late , hotel ) use facility taxi family ( wonderful , restaurant ) roadnight minute corner host ( wonderful , restaurant ) ( local , restaurant ) bar ( fabulous , room ) ( good , size ) ( large , room ) door bedroom shower room ( great , sharer )</td>\n",
              "    </tr>\n",
              "    <tr>\n",
              "      <th id=\"T_4c2ab_level0_row1\" class=\"row_heading level0 row1\" >2</th>\n",
              "      <td id=\"T_4c2ab_row1_col0\" class=\"data row1 col0\" >Hotel La Manufacture</td>\n",
              "      <td id=\"T_4c2ab_row1_col1\" class=\"data row1 col1\" >542.859985</td>\n",
              "      <td id=\"T_4c2ab_row1_col2\" class=\"data row1 col2\" >( fantastic , room ) ( spacious , show ) ( great , view ) night pool area sun ( attentive , staff ) food restaurant( lovely , room ) ( top , floor ) ( amazing , view ) hotel spot city ( romantic , city ) ( comfortable , city ) breakfast bed ( little , balcony )</td>\n",
              "    </tr>\n",
              "    <tr>\n",
              "      <th id=\"T_4c2ab_level0_row2\" class=\"row_heading level0 row2\" >3</th>\n",
              "      <td id=\"T_4c2ab_row2_col0\" class=\"data row2 col0\" >Hyatt Regency Paris Etoile</td>\n",
              "      <td id=\"T_4c2ab_row2_col1\" class=\"data row2 col1\" >273.487091</td>\n",
              "      <td id=\"T_4c2ab_row2_col2\" class=\"data row2 col2\" >trip wife birthday hotel experience friendliness staff ( complimentary , drink ) sky ( great , bar ) bar station minute hotel hotel</td>\n",
              "    </tr>\n",
              "    <tr>\n",
              "      <th id=\"T_4c2ab_level0_row3\" class=\"row_heading level0 row3\" >4</th>\n",
              "      <td id=\"T_4c2ab_row3_col0\" class=\"data row3 col0\" >Hotel d'Argenson</td>\n",
              "      <td id=\"T_4c2ab_row3_col1\" class=\"data row3 col1\" >273.458252</td>\n",
              "      <td id=\"T_4c2ab_row3_col2\" class=\"data row3 col2\" >hotel ( great , location ) distance champ ( major , attraction ) hotel ( great , room )</td>\n",
              "    </tr>\n",
              "    <tr>\n",
              "      <th id=\"T_4c2ab_level0_row4\" class=\"row_heading level0 row4\" >5</th>\n",
              "      <td id=\"T_4c2ab_row4_col0\" class=\"data row4 col0\" >Holiday Inn Express Paris-Canal de la Villette</td>\n",
              "      <td id=\"T_4c2ab_row4_col1\" class=\"data row4 col1\" >272.775208</td>\n",
              "      <td id=\"T_4c2ab_row4_col2\" class=\"data row4 col2\" >hotel ( functional , luxury ) brand ( clean , room ) ( top , floor ) balcony view canal location tourist view ( practical , metro ) side ( local , restaurant ) shop</td>\n",
              "    </tr>\n",
              "  </tbody>\n",
              "</table>\n"
            ]
          },
          "metadata": {}
        }
      ]
    },
    {
      "cell_type": "markdown",
      "source": [
        "### Example5"
      ],
      "metadata": {
        "id": "eNlPOYhvX4qM"
      }
    },
    {
      "cell_type": "code",
      "source": [
        "print_top_hotels(\"hotel near downtown\")"
      ],
      "metadata": {
        "id": "2ezTCjJdX4qN",
        "colab": {
          "base_uri": "https://localhost:8080/",
          "height": 324
        },
        "outputId": "32264c1a-9af8-478b-d682-e483f1837511"
      },
      "execution_count": null,
      "outputs": [
        {
          "output_type": "display_data",
          "data": {
            "text/plain": [
              "<pandas.io.formats.style.Styler at 0x7f754d047a00>"
            ],
            "text/html": [
              "<style type=\"text/css\">\n",
              "#T_bfce7 th {\n",
              "  text-align: left;\n",
              "}\n",
              "#T_bfce7_row0_col0, #T_bfce7_row0_col1, #T_bfce7_row0_col2, #T_bfce7_row1_col0, #T_bfce7_row1_col1, #T_bfce7_row1_col2, #T_bfce7_row2_col0, #T_bfce7_row2_col1, #T_bfce7_row2_col2, #T_bfce7_row3_col0, #T_bfce7_row3_col1, #T_bfce7_row3_col2, #T_bfce7_row4_col0, #T_bfce7_row4_col1, #T_bfce7_row4_col2 {\n",
              "  width: 12cm;\n",
              "  width: auto;\n",
              "  text-align: left;\n",
              "}\n",
              "</style>\n",
              "<table id=\"T_bfce7\" class=\"dataframe\">\n",
              "  <thead>\n",
              "    <tr>\n",
              "      <th class=\"blank level0\" >&nbsp;</th>\n",
              "      <th id=\"T_bfce7_level0_col0\" class=\"col_heading level0 col0\" >Hotel</th>\n",
              "      <th id=\"T_bfce7_level0_col1\" class=\"col_heading level0 col1\" >Match Score</th>\n",
              "      <th id=\"T_bfce7_level0_col2\" class=\"col_heading level0 col2\" >Matching reviews'-keywords</th>\n",
              "    </tr>\n",
              "    <tr>\n",
              "      <th class=\"index_name level0\" >Rank</th>\n",
              "      <th class=\"blank col0\" >&nbsp;</th>\n",
              "      <th class=\"blank col1\" >&nbsp;</th>\n",
              "      <th class=\"blank col2\" >&nbsp;</th>\n",
              "    </tr>\n",
              "  </thead>\n",
              "  <tbody>\n",
              "    <tr>\n",
              "      <th id=\"T_bfce7_level0_row0\" class=\"row_heading level0 row0\" >1</th>\n",
              "      <td id=\"T_bfce7_row0_col0\" class=\"data row0 col0\" >Holiday Inn Express Paris-Canal de la Villette</td>\n",
              "      <td id=\"T_bfce7_row0_col1\" class=\"data row0 col1\" >812.691772</td>\n",
              "      <td id=\"T_bfce7_row0_col2\" class=\"data row0 col2\" >hotel ( beautiful , floor ) ( many , floor ) hotel ( available , hotel ) area ( many , area ) ( big , area ) ( many , people ) hotel service man hallhotel location issue hotel neighborhood hotel ( perfect , hotel ) ( lovely , hotel ) ( bistro , shop ) ( ideal , town ) ( direct , town )holiday ( classic , standart ) herestaff ( available , room ) hotel reason</td>\n",
              "    </tr>\n",
              "    <tr>\n",
              "      <th id=\"T_bfce7_level0_row1\" class=\"row_heading level0 row1\" >2</th>\n",
              "      <td id=\"T_bfce7_row1_col0\" class=\"data row1 col0\" >Hyatt Regency Paris Etoile</td>\n",
              "      <td id=\"T_bfce7_row1_col1\" class=\"data row1 col1\" >539.109009</td>\n",
              "      <td id=\"T_bfce7_row1_col2\" class=\"data row1 col2\" >convinient place hotel business meeting room facility ( sufficient , room ) view eifle ( great , tower ) biz tripway hotel building city breakfast ( good , room ) bit ( small , size ) room view eiffel tower</td>\n",
              "    </tr>\n",
              "    <tr>\n",
              "      <th id=\"T_bfce7_level0_row2\" class=\"row_heading level0 row2\" >3</th>\n",
              "      <td id=\"T_bfce7_row2_col0\" class=\"data row2 col0\" >Niepce Paris Hotel, Curio Collection by Hilton</td>\n",
              "      <td id=\"T_bfce7_row2_col1\" class=\"data row2 col1\" >271.461945</td>\n",
              "      <td id=\"T_bfce7_row2_col2\" class=\"data row2 col2\" >hotel ( intimate , staff ) ( great , location ) ( great , neighborhood ) ( many , eatery ) ( great , eatery ) ( close , hotel ) city hotel ( amazing , luxury )</td>\n",
              "    </tr>\n",
              "    <tr>\n",
              "      <th id=\"T_bfce7_level0_row3\" class=\"row_heading level0 row3\" >4</th>\n",
              "      <td id=\"T_bfce7_row3_col0\" class=\"data row3 col0\" >Courtyard by Marriott Paris Gare de Lyon</td>\n",
              "      <td id=\"T_bfce7_row3_col1\" class=\"data row3 col1\" >271.184601</td>\n",
              "      <td id=\"T_bfce7_row3_col2\" class=\"data row3 col2\" >night friend hotel ( high , floor ) ( nice , view ) sacre ( friendly , room ) ( modern , style ) hotel ( close , gate ) lyon ( comfortable , lyon ) ( young , lyon )</td>\n",
              "    </tr>\n",
              "    <tr>\n",
              "      <th id=\"T_bfce7_level0_row4\" class=\"row_heading level0 row4\" >5</th>\n",
              "      <td id=\"T_bfce7_row4_col0\" class=\"data row4 col0\" >Hotel La Manufacture</td>\n",
              "      <td id=\"T_bfce7_row4_col1\" class=\"data row4 col1\" >269.467255</td>\n",
              "      <td id=\"T_bfce7_row4_col2\" class=\"data row4 col2\" >( nice , room ) confrot room ( good , price ) goodal staff room service hotel</td>\n",
              "    </tr>\n",
              "  </tbody>\n",
              "</table>\n"
            ]
          },
          "metadata": {}
        }
      ]
    },
    {
      "cell_type": "markdown",
      "source": [
        "# Learning and Reflection"
      ],
      "metadata": {
        "id": "OnxThXDfELcO"
      }
    },
    {
      "cell_type": "markdown",
      "source": [
        "* Reflect on the results of the clustering and search engine tasks and identify any limitations or challenges encountered.\n",
        "* Discuss the strengths and weaknesses of the approaches used and suggest potential improvements or alternative methods.\n",
        "* Reflect on the overall experience and what we have learned from the project."
      ],
      "metadata": {
        "id": "JNuCYoBIETym"
      }
    },
    {
      "cell_type": "markdown",
      "source": [
        "## Refllection on results\n",
        "\n",
        "- Clustering algorithm was able to cluster hotels based on keywords such as \"clean room\", \"good food\" etc. However it did not understand semantics well.\n",
        "- However our FAISS model is able to find relevant search results by matching cleaned review text with search query.\n",
        "- It understands semantics very well - for example, when our search query was \"near beach\", model was able to understand that we want a hotel that is near to waterbody and hence gave us search results with swimming pool and canal.\n",
        "- Topic Modelling and sentiment analysis help us in making better decisions about a particular hotel. For example if we search for \"free breakfast\", we might find relevant results but if the hotel's feedback are negative then we may not choose that hotel.\n"
      ],
      "metadata": {
        "id": "7TrpMzXjEYkK"
      }
    },
    {
      "cell_type": "markdown",
      "source": [
        "## Limitations or challenges\n",
        "\n",
        "- Clustering algrithm cannot match text based on semantics. For example if you search for \"good food\" and review text contains \"nice dinner\" - it won't be able to match those reviews.\n",
        "\n",
        "- Our sentiment analysis takes into account the entire text for calculating polarity. So, if review contains \"good food\" and \"bad ambience\" it nuetralises both sentences and gives overall sentiment score as neutral. This can be improved by implementing aspect of based opinion mining.\n",
        "\n",
        "- We can further optimise our algorithm for considering all the reviews of a particular hotel and further reducing dimensions to give more relevant results."
      ],
      "metadata": {
        "id": "CJhwd77SEdWj"
      }
    },
    {
      "cell_type": "markdown",
      "source": [
        "## Strengths and Weaknesses of the approaches\n",
        "\n",
        "- Our model is able to provide relevant search results and understand semantics.\n",
        "- Cleaning data based on POS tagging helps in removing unnecessary text and thus reduce data dimensions.\n",
        "- Topic Modelling helps in summarising the review text and enhances readability.\n",
        "- Sentiment analysis helps us in rating a particular hotel and thus making better decisions.\n",
        "- Our topic modelling still does not give great results because review text contains grammatical errors and broken language, thus we need to make our system tolerant against the same.\n",
        "- We can implement topic based opinion mining to get relevant sentiment for specific topics within the reveiw text."
      ],
      "metadata": {
        "id": "Fa34VSSoEgYS"
      }
    },
    {
      "cell_type": "markdown",
      "source": [
        "## Overall experience and Learnings"
      ],
      "metadata": {
        "id": "KiVRYbMXEmZb"
      }
    },
    {
      "cell_type": "markdown",
      "source": [
        "* Our project involves a wide range of techniques and tools related to NLP, machine learning, and data analysis. By working with a real-world dataset of Paris hotels and reviews, we were able to gain practical experience in applying these techniques and tools to solve a specific business problem.\n",
        "\n",
        "* One of the key learning points from this project is the importance of data preprocessing and cleaning. By removing duplicates, handling missing values, and extracting relevant information from the raw data, we are able to create a clean and structured dataset that could be used for further analysis and modeling. \n",
        "\n",
        "* Another important aspect of this project is the use of NLP techniques such as POS tagging and sentiment analysis. By analyzing the text data associated with each hotel review, we are able to identify key features and sentiments associated with each hotel, which could then be used to group similar hotels together and identify common themes. This can be useful for both customers and hotel owners, as it can provide insights into the key features and characteristics of each hotel and help guide decision-making related to hotel management and customer service.\n",
        "\n",
        "* Additionally, this project involves the use of machine learning techniques such as k-means clustering and PCA to identify groups of hotels with similar features and reduce the complexity of the feature space. By selecting an optimal value of k and examining the top words associated with each cluster, we are able to gain deeper insights into the key features and characteristics of each group of hotels.\n",
        "\n",
        "* Finally, building a search engine using FAISS can be a powerful way to enable users to search for hotels based on their specific requirements or preferences. By using BERT sentence embeddings to represent the meaning of each hotel review, the search engine can identify the closest matches to a user's query and return relevant results, improving the user experience and driving business for hotel owners.\n",
        "\n",
        "  Overall, this project provided valuable insights into the key features and characteristics of Paris hotels, demonstrating the potential of NLP and machine learning for solving business problems. It is an excellent opportunity to solidify our understanding of these essential concepts taught in this course.\n"
      ],
      "metadata": {
        "id": "6QJU3D90XUhH"
      }
    }
  ]
}